{
  "cells": [
    {
      "cell_type": "markdown",
      "source": [
        "**Carinsurancclaim_DATASET_3**"
      ],
      "metadata": {
        "id": "hjjIr6vuMFnm"
      }
    },
    {
      "cell_type": "code",
      "execution_count": 1,
      "metadata": {
        "colab": {
          "base_uri": "https://localhost:8080/"
        },
        "id": "VyWncqE-CfFB",
        "outputId": "738a3f2e-975b-41a1-9496-93b638be2ed5"
      },
      "outputs": [
        {
          "output_type": "stream",
          "name": "stdout",
          "text": [
            "Mounted at /content/gdrive\n"
          ]
        }
      ],
      "source": [
        "#Mount the data from cloud (I have used Google colab as my Jupyternote was crashing most of the time)\n",
        "from google.colab import drive\n",
        "drive.mount('/content/gdrive')"
      ]
    },
    {
      "cell_type": "code",
      "execution_count": 2,
      "metadata": {
        "id": "-LS5-baQCuqr"
      },
      "outputs": [],
      "source": [
        "#importing important libraries \n",
        "import numpy as np # linear algebra\n",
        "import pandas as pd # data processing, CSV file I/O (e.g. pd.read_csv)\n",
        "import seaborn as sns\n",
        "import matplotlib.pyplot as plt\n",
        "%matplotlib inline\n",
        "\n",
        "from sklearn.metrics import classification_report, accuracy_score\n",
        "from sklearn.metrics import mean_squared_error \n",
        "from sklearn.metrics import mean_absolute_error\n",
        "\n",
        "\n",
        "import seaborn as sns\n",
        "import matplotlib.pyplot  as plt"
      ]
    },
    {
      "cell_type": "code",
      "execution_count": 3,
      "metadata": {
        "colab": {
          "base_uri": "https://localhost:8080/",
          "height": 206
        },
        "id": "eYF-F2d4CwYn",
        "outputId": "8286c7ad-b8be-45f1-d93e-d1486158317b"
      },
      "outputs": [
        {
          "output_type": "execute_result",
          "data": {
            "text/plain": [
              "       ID    AGE  GENDER      RACE DRIVING_EXPERIENCE    EDUCATION  \\\n",
              "0  569520    65+  female  majority               0-9y  high school   \n",
              "1  750365  16-25    male  majority               0-9y         none   \n",
              "2  199901  16-25  female  majority               0-9y  high school   \n",
              "3  478866  16-25    male  majority               0-9y   university   \n",
              "4  731664  26-39    male  majority             10-19y         none   \n",
              "\n",
              "          INCOME  CREDIT_SCORE  VEHICLE_OWNERSHIP VEHICLE_YEAR  MARRIED  \\\n",
              "0    upper class      0.629027                1.0   after 2015      0.0   \n",
              "1        poverty      0.357757                0.0  before 2015      0.0   \n",
              "2  working class      0.493146                1.0  before 2015      0.0   \n",
              "3  working class      0.206013                1.0  before 2015      0.0   \n",
              "4  working class      0.388366                1.0  before 2015      0.0   \n",
              "\n",
              "   CHILDREN  POSTAL_CODE  ANNUAL_MILEAGE VEHICLE_TYPE  SPEEDING_VIOLATIONS  \\\n",
              "0       1.0        10238         12000.0        sedan                    0   \n",
              "1       0.0        10238         16000.0        sedan                    0   \n",
              "2       0.0        10238         11000.0        sedan                    0   \n",
              "3       1.0        32765         11000.0        sedan                    0   \n",
              "4       0.0        32765         12000.0        sedan                    2   \n",
              "\n",
              "   DUIS  PAST_ACCIDENTS  OUTCOME  \n",
              "0     0               0      0.0  \n",
              "1     0               0      1.0  \n",
              "2     0               0      0.0  \n",
              "3     0               0      0.0  \n",
              "4     0               1      1.0  "
            ],
            "text/html": [
              "\n",
              "  <div id=\"df-8827e966-5a74-4c23-80ef-c8816bb2a6e1\">\n",
              "    <div class=\"colab-df-container\">\n",
              "      <div>\n",
              "<style scoped>\n",
              "    .dataframe tbody tr th:only-of-type {\n",
              "        vertical-align: middle;\n",
              "    }\n",
              "\n",
              "    .dataframe tbody tr th {\n",
              "        vertical-align: top;\n",
              "    }\n",
              "\n",
              "    .dataframe thead th {\n",
              "        text-align: right;\n",
              "    }\n",
              "</style>\n",
              "<table border=\"1\" class=\"dataframe\">\n",
              "  <thead>\n",
              "    <tr style=\"text-align: right;\">\n",
              "      <th></th>\n",
              "      <th>ID</th>\n",
              "      <th>AGE</th>\n",
              "      <th>GENDER</th>\n",
              "      <th>RACE</th>\n",
              "      <th>DRIVING_EXPERIENCE</th>\n",
              "      <th>EDUCATION</th>\n",
              "      <th>INCOME</th>\n",
              "      <th>CREDIT_SCORE</th>\n",
              "      <th>VEHICLE_OWNERSHIP</th>\n",
              "      <th>VEHICLE_YEAR</th>\n",
              "      <th>MARRIED</th>\n",
              "      <th>CHILDREN</th>\n",
              "      <th>POSTAL_CODE</th>\n",
              "      <th>ANNUAL_MILEAGE</th>\n",
              "      <th>VEHICLE_TYPE</th>\n",
              "      <th>SPEEDING_VIOLATIONS</th>\n",
              "      <th>DUIS</th>\n",
              "      <th>PAST_ACCIDENTS</th>\n",
              "      <th>OUTCOME</th>\n",
              "    </tr>\n",
              "  </thead>\n",
              "  <tbody>\n",
              "    <tr>\n",
              "      <th>0</th>\n",
              "      <td>569520</td>\n",
              "      <td>65+</td>\n",
              "      <td>female</td>\n",
              "      <td>majority</td>\n",
              "      <td>0-9y</td>\n",
              "      <td>high school</td>\n",
              "      <td>upper class</td>\n",
              "      <td>0.629027</td>\n",
              "      <td>1.0</td>\n",
              "      <td>after 2015</td>\n",
              "      <td>0.0</td>\n",
              "      <td>1.0</td>\n",
              "      <td>10238</td>\n",
              "      <td>12000.0</td>\n",
              "      <td>sedan</td>\n",
              "      <td>0</td>\n",
              "      <td>0</td>\n",
              "      <td>0</td>\n",
              "      <td>0.0</td>\n",
              "    </tr>\n",
              "    <tr>\n",
              "      <th>1</th>\n",
              "      <td>750365</td>\n",
              "      <td>16-25</td>\n",
              "      <td>male</td>\n",
              "      <td>majority</td>\n",
              "      <td>0-9y</td>\n",
              "      <td>none</td>\n",
              "      <td>poverty</td>\n",
              "      <td>0.357757</td>\n",
              "      <td>0.0</td>\n",
              "      <td>before 2015</td>\n",
              "      <td>0.0</td>\n",
              "      <td>0.0</td>\n",
              "      <td>10238</td>\n",
              "      <td>16000.0</td>\n",
              "      <td>sedan</td>\n",
              "      <td>0</td>\n",
              "      <td>0</td>\n",
              "      <td>0</td>\n",
              "      <td>1.0</td>\n",
              "    </tr>\n",
              "    <tr>\n",
              "      <th>2</th>\n",
              "      <td>199901</td>\n",
              "      <td>16-25</td>\n",
              "      <td>female</td>\n",
              "      <td>majority</td>\n",
              "      <td>0-9y</td>\n",
              "      <td>high school</td>\n",
              "      <td>working class</td>\n",
              "      <td>0.493146</td>\n",
              "      <td>1.0</td>\n",
              "      <td>before 2015</td>\n",
              "      <td>0.0</td>\n",
              "      <td>0.0</td>\n",
              "      <td>10238</td>\n",
              "      <td>11000.0</td>\n",
              "      <td>sedan</td>\n",
              "      <td>0</td>\n",
              "      <td>0</td>\n",
              "      <td>0</td>\n",
              "      <td>0.0</td>\n",
              "    </tr>\n",
              "    <tr>\n",
              "      <th>3</th>\n",
              "      <td>478866</td>\n",
              "      <td>16-25</td>\n",
              "      <td>male</td>\n",
              "      <td>majority</td>\n",
              "      <td>0-9y</td>\n",
              "      <td>university</td>\n",
              "      <td>working class</td>\n",
              "      <td>0.206013</td>\n",
              "      <td>1.0</td>\n",
              "      <td>before 2015</td>\n",
              "      <td>0.0</td>\n",
              "      <td>1.0</td>\n",
              "      <td>32765</td>\n",
              "      <td>11000.0</td>\n",
              "      <td>sedan</td>\n",
              "      <td>0</td>\n",
              "      <td>0</td>\n",
              "      <td>0</td>\n",
              "      <td>0.0</td>\n",
              "    </tr>\n",
              "    <tr>\n",
              "      <th>4</th>\n",
              "      <td>731664</td>\n",
              "      <td>26-39</td>\n",
              "      <td>male</td>\n",
              "      <td>majority</td>\n",
              "      <td>10-19y</td>\n",
              "      <td>none</td>\n",
              "      <td>working class</td>\n",
              "      <td>0.388366</td>\n",
              "      <td>1.0</td>\n",
              "      <td>before 2015</td>\n",
              "      <td>0.0</td>\n",
              "      <td>0.0</td>\n",
              "      <td>32765</td>\n",
              "      <td>12000.0</td>\n",
              "      <td>sedan</td>\n",
              "      <td>2</td>\n",
              "      <td>0</td>\n",
              "      <td>1</td>\n",
              "      <td>1.0</td>\n",
              "    </tr>\n",
              "  </tbody>\n",
              "</table>\n",
              "</div>\n",
              "      <button class=\"colab-df-convert\" onclick=\"convertToInteractive('df-8827e966-5a74-4c23-80ef-c8816bb2a6e1')\"\n",
              "              title=\"Convert this dataframe to an interactive table.\"\n",
              "              style=\"display:none;\">\n",
              "        \n",
              "  <svg xmlns=\"http://www.w3.org/2000/svg\" height=\"24px\"viewBox=\"0 0 24 24\"\n",
              "       width=\"24px\">\n",
              "    <path d=\"M0 0h24v24H0V0z\" fill=\"none\"/>\n",
              "    <path d=\"M18.56 5.44l.94 2.06.94-2.06 2.06-.94-2.06-.94-.94-2.06-.94 2.06-2.06.94zm-11 1L8.5 8.5l.94-2.06 2.06-.94-2.06-.94L8.5 2.5l-.94 2.06-2.06.94zm10 10l.94 2.06.94-2.06 2.06-.94-2.06-.94-.94-2.06-.94 2.06-2.06.94z\"/><path d=\"M17.41 7.96l-1.37-1.37c-.4-.4-.92-.59-1.43-.59-.52 0-1.04.2-1.43.59L10.3 9.45l-7.72 7.72c-.78.78-.78 2.05 0 2.83L4 21.41c.39.39.9.59 1.41.59.51 0 1.02-.2 1.41-.59l7.78-7.78 2.81-2.81c.8-.78.8-2.07 0-2.86zM5.41 20L4 18.59l7.72-7.72 1.47 1.35L5.41 20z\"/>\n",
              "  </svg>\n",
              "      </button>\n",
              "      \n",
              "  <style>\n",
              "    .colab-df-container {\n",
              "      display:flex;\n",
              "      flex-wrap:wrap;\n",
              "      gap: 12px;\n",
              "    }\n",
              "\n",
              "    .colab-df-convert {\n",
              "      background-color: #E8F0FE;\n",
              "      border: none;\n",
              "      border-radius: 50%;\n",
              "      cursor: pointer;\n",
              "      display: none;\n",
              "      fill: #1967D2;\n",
              "      height: 32px;\n",
              "      padding: 0 0 0 0;\n",
              "      width: 32px;\n",
              "    }\n",
              "\n",
              "    .colab-df-convert:hover {\n",
              "      background-color: #E2EBFA;\n",
              "      box-shadow: 0px 1px 2px rgba(60, 64, 67, 0.3), 0px 1px 3px 1px rgba(60, 64, 67, 0.15);\n",
              "      fill: #174EA6;\n",
              "    }\n",
              "\n",
              "    [theme=dark] .colab-df-convert {\n",
              "      background-color: #3B4455;\n",
              "      fill: #D2E3FC;\n",
              "    }\n",
              "\n",
              "    [theme=dark] .colab-df-convert:hover {\n",
              "      background-color: #434B5C;\n",
              "      box-shadow: 0px 1px 3px 1px rgba(0, 0, 0, 0.15);\n",
              "      filter: drop-shadow(0px 1px 2px rgba(0, 0, 0, 0.3));\n",
              "      fill: #FFFFFF;\n",
              "    }\n",
              "  </style>\n",
              "\n",
              "      <script>\n",
              "        const buttonEl =\n",
              "          document.querySelector('#df-8827e966-5a74-4c23-80ef-c8816bb2a6e1 button.colab-df-convert');\n",
              "        buttonEl.style.display =\n",
              "          google.colab.kernel.accessAllowed ? 'block' : 'none';\n",
              "\n",
              "        async function convertToInteractive(key) {\n",
              "          const element = document.querySelector('#df-8827e966-5a74-4c23-80ef-c8816bb2a6e1');\n",
              "          const dataTable =\n",
              "            await google.colab.kernel.invokeFunction('convertToInteractive',\n",
              "                                                     [key], {});\n",
              "          if (!dataTable) return;\n",
              "\n",
              "          const docLinkHtml = 'Like what you see? Visit the ' +\n",
              "            '<a target=\"_blank\" href=https://colab.research.google.com/notebooks/data_table.ipynb>data table notebook</a>'\n",
              "            + ' to learn more about interactive tables.';\n",
              "          element.innerHTML = '';\n",
              "          dataTable['output_type'] = 'display_data';\n",
              "          await google.colab.output.renderOutput(dataTable, element);\n",
              "          const docLink = document.createElement('div');\n",
              "          docLink.innerHTML = docLinkHtml;\n",
              "          element.appendChild(docLink);\n",
              "        }\n",
              "      </script>\n",
              "    </div>\n",
              "  </div>\n",
              "  "
            ]
          },
          "metadata": {},
          "execution_count": 3
        }
      ],
      "source": [
        "#read the data set from the CSV file\n",
        "df=pd.read_csv('/content/gdrive/My Drive/DMML/Car_Insurance_Claim.csv')\n",
        "df.head()"
      ]
    },
    {
      "cell_type": "code",
      "execution_count": 4,
      "metadata": {
        "colab": {
          "base_uri": "https://localhost:8080/"
        },
        "id": "6OBUwpP-fXel",
        "outputId": "198d77b2-5902-4983-8478-6082ee0e9d3b"
      },
      "outputs": [
        {
          "output_type": "execute_result",
          "data": {
            "text/plain": [
              "ID                       int64\n",
              "AGE                     object\n",
              "GENDER                  object\n",
              "RACE                    object\n",
              "DRIVING_EXPERIENCE      object\n",
              "EDUCATION               object\n",
              "INCOME                  object\n",
              "CREDIT_SCORE           float64\n",
              "VEHICLE_OWNERSHIP      float64\n",
              "VEHICLE_YEAR            object\n",
              "MARRIED                float64\n",
              "CHILDREN               float64\n",
              "POSTAL_CODE              int64\n",
              "ANNUAL_MILEAGE         float64\n",
              "VEHICLE_TYPE            object\n",
              "SPEEDING_VIOLATIONS      int64\n",
              "DUIS                     int64\n",
              "PAST_ACCIDENTS           int64\n",
              "OUTCOME                float64\n",
              "dtype: object"
            ]
          },
          "metadata": {},
          "execution_count": 4
        }
      ],
      "source": [
        "df.dtypes"
      ]
    },
    {
      "cell_type": "code",
      "execution_count": 5,
      "metadata": {
        "colab": {
          "base_uri": "https://localhost:8080/"
        },
        "id": "-tKmg_RbLON9",
        "outputId": "5d063b45-86ad-420c-f572-faf85a6e760d"
      },
      "outputs": [
        {
          "output_type": "execute_result",
          "data": {
            "text/plain": [
              "ID                       0\n",
              "AGE                      0\n",
              "GENDER                   0\n",
              "RACE                     0\n",
              "DRIVING_EXPERIENCE       0\n",
              "EDUCATION                0\n",
              "INCOME                   0\n",
              "CREDIT_SCORE           982\n",
              "VEHICLE_OWNERSHIP        0\n",
              "VEHICLE_YEAR             0\n",
              "MARRIED                  0\n",
              "CHILDREN                 0\n",
              "POSTAL_CODE              0\n",
              "ANNUAL_MILEAGE         957\n",
              "VEHICLE_TYPE             0\n",
              "SPEEDING_VIOLATIONS      0\n",
              "DUIS                     0\n",
              "PAST_ACCIDENTS           0\n",
              "OUTCOME                  0\n",
              "dtype: int64"
            ]
          },
          "metadata": {},
          "execution_count": 5
        }
      ],
      "source": [
        "#check if there are any null value in the data set\n",
        "df.isnull().sum()"
      ]
    },
    {
      "cell_type": "markdown",
      "metadata": {
        "id": "td_3xoDHTYNs"
      },
      "source": [
        "**EDA and Feature Engineering **"
      ]
    },
    {
      "cell_type": "markdown",
      "metadata": {
        "id": "zexKcCYD8xs8"
      },
      "source": [
        "![image.png](data:image/png;base64,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)"
      ]
    },
    {
      "cell_type": "code",
      "execution_count": 6,
      "metadata": {
        "colab": {
          "base_uri": "https://localhost:8080/",
          "height": 350
        },
        "id": "gocdTWqcTXrb",
        "outputId": "baaf196c-68ab-4afa-f575-f0504658e6cf"
      },
      "outputs": [
        {
          "output_type": "display_data",
          "data": {
            "text/plain": [
              "<Figure size 720x360 with 1 Axes>"
            ],
            "image/png": "[encoded data removed]"
          },
          "metadata": {
            "needs_background": "light"
          }
        }
      ],
      "source": [
        "#not claimed are 50% more than the claimed persons it seems the target variable is imbalanced \n",
        "plt.figure(figsize=(10,5))\n",
        "plt.title('OUTCOME VS COUNT')\n",
        "sns.countplot(data=df, x ='OUTCOME');"
      ]
    },
    {
      "cell_type": "code",
      "execution_count": 7,
      "metadata": {
        "colab": {
          "base_uri": "https://localhost:8080/",
          "height": 351
        },
        "id": "bZn-3diGUI33",
        "outputId": "29cf1f0f-97ee-4887-d931-87d1759b0241"
      },
      "outputs": [
        {
          "output_type": "display_data",
          "data": {
            "text/plain": [
              "<Figure size 720x360 with 1 Axes>"
            ],
            "image/png": "[encoded data removed]"
          },
          "metadata": {
            "needs_background": "light"
          }
        }
      ],
      "source": [
        "#count vs driving experience along with less years of experieced are more likely to claim\n",
        "plt.figure(figsize=(10,5))\n",
        "plt.title('DRIVING_EXPERIENCE vs OUTCOME')\n",
        "sns.countplot(data=df, x ='DRIVING_EXPERIENCE', hue='OUTCOME');"
      ]
    },
    {
      "cell_type": "code",
      "execution_count": 8,
      "metadata": {
        "colab": {
          "base_uri": "https://localhost:8080/",
          "height": 350
        },
        "id": "FC2aPwT_rwO9",
        "outputId": "2d382f2f-f71b-4ea5-c7b2-1c9852d2a8f3"
      },
      "outputs": [
        {
          "output_type": "display_data",
          "data": {
            "text/plain": [
              "<Figure size 720x360 with 1 Axes>"
            ],
            "image/png": "[encoded data removed]"
          },
          "metadata": {
            "needs_background": "light"
          }
        }
      ],
      "source": [
        "#poverty count are more likely to claim\n",
        "plt.figure(figsize=(10,5))\n",
        "plt.title('INCOME vs OUTCOME')\n",
        "sns.countplot(data=df, x ='INCOME', hue='OUTCOME');"
      ]
    },
    {
      "cell_type": "code",
      "execution_count": 9,
      "metadata": {
        "colab": {
          "base_uri": "https://localhost:8080/",
          "height": 350
        },
        "id": "bN-kbvivnV-M",
        "outputId": "51911f62-a84a-4bf9-930d-a64fe08d8f1a"
      },
      "outputs": [
        {
          "output_type": "display_data",
          "data": {
            "text/plain": [
              "<Figure size 720x360 with 1 Axes>"
            ],
            "image/png": "[encoded data removed]"
          },
          "metadata": {
            "needs_background": "light"
          }
        }
      ],
      "source": [
        "#men are more likely to claim for insurance compare to women\n",
        "plt.figure(figsize=(10,5))\n",
        "plt.title('GENDER vs OUTCOME')\n",
        "sns.countplot(data=df, x ='GENDER', hue='OUTCOME');"
      ]
    },
    {
      "cell_type": "code",
      "execution_count": 10,
      "metadata": {
        "colab": {
          "base_uri": "https://localhost:8080/",
          "height": 516
        },
        "id": "nSukf1uyXrS1",
        "outputId": "f3a9b723-b637-42d7-85d2-83ab9f303c2a"
      },
      "outputs": [
        {
          "output_type": "execute_result",
          "data": {
            "text/plain": [
              "<matplotlib.legend.Legend at 0x7f8aec24f750>"
            ]
          },
          "metadata": {},
          "execution_count": 10
        },
        {
          "output_type": "display_data",
          "data": {
            "text/plain": [
              "<Figure size 1080x576 with 1 Axes>"
            ],
            "image/png": "[encoded data removed]"
          },
          "metadata": {
            "needs_background": "light"
          }
        }
      ],
      "source": [
        "# number of accidents vs count is plotted to check for insights\n",
        "plt.figure(figsize=(15,8))\n",
        "sns.countplot(x='PAST_ACCIDENTS',data=df,hue='GENDER')\n",
        "plt.legend(loc=1)"
      ]
    },
    {
      "cell_type": "code",
      "execution_count": 11,
      "metadata": {
        "colab": {
          "base_uri": "https://localhost:8080/",
          "height": 297
        },
        "id": "orzOsEeQXrQI",
        "outputId": "e76703ad-d0be-4860-f59d-a68e8558c9ab"
      },
      "outputs": [
        {
          "output_type": "execute_result",
          "data": {
            "text/plain": [
              "<matplotlib.axes._subplots.AxesSubplot at 0x7f8aec04e590>"
            ]
          },
          "metadata": {},
          "execution_count": 11
        },
        {
          "output_type": "display_data",
          "data": {
            "text/plain": [
              "<Figure size 432x288 with 1 Axes>"
            ],
            "image/png": "[encoded data removed]"
          },
          "metadata": {
            "needs_background": "light"
          }
        }
      ],
      "source": [
        "# accident vs gender bar plot is plotted to check the insights\n",
        "# men are more likely to commit accident than women, form the graph ratio found to be close to 100:50 for men and women respectfully \n",
        "\n",
        "sns.barplot(x='GENDER',y='PAST_ACCIDENTS',data=df)"
      ]
    },
    {
      "cell_type": "code",
      "execution_count": 12,
      "metadata": {
        "colab": {
          "base_uri": "https://localhost:8080/",
          "height": 297
        },
        "id": "16fIaKWKjCA6",
        "outputId": "9937d138-4b2a-40a4-fbb7-7ce4d46394b1"
      },
      "outputs": [
        {
          "output_type": "execute_result",
          "data": {
            "text/plain": [
              "<matplotlib.axes._subplots.AxesSubplot at 0x7f8aec02d190>"
            ]
          },
          "metadata": {},
          "execution_count": 12
        },
        {
          "output_type": "display_data",
          "data": {
            "text/plain": [
              "<Figure size 432x288 with 1 Axes>"
            ],
            "image/png": "[encoded data removed]"
          },
          "metadata": {
            "needs_background": "light"
          }
        }
      ],
      "source": [
        "sns.barplot(x='AGE',y='PAST_ACCIDENTS',data=df,hue='GENDER',order = ['16-25','26-39','40-64','65+'])"
      ]
    },
    {
      "cell_type": "code",
      "execution_count": 13,
      "metadata": {
        "colab": {
          "base_uri": "https://localhost:8080/",
          "height": 297
        },
        "id": "gu6JAhSTlZT3",
        "outputId": "ffd02759-7d82-4d8d-ec09-d19aa40cf48b"
      },
      "outputs": [
        {
          "output_type": "execute_result",
          "data": {
            "text/plain": [
              "<matplotlib.axes._subplots.AxesSubplot at 0x7f8aebf9f250>"
            ]
          },
          "metadata": {},
          "execution_count": 13
        },
        {
          "output_type": "display_data",
          "data": {
            "text/plain": [
              "<Figure size 432x288 with 1 Axes>"
            ],
            "image/png": "[encoded data removed]"
          },
          "metadata": {
            "needs_background": "light"
          }
        }
      ],
      "source": [
        "sns.barplot(x='GENDER',y='DUIS',data=df)"
      ]
    },
    {
      "cell_type": "code",
      "execution_count": 14,
      "metadata": {
        "colab": {
          "base_uri": "https://localhost:8080/",
          "height": 298
        },
        "id": "EvAq6QWxlj2T",
        "outputId": "b5c35d06-7795-45fa-8fb8-5668865ee93c"
      },
      "outputs": [
        {
          "output_type": "execute_result",
          "data": {
            "text/plain": [
              "<matplotlib.axes._subplots.AxesSubplot at 0x7f8aebf11490>"
            ]
          },
          "metadata": {},
          "execution_count": 14
        },
        {
          "output_type": "display_data",
          "data": {
            "text/plain": [
              "<Figure size 432x288 with 1 Axes>"
            ],
            "image/png": "[encoded data removed]"
          },
          "metadata": {
            "needs_background": "light"
          }
        }
      ],
      "source": [
        "sns.barplot(x='DRIVING_EXPERIENCE',y='PAST_ACCIDENTS',data=df)"
      ]
    },
    {
      "cell_type": "code",
      "execution_count": 15,
      "metadata": {
        "colab": {
          "base_uri": "https://localhost:8080/",
          "height": 298
        },
        "id": "BhJQ2aZgmAkK",
        "outputId": "2812bbbd-b986-4dfb-e5e6-7a982773aec3"
      },
      "outputs": [
        {
          "output_type": "execute_result",
          "data": {
            "text/plain": [
              "<matplotlib.axes._subplots.AxesSubplot at 0x7f8aebf00790>"
            ]
          },
          "metadata": {},
          "execution_count": 15
        },
        {
          "output_type": "display_data",
          "data": {
            "text/plain": [
              "<Figure size 432x288 with 1 Axes>"
            ],
            "image/png": "[encoded data removed]"
          },
          "metadata": {
            "needs_background": "light"
          }
        }
      ],
      "source": [
        "sns.barplot(x='CREDIT_SCORE',y='INCOME',data=df,order=[\"poverty\",'working class','middle class',\"upper class\"])"
      ]
    },
    {
      "cell_type": "markdown",
      "metadata": {
        "id": "OhXG73QJYwkF"
      },
      "source": [
        "**Data Cleaning**"
      ]
    },
    {
      "cell_type": "code",
      "execution_count": 16,
      "metadata": {
        "colab": {
          "base_uri": "https://localhost:8080/"
        },
        "id": "vL7ilfnaXq-5",
        "outputId": "652bbf7a-9943-4be4-a14b-610c69ec7c7c"
      },
      "outputs": [
        {
          "output_type": "execute_result",
          "data": {
            "text/plain": [
              "ID                       0\n",
              "AGE                      0\n",
              "GENDER                   0\n",
              "RACE                     0\n",
              "DRIVING_EXPERIENCE       0\n",
              "EDUCATION                0\n",
              "INCOME                   0\n",
              "CREDIT_SCORE           982\n",
              "VEHICLE_OWNERSHIP        0\n",
              "VEHICLE_YEAR             0\n",
              "MARRIED                  0\n",
              "CHILDREN                 0\n",
              "POSTAL_CODE              0\n",
              "ANNUAL_MILEAGE         957\n",
              "VEHICLE_TYPE             0\n",
              "SPEEDING_VIOLATIONS      0\n",
              "DUIS                     0\n",
              "PAST_ACCIDENTS           0\n",
              "OUTCOME                  0\n",
              "dtype: int64"
            ]
          },
          "metadata": {},
          "execution_count": 16
        }
      ],
      "source": [
        "#check if there are any null value in the data set\n",
        "df.isnull().sum()"
      ]
    },
    {
      "cell_type": "code",
      "execution_count": 17,
      "metadata": {
        "id": "VUc27GJRZmzk"
      },
      "outputs": [],
      "source": [
        "#first we drop ID Not impt\n",
        "df=df.drop([\"ID\"],axis=1)"
      ]
    },
    {
      "cell_type": "code",
      "execution_count": 18,
      "metadata": {
        "colab": {
          "base_uri": "https://localhost:8080/"
        },
        "id": "72Ys7T-oXRm6",
        "outputId": "a8472168-ec83-4cee-95b1-8f813e86ee2d"
      },
      "outputs": [
        {
          "output_type": "execute_result",
          "data": {
            "text/plain": [
              "12"
            ]
          },
          "metadata": {},
          "execution_count": 18
        }
      ],
      "source": [
        "#find the duplicate values in the data\n",
        "df.duplicated().sum()"
      ]
    },
    {
      "cell_type": "code",
      "execution_count": 19,
      "metadata": {
        "id": "t1PYT3JBZ9uE"
      },
      "outputs": [],
      "source": [
        "#drop the duplicated preset in the dataset\n",
        "df=df.drop_duplicates()"
      ]
    },
    {
      "cell_type": "code",
      "execution_count": 20,
      "metadata": {
        "id": "roAzZKNjaiHz"
      },
      "outputs": [],
      "source": [
        "# since we have less data we fill the credit score and annual milage column values "
      ]
    },
    {
      "cell_type": "code",
      "execution_count": 21,
      "metadata": {
        "id": "nUbL3TXDbZX7"
      },
      "outputs": [],
      "source": [
        "'''To fill the credit card score we use income \n",
        "column catregories in that we take the four catogories median''' \n",
        "\n",
        "#group by income category upper class and take out median of it credit score.\n",
        "upper_class_median = df[df['INCOME'] == 'upper class']['CREDIT_SCORE'].median()\n",
        "#group by income category middle class and take out median of it credit score.\n",
        "middle_class_median = df[df['INCOME'] == 'middle class']['CREDIT_SCORE'].median()\n",
        "#group by income category poverty  and take out median of it credit score.\n",
        "poverty_class_median = df[df['INCOME'] == 'poverty']['CREDIT_SCORE'].median()\n",
        "#group by income category working class  and take out median of it credit score.\n",
        "working_class_median = df[df['INCOME'] == 'working class']['CREDIT_SCORE'].median()"
      ]
    },
    {
      "cell_type": "code",
      "execution_count": 22,
      "metadata": {
        "id": "i0lCyaP-csHp"
      },
      "outputs": [],
      "source": [
        "#by applying the  condition we group the credit score category working class  and fill the na values with the median \n",
        "df.loc[(df[(df['INCOME'] == 'working class') & df['CREDIT_SCORE'].isnull()].index),'CREDIT_SCORE'] = df[df['INCOME'] == 'working class']['CREDIT_SCORE'].fillna(working_class_median)\n",
        "#by applying the  condition we group the credit score category poverty  and fill the na values with the median \n",
        "df.loc[(df[(df['INCOME'] == 'poverty') & df['CREDIT_SCORE'].isnull()].index),'CREDIT_SCORE'] = df[df['INCOME'] == 'poverty']['CREDIT_SCORE'].fillna(poverty_class_median)\n",
        "#by applying the  condition we group the credit score category middle class  and fill the na values with the median \n",
        "df.loc[(df[(df['INCOME'] == 'middle class') & df['CREDIT_SCORE'].isnull()].index),'CREDIT_SCORE'] = df[df['INCOME'] == 'middle class']['CREDIT_SCORE'].fillna(middle_class_median)\n",
        "#by applying the  condition we group the credit score category upper class and fill the na values with the median \n",
        "df.loc[(df[(df['INCOME'] == 'upper class') & df['CREDIT_SCORE'].isnull()].index),'CREDIT_SCORE'] = df[df['INCOME'] == 'upper class']['CREDIT_SCORE'].fillna(upper_class_median)"
      ]
    },
    {
      "cell_type": "code",
      "execution_count": 23,
      "metadata": {
        "id": "CkafnShfc9nJ"
      },
      "outputs": [],
      "source": [
        "# we fill the annual milage null values with normal median\n",
        "df['ANNUAL_MILEAGE'] = df['ANNUAL_MILEAGE'].fillna(df['ANNUAL_MILEAGE'].median())"
      ]
    },
    {
      "cell_type": "code",
      "execution_count": 24,
      "metadata": {
        "id": "Hg_F39s3ct_k",
        "colab": {
          "base_uri": "https://localhost:8080/"
        },
        "outputId": "b3b85d4a-b2ba-4fb7-c7e9-a96364a09228"
      },
      "outputs": [
        {
          "output_type": "execute_result",
          "data": {
            "text/plain": [
              "AGE                    0\n",
              "GENDER                 0\n",
              "RACE                   0\n",
              "DRIVING_EXPERIENCE     0\n",
              "EDUCATION              0\n",
              "INCOME                 0\n",
              "CREDIT_SCORE           0\n",
              "VEHICLE_OWNERSHIP      0\n",
              "VEHICLE_YEAR           0\n",
              "MARRIED                0\n",
              "CHILDREN               0\n",
              "POSTAL_CODE            0\n",
              "ANNUAL_MILEAGE         0\n",
              "VEHICLE_TYPE           0\n",
              "SPEEDING_VIOLATIONS    0\n",
              "DUIS                   0\n",
              "PAST_ACCIDENTS         0\n",
              "OUTCOME                0\n",
              "dtype: int64"
            ]
          },
          "metadata": {},
          "execution_count": 24
        }
      ],
      "source": [
        "#check for the null values, no null values found\n",
        "df.isnull().sum()"
      ]
    },
    {
      "cell_type": "code",
      "execution_count": 25,
      "metadata": {
        "colab": {
          "base_uri": "https://localhost:8080/",
          "height": 300
        },
        "id": "8VrVZblAaKwS",
        "outputId": "f25a7123-ecd5-44cf-9cf1-da9bfb3351e9"
      },
      "outputs": [
        {
          "output_type": "execute_result",
          "data": {
            "text/plain": [
              "       CREDIT_SCORE  VEHICLE_OWNERSHIP      MARRIED     CHILDREN  POSTAL_CODE  \\\n",
              "count   9988.000000        9988.000000  9988.000000  9988.000000   9988.00000   \n",
              "mean       0.515593           0.697537     0.498698     0.689327  19873.85873   \n",
              "std        0.134649           0.459348     0.500023     0.462792  18923.83540   \n",
              "min        0.053358           0.000000     0.000000     0.000000  10238.00000   \n",
              "25%        0.421746           0.000000     0.000000     0.000000  10238.00000   \n",
              "50%        0.526747           1.000000     0.000000     1.000000  10238.00000   \n",
              "75%        0.616289           1.000000     1.000000     1.000000  32765.00000   \n",
              "max        0.960819           1.000000     1.000000     1.000000  92101.00000   \n",
              "\n",
              "       ANNUAL_MILEAGE  SPEEDING_VIOLATIONS         DUIS  PAST_ACCIDENTS  \\\n",
              "count     9988.000000          9988.000000  9988.000000     9988.000000   \n",
              "mean     11723.768522             1.484581     0.239487        1.057369   \n",
              "std       2681.536045             2.242766     0.555262        1.653047   \n",
              "min       2000.000000             0.000000     0.000000        0.000000   \n",
              "25%      10000.000000             0.000000     0.000000        0.000000   \n",
              "50%      12000.000000             0.000000     0.000000        0.000000   \n",
              "75%      13000.000000             2.000000     0.000000        2.000000   \n",
              "max      22000.000000            22.000000     6.000000       15.000000   \n",
              "\n",
              "           OUTCOME  \n",
              "count  9988.000000  \n",
              "mean      0.312775  \n",
              "std       0.463647  \n",
              "min       0.000000  \n",
              "25%       0.000000  \n",
              "50%       0.000000  \n",
              "75%       1.000000  \n",
              "max       1.000000  "
            ],
            "text/html": [
              "\n",
              "  <div id=\"df-c26bf11f-af7a-4058-b782-8ba4a8d976a8\">\n",
              "    <div class=\"colab-df-container\">\n",
              "      <div>\n",
              "<style scoped>\n",
              "    .dataframe tbody tr th:only-of-type {\n",
              "        vertical-align: middle;\n",
              "    }\n",
              "\n",
              "    .dataframe tbody tr th {\n",
              "        vertical-align: top;\n",
              "    }\n",
              "\n",
              "    .dataframe thead th {\n",
              "        text-align: right;\n",
              "    }\n",
              "</style>\n",
              "<table border=\"1\" class=\"dataframe\">\n",
              "  <thead>\n",
              "    <tr style=\"text-align: right;\">\n",
              "      <th></th>\n",
              "      <th>CREDIT_SCORE</th>\n",
              "      <th>VEHICLE_OWNERSHIP</th>\n",
              "      <th>MARRIED</th>\n",
              "      <th>CHILDREN</th>\n",
              "      <th>POSTAL_CODE</th>\n",
              "      <th>ANNUAL_MILEAGE</th>\n",
              "      <th>SPEEDING_VIOLATIONS</th>\n",
              "      <th>DUIS</th>\n",
              "      <th>PAST_ACCIDENTS</th>\n",
              "      <th>OUTCOME</th>\n",
              "    </tr>\n",
              "  </thead>\n",
              "  <tbody>\n",
              "    <tr>\n",
              "      <th>count</th>\n",
              "      <td>9988.000000</td>\n",
              "      <td>9988.000000</td>\n",
              "      <td>9988.000000</td>\n",
              "      <td>9988.000000</td>\n",
              "      <td>9988.00000</td>\n",
              "      <td>9988.000000</td>\n",
              "      <td>9988.000000</td>\n",
              "      <td>9988.000000</td>\n",
              "      <td>9988.000000</td>\n",
              "      <td>9988.000000</td>\n",
              "    </tr>\n",
              "    <tr>\n",
              "      <th>mean</th>\n",
              "      <td>0.515593</td>\n",
              "      <td>0.697537</td>\n",
              "      <td>0.498698</td>\n",
              "      <td>0.689327</td>\n",
              "      <td>19873.85873</td>\n",
              "      <td>11723.768522</td>\n",
              "      <td>1.484581</td>\n",
              "      <td>0.239487</td>\n",
              "      <td>1.057369</td>\n",
              "      <td>0.312775</td>\n",
              "    </tr>\n",
              "    <tr>\n",
              "      <th>std</th>\n",
              "      <td>0.134649</td>\n",
              "      <td>0.459348</td>\n",
              "      <td>0.500023</td>\n",
              "      <td>0.462792</td>\n",
              "      <td>18923.83540</td>\n",
              "      <td>2681.536045</td>\n",
              "      <td>2.242766</td>\n",
              "      <td>0.555262</td>\n",
              "      <td>1.653047</td>\n",
              "      <td>0.463647</td>\n",
              "    </tr>\n",
              "    <tr>\n",
              "      <th>min</th>\n",
              "      <td>0.053358</td>\n",
              "      <td>0.000000</td>\n",
              "      <td>0.000000</td>\n",
              "      <td>0.000000</td>\n",
              "      <td>10238.00000</td>\n",
              "      <td>2000.000000</td>\n",
              "      <td>0.000000</td>\n",
              "      <td>0.000000</td>\n",
              "      <td>0.000000</td>\n",
              "      <td>0.000000</td>\n",
              "    </tr>\n",
              "    <tr>\n",
              "      <th>25%</th>\n",
              "      <td>0.421746</td>\n",
              "      <td>0.000000</td>\n",
              "      <td>0.000000</td>\n",
              "      <td>0.000000</td>\n",
              "      <td>10238.00000</td>\n",
              "      <td>10000.000000</td>\n",
              "      <td>0.000000</td>\n",
              "      <td>0.000000</td>\n",
              "      <td>0.000000</td>\n",
              "      <td>0.000000</td>\n",
              "    </tr>\n",
              "    <tr>\n",
              "      <th>50%</th>\n",
              "      <td>0.526747</td>\n",
              "      <td>1.000000</td>\n",
              "      <td>0.000000</td>\n",
              "      <td>1.000000</td>\n",
              "      <td>10238.00000</td>\n",
              "      <td>12000.000000</td>\n",
              "      <td>0.000000</td>\n",
              "      <td>0.000000</td>\n",
              "      <td>0.000000</td>\n",
              "      <td>0.000000</td>\n",
              "    </tr>\n",
              "    <tr>\n",
              "      <th>75%</th>\n",
              "      <td>0.616289</td>\n",
              "      <td>1.000000</td>\n",
              "      <td>1.000000</td>\n",
              "      <td>1.000000</td>\n",
              "      <td>32765.00000</td>\n",
              "      <td>13000.000000</td>\n",
              "      <td>2.000000</td>\n",
              "      <td>0.000000</td>\n",
              "      <td>2.000000</td>\n",
              "      <td>1.000000</td>\n",
              "    </tr>\n",
              "    <tr>\n",
              "      <th>max</th>\n",
              "      <td>0.960819</td>\n",
              "      <td>1.000000</td>\n",
              "      <td>1.000000</td>\n",
              "      <td>1.000000</td>\n",
              "      <td>92101.00000</td>\n",
              "      <td>22000.000000</td>\n",
              "      <td>22.000000</td>\n",
              "      <td>6.000000</td>\n",
              "      <td>15.000000</td>\n",
              "      <td>1.000000</td>\n",
              "    </tr>\n",
              "  </tbody>\n",
              "</table>\n",
              "</div>\n",
              "      <button class=\"colab-df-convert\" onclick=\"convertToInteractive('df-c26bf11f-af7a-4058-b782-8ba4a8d976a8')\"\n",
              "              title=\"Convert this dataframe to an interactive table.\"\n",
              "              style=\"display:none;\">\n",
              "        \n",
              "  <svg xmlns=\"http://www.w3.org/2000/svg\" height=\"24px\"viewBox=\"0 0 24 24\"\n",
              "       width=\"24px\">\n",
              "    <path d=\"M0 0h24v24H0V0z\" fill=\"none\"/>\n",
              "    <path d=\"M18.56 5.44l.94 2.06.94-2.06 2.06-.94-2.06-.94-.94-2.06-.94 2.06-2.06.94zm-11 1L8.5 8.5l.94-2.06 2.06-.94-2.06-.94L8.5 2.5l-.94 2.06-2.06.94zm10 10l.94 2.06.94-2.06 2.06-.94-2.06-.94-.94-2.06-.94 2.06-2.06.94z\"/><path d=\"M17.41 7.96l-1.37-1.37c-.4-.4-.92-.59-1.43-.59-.52 0-1.04.2-1.43.59L10.3 9.45l-7.72 7.72c-.78.78-.78 2.05 0 2.83L4 21.41c.39.39.9.59 1.41.59.51 0 1.02-.2 1.41-.59l7.78-7.78 2.81-2.81c.8-.78.8-2.07 0-2.86zM5.41 20L4 18.59l7.72-7.72 1.47 1.35L5.41 20z\"/>\n",
              "  </svg>\n",
              "      </button>\n",
              "      \n",
              "  <style>\n",
              "    .colab-df-container {\n",
              "      display:flex;\n",
              "      flex-wrap:wrap;\n",
              "      gap: 12px;\n",
              "    }\n",
              "\n",
              "    .colab-df-convert {\n",
              "      background-color: #E8F0FE;\n",
              "      border: none;\n",
              "      border-radius: 50%;\n",
              "      cursor: pointer;\n",
              "      display: none;\n",
              "      fill: #1967D2;\n",
              "      height: 32px;\n",
              "      padding: 0 0 0 0;\n",
              "      width: 32px;\n",
              "    }\n",
              "\n",
              "    .colab-df-convert:hover {\n",
              "      background-color: #E2EBFA;\n",
              "      box-shadow: 0px 1px 2px rgba(60, 64, 67, 0.3), 0px 1px 3px 1px rgba(60, 64, 67, 0.15);\n",
              "      fill: #174EA6;\n",
              "    }\n",
              "\n",
              "    [theme=dark] .colab-df-convert {\n",
              "      background-color: #3B4455;\n",
              "      fill: #D2E3FC;\n",
              "    }\n",
              "\n",
              "    [theme=dark] .colab-df-convert:hover {\n",
              "      background-color: #434B5C;\n",
              "      box-shadow: 0px 1px 3px 1px rgba(0, 0, 0, 0.15);\n",
              "      filter: drop-shadow(0px 1px 2px rgba(0, 0, 0, 0.3));\n",
              "      fill: #FFFFFF;\n",
              "    }\n",
              "  </style>\n",
              "\n",
              "      <script>\n",
              "        const buttonEl =\n",
              "          document.querySelector('#df-c26bf11f-af7a-4058-b782-8ba4a8d976a8 button.colab-df-convert');\n",
              "        buttonEl.style.display =\n",
              "          google.colab.kernel.accessAllowed ? 'block' : 'none';\n",
              "\n",
              "        async function convertToInteractive(key) {\n",
              "          const element = document.querySelector('#df-c26bf11f-af7a-4058-b782-8ba4a8d976a8');\n",
              "          const dataTable =\n",
              "            await google.colab.kernel.invokeFunction('convertToInteractive',\n",
              "                                                     [key], {});\n",
              "          if (!dataTable) return;\n",
              "\n",
              "          const docLinkHtml = 'Like what you see? Visit the ' +\n",
              "            '<a target=\"_blank\" href=https://colab.research.google.com/notebooks/data_table.ipynb>data table notebook</a>'\n",
              "            + ' to learn more about interactive tables.';\n",
              "          element.innerHTML = '';\n",
              "          dataTable['output_type'] = 'display_data';\n",
              "          await google.colab.output.renderOutput(dataTable, element);\n",
              "          const docLink = document.createElement('div');\n",
              "          docLink.innerHTML = docLinkHtml;\n",
              "          element.appendChild(docLink);\n",
              "        }\n",
              "      </script>\n",
              "    </div>\n",
              "  </div>\n",
              "  "
            ]
          },
          "metadata": {},
          "execution_count": 25
        }
      ],
      "source": [
        "df.describe()"
      ]
    },
    {
      "cell_type": "code",
      "execution_count": 26,
      "metadata": {
        "colab": {
          "base_uri": "https://localhost:8080/"
        },
        "id": "gz-aV_QBmNEK",
        "outputId": "3a3bab24-752f-4319-f4cf-30886144e587"
      },
      "outputs": [
        {
          "output_type": "execute_result",
          "data": {
            "text/plain": [
              "AGE                     object\n",
              "GENDER                  object\n",
              "RACE                    object\n",
              "DRIVING_EXPERIENCE      object\n",
              "EDUCATION               object\n",
              "INCOME                  object\n",
              "CREDIT_SCORE           float64\n",
              "VEHICLE_OWNERSHIP      float64\n",
              "VEHICLE_YEAR            object\n",
              "MARRIED                float64\n",
              "CHILDREN               float64\n",
              "POSTAL_CODE              int64\n",
              "ANNUAL_MILEAGE         float64\n",
              "VEHICLE_TYPE            object\n",
              "SPEEDING_VIOLATIONS      int64\n",
              "DUIS                     int64\n",
              "PAST_ACCIDENTS           int64\n",
              "OUTCOME                float64\n",
              "dtype: object"
            ]
          },
          "metadata": {},
          "execution_count": 26
        }
      ],
      "source": [
        "df.dtypes"
      ]
    },
    {
      "cell_type": "markdown",
      "metadata": {
        "id": "12noYUwpnJRz"
      },
      "source": [
        "**check for the outliers**"
      ]
    },
    {
      "cell_type": "code",
      "execution_count": 27,
      "metadata": {
        "colab": {
          "base_uri": "https://localhost:8080/",
          "height": 1000
        },
        "id": "53M5d86phkV-",
        "outputId": "c0cc4d89-549d-4a02-a618-2dc0bf1019bf"
      },
      "outputs": [
        {
          "output_type": "display_data",
          "data": {
            "text/plain": [
              "<Figure size 432x288 with 1 Axes>"
            ],
            "image/png": "[encoded data removed]"
          },
          "metadata": {
            "needs_background": "light"
          }
        },
        {
          "output_type": "display_data",
          "data": {
            "text/plain": [
              "<Figure size 432x288 with 1 Axes>"
            ],
            "image/png": "[encoded data removed]"
          },
          "metadata": {
            "needs_background": "light"
          }
        },
        {
          "output_type": "display_data",
          "data": {
            "text/plain": [
              "<Figure size 432x288 with 1 Axes>"
            ],
            "image/png": "[encoded data removed]"
          },
          "metadata": {
            "needs_background": "light"
          }
        },
        {
          "output_type": "display_data",
          "data": {
            "text/plain": [
              "<Figure size 432x288 with 1 Axes>"
            ],
            "image/png": "[encoded data removed]"
          },
          "metadata": {
            "needs_background": "light"
          }
        },
        {
          "output_type": "display_data",
          "data": {
            "text/plain": [
              "<Figure size 432x288 with 1 Axes>"
            ],
            "image/png": "[encoded data removed]"
          },
          "metadata": {
            "needs_background": "light"
          }
        },
        {
          "output_type": "display_data",
          "data": {
            "text/plain": [
              "<Figure size 432x288 with 1 Axes>"
            ],
            "image/png": "[encoded data removed]"
          },
          "metadata": {
            "needs_background": "light"
          }
        }
      ],
      "source": [
        "features = ['CREDIT_SCORE','POSTAL_CODE','ANNUAL_MILEAGE','SPEEDING_VIOLATIONS','DUIS','PAST_ACCIDENTS']\n",
        "\n",
        "for feature in features:\n",
        "  plt.boxplot(df[feature])\n",
        "  plt.title(feature)\n",
        "  plt.show()"
      ]
    },
    {
      "cell_type": "code",
      "execution_count": 28,
      "metadata": {
        "id": "dV741bdQl5Rf"
      },
      "outputs": [],
      "source": [
        "\n",
        "#as we have less data we trim the values seeing the box plot remove outliers 324 values removed\n",
        "df=df[~(df[\"ANNUAL_MILEAGE\"]>=17500)]\n",
        "df=df[~(df[\"ANNUAL_MILEAGE\"]<=5000)]\n",
        "df=df[~(df[\"SPEEDING_VIOLATIONS\"]>=15)]\n",
        "df=df[~(df[\"DUIS\"]>=5)]\n",
        "df=df[~(df[\"PAST_ACCIDENTS\"]>=10)]"
      ]
    },
    {
      "cell_type": "code",
      "execution_count": 29,
      "metadata": {
        "colab": {
          "base_uri": "https://localhost:8080/",
          "height": 1000
        },
        "id": "7vcu6UH3hkTc",
        "outputId": "5bed4478-c1ef-47f7-bd95-7d28f33953ba"
      },
      "outputs": [
        {
          "output_type": "display_data",
          "data": {
            "text/plain": [
              "<Figure size 432x288 with 1 Axes>"
            ],
            "image/png": "[encoded data removed]"
          },
          "metadata": {
            "needs_background": "light"
          }
        },
        {
          "output_type": "display_data",
          "data": {
            "text/plain": [
              "<Figure size 432x288 with 1 Axes>"
            ],
            "image/png": "[encoded data removed]"
          },
          "metadata": {
            "needs_background": "light"
          }
        },
        {
          "output_type": "display_data",
          "data": {
            "text/plain": [
              "<Figure size 432x288 with 1 Axes>"
            ],
            "image/png": "[encoded data removed]"
          },
          "metadata": {
            "needs_background": "light"
          }
        },
        {
          "output_type": "display_data",
          "data": {
            "text/plain": [
              "<Figure size 432x288 with 1 Axes>"
            ],
            "image/png": "[encoded data removed]"
          },
          "metadata": {
            "needs_background": "light"
          }
        },
        {
          "output_type": "display_data",
          "data": {
            "text/plain": [
              "<Figure size 432x288 with 1 Axes>"
            ],
            "image/png": "[encoded data removed]"
          },
          "metadata": {
            "needs_background": "light"
          }
        },
        {
          "output_type": "display_data",
          "data": {
            "text/plain": [
              "<Figure size 432x288 with 1 Axes>"
            ],
            "image/png": "[encoded data removed]"
          },
          "metadata": {
            "needs_background": "light"
          }
        }
      ],
      "source": [
        "features = ['CREDIT_SCORE','POSTAL_CODE','ANNUAL_MILEAGE','SPEEDING_VIOLATIONS','DUIS','PAST_ACCIDENTS']\n",
        "\n",
        "for feature in features:\n",
        "  plt.boxplot(df[feature])\n",
        "  plt.title(feature)\n",
        "  plt.show()"
      ]
    },
    {
      "cell_type": "code",
      "execution_count": 30,
      "metadata": {
        "id": "W9PSdLbELcAP"
      },
      "outputs": [],
      "source": [
        "#function call for encoding \n",
        "def Encoding(D_frame, columns):\n",
        "\n",
        "    D_frame = D_frame.replace(columns)\n",
        "    D_frame.head() \n",
        "\n",
        "    return D_frame"
      ]
    },
    {
      "cell_type": "code",
      "execution_count": 31,
      "metadata": {
        "id": "yVblT-8WMbf4"
      },
      "outputs": [],
      "source": [
        "#we replace all the qualitative data with the numeric value\n",
        "clean_data   = {\"AGE\":                  {\"16-25\": 1, \"26-39\": 2, '40-64': 3, '65+': 4},\n",
        "                \"GENDER\":               {\"female\": 0, \"male\": 1},\n",
        "                \"RACE\":                 {\"minority\": 0, \"majority\": 1 },\n",
        "                \"DRIVING_EXPERIENCE\":   {\"0-9y\": 1, \"10-19y\": 2,\"20-29y\":3,\"30y+\":4},\n",
        "                \"EDUCATION\":            {\"none\": 1, \"high school\": 2, 'university': 3},\n",
        "                \"INCOME\":               {\"upper class\": 4, \"poverty\": 1, \"working class\": 2, 'middle class':3},\n",
        "          \"VEHICLE_YEAR\":               {\"after 2015\": 1, \"before 2015\":0},\n",
        "                \"VEHICLE_TYPE\":         {\"sedan\": 0, \"sports car\": 1},\n",
        "}\n",
        "      \n",
        "df = Encoding( df, clean_data)"
      ]
    },
    {
      "cell_type": "code",
      "execution_count": 32,
      "metadata": {
        "colab": {
          "base_uri": "https://localhost:8080/",
          "height": 423
        },
        "id": "CVBq3LOLXxVQ",
        "outputId": "7a4f9da6-a8ec-4060-8e05-e1f741e9c27f"
      },
      "outputs": [
        {
          "output_type": "execute_result",
          "data": {
            "text/plain": [
              "      AGE  GENDER  RACE  DRIVING_EXPERIENCE  EDUCATION  INCOME  CREDIT_SCORE  \\\n",
              "0       4       0     1                   1          2       4      0.629027   \n",
              "1       1       1     1                   1          1       1      0.357757   \n",
              "2       1       0     1                   1          2       2      0.493146   \n",
              "3       1       1     1                   1          3       2      0.206013   \n",
              "4       2       1     1                   2          1       2      0.388366   \n",
              "...   ...     ...   ...                 ...        ...     ...           ...   \n",
              "9995    2       0     1                   2          3       4      0.582787   \n",
              "9996    2       0     1                   2          1       3      0.522231   \n",
              "9997    2       1     1                   1          2       3      0.470940   \n",
              "9998    2       0     1                   2          2       1      0.364185   \n",
              "9999    2       0     1                   1          1       2      0.435225   \n",
              "\n",
              "      VEHICLE_OWNERSHIP  VEHICLE_YEAR  MARRIED  CHILDREN  POSTAL_CODE  \\\n",
              "0                   1.0             1      0.0       1.0        10238   \n",
              "1                   0.0             0      0.0       0.0        10238   \n",
              "2                   1.0             0      0.0       0.0        10238   \n",
              "3                   1.0             0      0.0       1.0        32765   \n",
              "4                   1.0             0      0.0       0.0        32765   \n",
              "...                 ...           ...      ...       ...          ...   \n",
              "9995                1.0             0      0.0       0.0        10238   \n",
              "9996                1.0             1      0.0       1.0        32765   \n",
              "9997                1.0             0      0.0       1.0        10238   \n",
              "9998                0.0             0      0.0       1.0        10238   \n",
              "9999                1.0             0      1.0       1.0        10238   \n",
              "\n",
              "      ANNUAL_MILEAGE  VEHICLE_TYPE  SPEEDING_VIOLATIONS  DUIS  PAST_ACCIDENTS  \\\n",
              "0            12000.0             0                    0     0               0   \n",
              "1            16000.0             0                    0     0               0   \n",
              "2            11000.0             0                    0     0               0   \n",
              "3            11000.0             0                    0     0               0   \n",
              "4            12000.0             0                    2     0               1   \n",
              "...              ...           ...                  ...   ...             ...   \n",
              "9995         16000.0             0                    0     0               1   \n",
              "9996         12000.0             0                    1     0               0   \n",
              "9997         14000.0             0                    0     0               0   \n",
              "9998         13000.0             0                    2     0               1   \n",
              "9999         13000.0             0                    0     0               0   \n",
              "\n",
              "      OUTCOME  \n",
              "0         0.0  \n",
              "1         1.0  \n",
              "2         0.0  \n",
              "3         0.0  \n",
              "4         1.0  \n",
              "...       ...  \n",
              "9995      0.0  \n",
              "9996      0.0  \n",
              "9997      0.0  \n",
              "9998      1.0  \n",
              "9999      0.0  \n",
              "\n",
              "[9677 rows x 18 columns]"
            ],
            "text/html": [
              "\n",
              "  <div id=\"df-eb918e9a-20ed-40a7-9a00-e697f3ef842b\">\n",
              "    <div class=\"colab-df-container\">\n",
              "      <div>\n",
              "<style scoped>\n",
              "    .dataframe tbody tr th:only-of-type {\n",
              "        vertical-align: middle;\n",
              "    }\n",
              "\n",
              "    .dataframe tbody tr th {\n",
              "        vertical-align: top;\n",
              "    }\n",
              "\n",
              "    .dataframe thead th {\n",
              "        text-align: right;\n",
              "    }\n",
              "</style>\n",
              "<table border=\"1\" class=\"dataframe\">\n",
              "  <thead>\n",
              "    <tr style=\"text-align: right;\">\n",
              "      <th></th>\n",
              "      <th>AGE</th>\n",
              "      <th>GENDER</th>\n",
              "      <th>RACE</th>\n",
              "      <th>DRIVING_EXPERIENCE</th>\n",
              "      <th>EDUCATION</th>\n",
              "      <th>INCOME</th>\n",
              "      <th>CREDIT_SCORE</th>\n",
              "      <th>VEHICLE_OWNERSHIP</th>\n",
              "      <th>VEHICLE_YEAR</th>\n",
              "      <th>MARRIED</th>\n",
              "      <th>CHILDREN</th>\n",
              "      <th>POSTAL_CODE</th>\n",
              "      <th>ANNUAL_MILEAGE</th>\n",
              "      <th>VEHICLE_TYPE</th>\n",
              "      <th>SPEEDING_VIOLATIONS</th>\n",
              "      <th>DUIS</th>\n",
              "      <th>PAST_ACCIDENTS</th>\n",
              "      <th>OUTCOME</th>\n",
              "    </tr>\n",
              "  </thead>\n",
              "  <tbody>\n",
              "    <tr>\n",
              "      <th>0</th>\n",
              "      <td>4</td>\n",
              "      <td>0</td>\n",
              "      <td>1</td>\n",
              "      <td>1</td>\n",
              "      <td>2</td>\n",
              "      <td>4</td>\n",
              "      <td>0.629027</td>\n",
              "      <td>1.0</td>\n",
              "      <td>1</td>\n",
              "      <td>0.0</td>\n",
              "      <td>1.0</td>\n",
              "      <td>10238</td>\n",
              "      <td>12000.0</td>\n",
              "      <td>0</td>\n",
              "      <td>0</td>\n",
              "      <td>0</td>\n",
              "      <td>0</td>\n",
              "      <td>0.0</td>\n",
              "    </tr>\n",
              "    <tr>\n",
              "      <th>1</th>\n",
              "      <td>1</td>\n",
              "      <td>1</td>\n",
              "      <td>1</td>\n",
              "      <td>1</td>\n",
              "      <td>1</td>\n",
              "      <td>1</td>\n",
              "      <td>0.357757</td>\n",
              "      <td>0.0</td>\n",
              "      <td>0</td>\n",
              "      <td>0.0</td>\n",
              "      <td>0.0</td>\n",
              "      <td>10238</td>\n",
              "      <td>16000.0</td>\n",
              "      <td>0</td>\n",
              "      <td>0</td>\n",
              "      <td>0</td>\n",
              "      <td>0</td>\n",
              "      <td>1.0</td>\n",
              "    </tr>\n",
              "    <tr>\n",
              "      <th>2</th>\n",
              "      <td>1</td>\n",
              "      <td>0</td>\n",
              "      <td>1</td>\n",
              "      <td>1</td>\n",
              "      <td>2</td>\n",
              "      <td>2</td>\n",
              "      <td>0.493146</td>\n",
              "      <td>1.0</td>\n",
              "      <td>0</td>\n",
              "      <td>0.0</td>\n",
              "      <td>0.0</td>\n",
              "      <td>10238</td>\n",
              "      <td>11000.0</td>\n",
              "      <td>0</td>\n",
              "      <td>0</td>\n",
              "      <td>0</td>\n",
              "      <td>0</td>\n",
              "      <td>0.0</td>\n",
              "    </tr>\n",
              "    <tr>\n",
              "      <th>3</th>\n",
              "      <td>1</td>\n",
              "      <td>1</td>\n",
              "      <td>1</td>\n",
              "      <td>1</td>\n",
              "      <td>3</td>\n",
              "      <td>2</td>\n",
              "      <td>0.206013</td>\n",
              "      <td>1.0</td>\n",
              "      <td>0</td>\n",
              "      <td>0.0</td>\n",
              "      <td>1.0</td>\n",
              "      <td>32765</td>\n",
              "      <td>11000.0</td>\n",
              "      <td>0</td>\n",
              "      <td>0</td>\n",
              "      <td>0</td>\n",
              "      <td>0</td>\n",
              "      <td>0.0</td>\n",
              "    </tr>\n",
              "    <tr>\n",
              "      <th>4</th>\n",
              "      <td>2</td>\n",
              "      <td>1</td>\n",
              "      <td>1</td>\n",
              "      <td>2</td>\n",
              "      <td>1</td>\n",
              "      <td>2</td>\n",
              "      <td>0.388366</td>\n",
              "      <td>1.0</td>\n",
              "      <td>0</td>\n",
              "      <td>0.0</td>\n",
              "      <td>0.0</td>\n",
              "      <td>32765</td>\n",
              "      <td>12000.0</td>\n",
              "      <td>0</td>\n",
              "      <td>2</td>\n",
              "      <td>0</td>\n",
              "      <td>1</td>\n",
              "      <td>1.0</td>\n",
              "    </tr>\n",
              "    <tr>\n",
              "      <th>...</th>\n",
              "      <td>...</td>\n",
              "      <td>...</td>\n",
              "      <td>...</td>\n",
              "      <td>...</td>\n",
              "      <td>...</td>\n",
              "      <td>...</td>\n",
              "      <td>...</td>\n",
              "      <td>...</td>\n",
              "      <td>...</td>\n",
              "      <td>...</td>\n",
              "      <td>...</td>\n",
              "      <td>...</td>\n",
              "      <td>...</td>\n",
              "      <td>...</td>\n",
              "      <td>...</td>\n",
              "      <td>...</td>\n",
              "      <td>...</td>\n",
              "      <td>...</td>\n",
              "    </tr>\n",
              "    <tr>\n",
              "      <th>9995</th>\n",
              "      <td>2</td>\n",
              "      <td>0</td>\n",
              "      <td>1</td>\n",
              "      <td>2</td>\n",
              "      <td>3</td>\n",
              "      <td>4</td>\n",
              "      <td>0.582787</td>\n",
              "      <td>1.0</td>\n",
              "      <td>0</td>\n",
              "      <td>0.0</td>\n",
              "      <td>0.0</td>\n",
              "      <td>10238</td>\n",
              "      <td>16000.0</td>\n",
              "      <td>0</td>\n",
              "      <td>0</td>\n",
              "      <td>0</td>\n",
              "      <td>1</td>\n",
              "      <td>0.0</td>\n",
              "    </tr>\n",
              "    <tr>\n",
              "      <th>9996</th>\n",
              "      <td>2</td>\n",
              "      <td>0</td>\n",
              "      <td>1</td>\n",
              "      <td>2</td>\n",
              "      <td>1</td>\n",
              "      <td>3</td>\n",
              "      <td>0.522231</td>\n",
              "      <td>1.0</td>\n",
              "      <td>1</td>\n",
              "      <td>0.0</td>\n",
              "      <td>1.0</td>\n",
              "      <td>32765</td>\n",
              "      <td>12000.0</td>\n",
              "      <td>0</td>\n",
              "      <td>1</td>\n",
              "      <td>0</td>\n",
              "      <td>0</td>\n",
              "      <td>0.0</td>\n",
              "    </tr>\n",
              "    <tr>\n",
              "      <th>9997</th>\n",
              "      <td>2</td>\n",
              "      <td>1</td>\n",
              "      <td>1</td>\n",
              "      <td>1</td>\n",
              "      <td>2</td>\n",
              "      <td>3</td>\n",
              "      <td>0.470940</td>\n",
              "      <td>1.0</td>\n",
              "      <td>0</td>\n",
              "      <td>0.0</td>\n",
              "      <td>1.0</td>\n",
              "      <td>10238</td>\n",
              "      <td>14000.0</td>\n",
              "      <td>0</td>\n",
              "      <td>0</td>\n",
              "      <td>0</td>\n",
              "      <td>0</td>\n",
              "      <td>0.0</td>\n",
              "    </tr>\n",
              "    <tr>\n",
              "      <th>9998</th>\n",
              "      <td>2</td>\n",
              "      <td>0</td>\n",
              "      <td>1</td>\n",
              "      <td>2</td>\n",
              "      <td>2</td>\n",
              "      <td>1</td>\n",
              "      <td>0.364185</td>\n",
              "      <td>0.0</td>\n",
              "      <td>0</td>\n",
              "      <td>0.0</td>\n",
              "      <td>1.0</td>\n",
              "      <td>10238</td>\n",
              "      <td>13000.0</td>\n",
              "      <td>0</td>\n",
              "      <td>2</td>\n",
              "      <td>0</td>\n",
              "      <td>1</td>\n",
              "      <td>1.0</td>\n",
              "    </tr>\n",
              "    <tr>\n",
              "      <th>9999</th>\n",
              "      <td>2</td>\n",
              "      <td>0</td>\n",
              "      <td>1</td>\n",
              "      <td>1</td>\n",
              "      <td>1</td>\n",
              "      <td>2</td>\n",
              "      <td>0.435225</td>\n",
              "      <td>1.0</td>\n",
              "      <td>0</td>\n",
              "      <td>1.0</td>\n",
              "      <td>1.0</td>\n",
              "      <td>10238</td>\n",
              "      <td>13000.0</td>\n",
              "      <td>0</td>\n",
              "      <td>0</td>\n",
              "      <td>0</td>\n",
              "      <td>0</td>\n",
              "      <td>0.0</td>\n",
              "    </tr>\n",
              "  </tbody>\n",
              "</table>\n",
              "<p>9677 rows × 18 columns</p>\n",
              "</div>\n",
              "      <button class=\"colab-df-convert\" onclick=\"convertToInteractive('df-eb918e9a-20ed-40a7-9a00-e697f3ef842b')\"\n",
              "              title=\"Convert this dataframe to an interactive table.\"\n",
              "              style=\"display:none;\">\n",
              "        \n",
              "  <svg xmlns=\"http://www.w3.org/2000/svg\" height=\"24px\"viewBox=\"0 0 24 24\"\n",
              "       width=\"24px\">\n",
              "    <path d=\"M0 0h24v24H0V0z\" fill=\"none\"/>\n",
              "    <path d=\"M18.56 5.44l.94 2.06.94-2.06 2.06-.94-2.06-.94-.94-2.06-.94 2.06-2.06.94zm-11 1L8.5 8.5l.94-2.06 2.06-.94-2.06-.94L8.5 2.5l-.94 2.06-2.06.94zm10 10l.94 2.06.94-2.06 2.06-.94-2.06-.94-.94-2.06-.94 2.06-2.06.94z\"/><path d=\"M17.41 7.96l-1.37-1.37c-.4-.4-.92-.59-1.43-.59-.52 0-1.04.2-1.43.59L10.3 9.45l-7.72 7.72c-.78.78-.78 2.05 0 2.83L4 21.41c.39.39.9.59 1.41.59.51 0 1.02-.2 1.41-.59l7.78-7.78 2.81-2.81c.8-.78.8-2.07 0-2.86zM5.41 20L4 18.59l7.72-7.72 1.47 1.35L5.41 20z\"/>\n",
              "  </svg>\n",
              "      </button>\n",
              "      \n",
              "  <style>\n",
              "    .colab-df-container {\n",
              "      display:flex;\n",
              "      flex-wrap:wrap;\n",
              "      gap: 12px;\n",
              "    }\n",
              "\n",
              "    .colab-df-convert {\n",
              "      background-color: #E8F0FE;\n",
              "      border: none;\n",
              "      border-radius: 50%;\n",
              "      cursor: pointer;\n",
              "      display: none;\n",
              "      fill: #1967D2;\n",
              "      height: 32px;\n",
              "      padding: 0 0 0 0;\n",
              "      width: 32px;\n",
              "    }\n",
              "\n",
              "    .colab-df-convert:hover {\n",
              "      background-color: #E2EBFA;\n",
              "      box-shadow: 0px 1px 2px rgba(60, 64, 67, 0.3), 0px 1px 3px 1px rgba(60, 64, 67, 0.15);\n",
              "      fill: #174EA6;\n",
              "    }\n",
              "\n",
              "    [theme=dark] .colab-df-convert {\n",
              "      background-color: #3B4455;\n",
              "      fill: #D2E3FC;\n",
              "    }\n",
              "\n",
              "    [theme=dark] .colab-df-convert:hover {\n",
              "      background-color: #434B5C;\n",
              "      box-shadow: 0px 1px 3px 1px rgba(0, 0, 0, 0.15);\n",
              "      filter: drop-shadow(0px 1px 2px rgba(0, 0, 0, 0.3));\n",
              "      fill: #FFFFFF;\n",
              "    }\n",
              "  </style>\n",
              "\n",
              "      <script>\n",
              "        const buttonEl =\n",
              "          document.querySelector('#df-eb918e9a-20ed-40a7-9a00-e697f3ef842b button.colab-df-convert');\n",
              "        buttonEl.style.display =\n",
              "          google.colab.kernel.accessAllowed ? 'block' : 'none';\n",
              "\n",
              "        async function convertToInteractive(key) {\n",
              "          const element = document.querySelector('#df-eb918e9a-20ed-40a7-9a00-e697f3ef842b');\n",
              "          const dataTable =\n",
              "            await google.colab.kernel.invokeFunction('convertToInteractive',\n",
              "                                                     [key], {});\n",
              "          if (!dataTable) return;\n",
              "\n",
              "          const docLinkHtml = 'Like what you see? Visit the ' +\n",
              "            '<a target=\"_blank\" href=https://colab.research.google.com/notebooks/data_table.ipynb>data table notebook</a>'\n",
              "            + ' to learn more about interactive tables.';\n",
              "          element.innerHTML = '';\n",
              "          dataTable['output_type'] = 'display_data';\n",
              "          await google.colab.output.renderOutput(dataTable, element);\n",
              "          const docLink = document.createElement('div');\n",
              "          docLink.innerHTML = docLinkHtml;\n",
              "          element.appendChild(docLink);\n",
              "        }\n",
              "      </script>\n",
              "    </div>\n",
              "  </div>\n",
              "  "
            ]
          },
          "metadata": {},
          "execution_count": 32
        }
      ],
      "source": [
        "df"
      ]
    },
    {
      "cell_type": "code",
      "execution_count": 33,
      "metadata": {
        "colab": {
          "base_uri": "https://localhost:8080/",
          "height": 701
        },
        "id": "gsUQ6N3nzMeQ",
        "outputId": "2ad9db90-a26d-4670-d074-352965d98103"
      },
      "outputs": [
        {
          "output_type": "display_data",
          "data": {
            "text/plain": [
              "<Figure size 1440x720 with 2 Axes>"
            ],
            "image/png": "[encoded data removed]"
          },
          "metadata": {
            "needs_background": "light"
          }
        }
      ],
      "source": [
        "#we draw the correlation plot to check multicolineraity \n",
        "corrmat=df.corr()\n",
        "top_corr_features=corrmat.index\n",
        "plt.figure(figsize=(20,10))\n",
        "\n",
        "#plot heatmap\n",
        "\n",
        "g=sns.heatmap(df[top_corr_features].corr(),annot=True,cmap=\"RdYlGn\")"
      ]
    },
    {
      "cell_type": "code",
      "execution_count": 34,
      "metadata": {
        "colab": {
          "base_uri": "https://localhost:8080/"
        },
        "id": "jltIC7vk0O4t",
        "outputId": "41a80f0d-055e-4282-bdd1-73b7bbde81e1"
      },
      "outputs": [
        {
          "output_type": "execute_result",
          "data": {
            "text/plain": [
              "['AGE',\n",
              " 'GENDER',\n",
              " 'RACE',\n",
              " 'DRIVING_EXPERIENCE',\n",
              " 'EDUCATION',\n",
              " 'INCOME',\n",
              " 'CREDIT_SCORE',\n",
              " 'VEHICLE_OWNERSHIP',\n",
              " 'VEHICLE_YEAR',\n",
              " 'MARRIED',\n",
              " 'CHILDREN',\n",
              " 'POSTAL_CODE',\n",
              " 'ANNUAL_MILEAGE',\n",
              " 'VEHICLE_TYPE',\n",
              " 'SPEEDING_VIOLATIONS',\n",
              " 'DUIS',\n",
              " 'PAST_ACCIDENTS']"
            ]
          },
          "metadata": {},
          "execution_count": 34
        }
      ],
      "source": [
        "list_Indpndt_features = [feature for feature in df.columns if 'OUTCOME' not in feature ]\n",
        "list_Indpndt_features"
      ]
    },
    {
      "cell_type": "code",
      "execution_count": 35,
      "metadata": {
        "colab": {
          "base_uri": "https://localhost:8080/"
        },
        "id": "ik2D_syN0laP",
        "outputId": "c77f639d-66ae-45c1-b01f-1c5029a4b7f4"
      },
      "outputs": [
        {
          "output_type": "stream",
          "name": "stderr",
          "text": [
            "/usr/local/lib/python3.7/dist-packages/statsmodels/tools/_testing.py:19: FutureWarning: pandas.util.testing is deprecated. Use the functions in the public API at pandas.testing instead.\n",
            "  import pandas.util.testing as tm\n"
          ]
        },
        {
          "output_type": "stream",
          "name": "stdout",
          "text": [
            "                feature        VIF\n",
            "0                   AGE  20.268671\n",
            "1                GENDER   2.324815\n",
            "2                  RACE   9.186717\n",
            "3    DRIVING_EXPERIENCE  19.026435\n",
            "4             EDUCATION  14.577769\n",
            "5                INCOME  30.815971\n",
            "6          CREDIT_SCORE  33.856095\n",
            "7     VEHICLE_OWNERSHIP   4.029117\n",
            "8          VEHICLE_YEAR   1.650240\n",
            "9               MARRIED   2.663648\n",
            "10             CHILDREN   3.928122\n",
            "11          POSTAL_CODE   2.132169\n",
            "12       ANNUAL_MILEAGE  16.074179\n",
            "13         VEHICLE_TYPE   1.049999\n",
            "14  SPEEDING_VIOLATIONS   2.970137\n",
            "15                 DUIS   1.450724\n",
            "16       PAST_ACCIDENTS   2.545695\n"
          ]
        }
      ],
      "source": [
        "#VIF should be less than the 10 per gausian\n",
        "\n",
        "\n",
        "\n",
        "import seaborn as sns\n",
        "from scipy.stats import shapiro\n",
        "from statsmodels.stats.outliers_influence import variance_inflation_factor\n",
        "vif_data = pd.DataFrame() \n",
        "vif_data[\"feature\"] =df[list_Indpndt_features].columns\n",
        "  \n",
        "  \n",
        "# calculating VIF for each feature\n",
        "vif_data[\"VIF\"] = [variance_inflation_factor(df[list_Indpndt_features].values, i)\n",
        "                          for i in range(len(df[list_Indpndt_features].columns))]\n",
        "  \n",
        "print(vif_data)"
      ]
    },
    {
      "cell_type": "code",
      "execution_count": 36,
      "metadata": {
        "colab": {
          "base_uri": "https://localhost:8080/"
        },
        "id": "ZCNPkmW91Lwt",
        "outputId": "e0394aa3-0f91-4b3e-9a7f-5d9d1df7c74d"
      },
      "outputs": [
        {
          "output_type": "stream",
          "name": "stdout",
          "text": [
            "AGE  &  DRIVING_EXPERIENCE  =  0.7028804261257406\n",
            "AGE  &  INCOME  =  0.6516666048537609\n",
            "AGE  &  CREDIT_SCORE  =  0.5024828547557428\n",
            "DRIVING_EXPERIENCE  &  SPEEDING_VIOLATIONS  =  0.6456759605583483\n",
            "DRIVING_EXPERIENCE  &  PAST_ACCIDENTS  =  0.605749854237892\n",
            "EDUCATION  &  INCOME  =  0.5621250356616857\n",
            "INCOME  &  CREDIT_SCORE  =  0.7601511294074481\n"
          ]
        }
      ],
      "source": [
        "#Assumptions of Dependent and Independent Features\n",
        "#The Independent features are Highly corelated with each other listing of those variables which are more than 0.5 correlating\n",
        "for i in range (0,len(list_Indpndt_features)):\n",
        "    for j in range (i+1 , len(list_Indpndt_features)):\n",
        "        correlation  = df[list_Indpndt_features[i]].corr(df[list_Indpndt_features[j]])\n",
        "        if (correlation>=0.5):\n",
        "            print( list_Indpndt_features[i],' & ', list_Indpndt_features[j] , \" = \" , correlation)"
      ]
    },
    {
      "cell_type": "code",
      "execution_count": 37,
      "metadata": {
        "colab": {
          "base_uri": "https://localhost:8080/"
        },
        "id": "uPQA4LlhoYMo",
        "outputId": "c32beccb-5cb3-4161-a20f-f265916bbda3"
      },
      "outputs": [
        {
          "output_type": "execute_result",
          "data": {
            "text/plain": [
              "AGE                      int64\n",
              "GENDER                   int64\n",
              "RACE                     int64\n",
              "DRIVING_EXPERIENCE       int64\n",
              "EDUCATION                int64\n",
              "INCOME                   int64\n",
              "CREDIT_SCORE           float64\n",
              "VEHICLE_OWNERSHIP      float64\n",
              "VEHICLE_YEAR             int64\n",
              "MARRIED                float64\n",
              "CHILDREN               float64\n",
              "POSTAL_CODE              int64\n",
              "ANNUAL_MILEAGE         float64\n",
              "VEHICLE_TYPE             int64\n",
              "SPEEDING_VIOLATIONS      int64\n",
              "DUIS                     int64\n",
              "PAST_ACCIDENTS           int64\n",
              "OUTCOME                float64\n",
              "dtype: object"
            ]
          },
          "metadata": {},
          "execution_count": 37
        }
      ],
      "source": [
        "df.dtypes"
      ]
    },
    {
      "cell_type": "code",
      "execution_count": 38,
      "metadata": {
        "colab": {
          "base_uri": "https://localhost:8080/"
        },
        "id": "6-LwMhThqWhp",
        "outputId": "e382198d-8ace-4908-891b-798b3e6c9ac7"
      },
      "outputs": [
        {
          "output_type": "execute_result",
          "data": {
            "text/plain": [
              "[]"
            ]
          },
          "metadata": {},
          "execution_count": 38
        }
      ],
      "source": [
        "# Categorical vaiables\n",
        "cat_vars = [var for var in df.columns if df[var].dtype == 'O']\n",
        "\n",
        "cat_vars"
      ]
    },
    {
      "cell_type": "code",
      "execution_count": 39,
      "metadata": {
        "colab": {
          "base_uri": "https://localhost:8080/"
        },
        "id": "zTAJ7Qv2qbOX",
        "outputId": "a459774b-4822-40b3-fac5-1fe41bff5874"
      },
      "outputs": [
        {
          "output_type": "execute_result",
          "data": {
            "text/plain": [
              "['AGE',\n",
              " 'GENDER',\n",
              " 'RACE',\n",
              " 'DRIVING_EXPERIENCE',\n",
              " 'EDUCATION',\n",
              " 'INCOME',\n",
              " 'CREDIT_SCORE',\n",
              " 'VEHICLE_OWNERSHIP',\n",
              " 'VEHICLE_YEAR',\n",
              " 'MARRIED',\n",
              " 'CHILDREN',\n",
              " 'POSTAL_CODE',\n",
              " 'ANNUAL_MILEAGE',\n",
              " 'VEHICLE_TYPE',\n",
              " 'SPEEDING_VIOLATIONS',\n",
              " 'DUIS',\n",
              " 'PAST_ACCIDENTS',\n",
              " 'OUTCOME']"
            ]
          },
          "metadata": {},
          "execution_count": 39
        }
      ],
      "source": [
        "# Numeric variables\n",
        "num_vars = [\n",
        "    var for var in df.columns if var not in cat_vars \n",
        "]\n",
        "\n",
        "num_vars"
      ]
    },
    {
      "cell_type": "code",
      "execution_count": 40,
      "metadata": {
        "colab": {
          "base_uri": "https://localhost:8080/"
        },
        "id": "rji7Hzz5t16Z",
        "outputId": "ffc16287-7eb8-42ce-bbaf-62ae3d7f64ca"
      },
      "outputs": [
        {
          "output_type": "stream",
          "name": "stdout",
          "text": [
            "Number of discrete variables:  ['AGE', 'GENDER', 'RACE', 'DRIVING_EXPERIENCE', 'EDUCATION', 'INCOME', 'VEHICLE_OWNERSHIP', 'VEHICLE_YEAR', 'MARRIED', 'CHILDREN', 'POSTAL_CODE', 'ANNUAL_MILEAGE', 'VEHICLE_TYPE', 'SPEEDING_VIOLATIONS', 'DUIS', 'PAST_ACCIDENTS', 'OUTCOME']\n"
          ]
        }
      ],
      "source": [
        "discrete_vars = [var for var in num_vars if len(\n",
        "    df[var].unique()) < 20 ]\n",
        "\n",
        "print('Number of discrete variables: ', discrete_vars)"
      ]
    },
    {
      "cell_type": "code",
      "execution_count": 41,
      "metadata": {
        "colab": {
          "base_uri": "https://localhost:8080/"
        },
        "id": "0xwu48ZMzy_S",
        "outputId": "623d6aae-97e6-479b-80a1-84d838aa8775"
      },
      "outputs": [
        {
          "output_type": "stream",
          "name": "stdout",
          "text": [
            "Number of continuous variables:  ['CREDIT_SCORE']\n"
          ]
        }
      ],
      "source": [
        "# list of continuous variables\n",
        "cont_vars = [\n",
        "    var for var in num_vars if var not in discrete_vars]\n",
        "\n",
        "print('Number of continuous variables: ', cont_vars)"
      ]
    },
    {
      "cell_type": "code",
      "execution_count": 42,
      "metadata": {
        "colab": {
          "base_uri": "https://localhost:8080/",
          "height": 336
        },
        "id": "zFGreeEY0ElU",
        "outputId": "b3c8cb84-c429-40a2-94db-ae6a0bbd67c1"
      },
      "outputs": [
        {
          "output_type": "display_data",
          "data": {
            "text/plain": [
              "<Figure size 720x360 with 1 Axes>"
            ],
            "image/png": "[encoded data removed]"
          },
          "metadata": {
            "needs_background": "light"
          }
        }
      ],
      "source": [
        "# histograms for all continuous variables \n",
        "# continous variable is normally distributed\n",
        "df[cont_vars].hist(bins=30, figsize=(10,5))\n",
        "plt.show()"
      ]
    },
    {
      "cell_type": "code",
      "execution_count": 43,
      "metadata": {
        "colab": {
          "base_uri": "https://localhost:8080/",
          "height": 323
        },
        "id": "UAO7AqmRmZM-",
        "outputId": "8d7e4a2a-329e-40db-a718-9562fa9f515a"
      },
      "outputs": [
        {
          "output_type": "display_data",
          "data": {
            "text/plain": [
              "<Figure size 720x360 with 1 Axes>"
            ],
            "image/png": "[encoded data removed]"
          },
          "metadata": {
            "needs_background": "light"
          }
        }
      ],
      "source": [
        "#outcome count\n",
        "df['OUTCOME'].hist(bins=30, figsize=(10,5))\n",
        "plt.show()"
      ]
    },
    {
      "cell_type": "code",
      "execution_count": 44,
      "metadata": {
        "colab": {
          "base_uri": "https://localhost:8080/",
          "height": 206
        },
        "id": "nAyksXfQmZKf",
        "outputId": "69f92a41-8d0e-4f42-89b4-465264321b8e"
      },
      "outputs": [
        {
          "output_type": "execute_result",
          "data": {
            "text/plain": [
              "   AGE  GENDER  DRIVING_EXPERIENCE  EDUCATION  INCOME  CREDIT_SCORE  \\\n",
              "0    4       0                   1          2       4      0.629027   \n",
              "1    1       1                   1          1       1      0.357757   \n",
              "2    1       0                   1          2       2      0.493146   \n",
              "3    1       1                   1          3       2      0.206013   \n",
              "4    2       1                   2          1       2      0.388366   \n",
              "\n",
              "   VEHICLE_OWNERSHIP  VEHICLE_YEAR  MARRIED  CHILDREN  SPEEDING_VIOLATIONS  \\\n",
              "0                1.0             1      0.0       1.0                    0   \n",
              "1                0.0             0      0.0       0.0                    0   \n",
              "2                1.0             0      0.0       0.0                    0   \n",
              "3                1.0             0      0.0       1.0                    0   \n",
              "4                1.0             0      0.0       0.0                    2   \n",
              "\n",
              "   DUIS  PAST_ACCIDENTS  OUTCOME  \n",
              "0     0               0      0.0  \n",
              "1     0               0      1.0  \n",
              "2     0               0      0.0  \n",
              "3     0               0      0.0  \n",
              "4     0               1      1.0  "
            ],
            "text/html": [
              "\n",
              "  <div id=\"df-d766c4a0-e035-4583-ae0e-f4cc5d995b03\">\n",
              "    <div class=\"colab-df-container\">\n",
              "      <div>\n",
              "<style scoped>\n",
              "    .dataframe tbody tr th:only-of-type {\n",
              "        vertical-align: middle;\n",
              "    }\n",
              "\n",
              "    .dataframe tbody tr th {\n",
              "        vertical-align: top;\n",
              "    }\n",
              "\n",
              "    .dataframe thead th {\n",
              "        text-align: right;\n",
              "    }\n",
              "</style>\n",
              "<table border=\"1\" class=\"dataframe\">\n",
              "  <thead>\n",
              "    <tr style=\"text-align: right;\">\n",
              "      <th></th>\n",
              "      <th>AGE</th>\n",
              "      <th>GENDER</th>\n",
              "      <th>DRIVING_EXPERIENCE</th>\n",
              "      <th>EDUCATION</th>\n",
              "      <th>INCOME</th>\n",
              "      <th>CREDIT_SCORE</th>\n",
              "      <th>VEHICLE_OWNERSHIP</th>\n",
              "      <th>VEHICLE_YEAR</th>\n",
              "      <th>MARRIED</th>\n",
              "      <th>CHILDREN</th>\n",
              "      <th>SPEEDING_VIOLATIONS</th>\n",
              "      <th>DUIS</th>\n",
              "      <th>PAST_ACCIDENTS</th>\n",
              "      <th>OUTCOME</th>\n",
              "    </tr>\n",
              "  </thead>\n",
              "  <tbody>\n",
              "    <tr>\n",
              "      <th>0</th>\n",
              "      <td>4</td>\n",
              "      <td>0</td>\n",
              "      <td>1</td>\n",
              "      <td>2</td>\n",
              "      <td>4</td>\n",
              "      <td>0.629027</td>\n",
              "      <td>1.0</td>\n",
              "      <td>1</td>\n",
              "      <td>0.0</td>\n",
              "      <td>1.0</td>\n",
              "      <td>0</td>\n",
              "      <td>0</td>\n",
              "      <td>0</td>\n",
              "      <td>0.0</td>\n",
              "    </tr>\n",
              "    <tr>\n",
              "      <th>1</th>\n",
              "      <td>1</td>\n",
              "      <td>1</td>\n",
              "      <td>1</td>\n",
              "      <td>1</td>\n",
              "      <td>1</td>\n",
              "      <td>0.357757</td>\n",
              "      <td>0.0</td>\n",
              "      <td>0</td>\n",
              "      <td>0.0</td>\n",
              "      <td>0.0</td>\n",
              "      <td>0</td>\n",
              "      <td>0</td>\n",
              "      <td>0</td>\n",
              "      <td>1.0</td>\n",
              "    </tr>\n",
              "    <tr>\n",
              "      <th>2</th>\n",
              "      <td>1</td>\n",
              "      <td>0</td>\n",
              "      <td>1</td>\n",
              "      <td>2</td>\n",
              "      <td>2</td>\n",
              "      <td>0.493146</td>\n",
              "      <td>1.0</td>\n",
              "      <td>0</td>\n",
              "      <td>0.0</td>\n",
              "      <td>0.0</td>\n",
              "      <td>0</td>\n",
              "      <td>0</td>\n",
              "      <td>0</td>\n",
              "      <td>0.0</td>\n",
              "    </tr>\n",
              "    <tr>\n",
              "      <th>3</th>\n",
              "      <td>1</td>\n",
              "      <td>1</td>\n",
              "      <td>1</td>\n",
              "      <td>3</td>\n",
              "      <td>2</td>\n",
              "      <td>0.206013</td>\n",
              "      <td>1.0</td>\n",
              "      <td>0</td>\n",
              "      <td>0.0</td>\n",
              "      <td>1.0</td>\n",
              "      <td>0</td>\n",
              "      <td>0</td>\n",
              "      <td>0</td>\n",
              "      <td>0.0</td>\n",
              "    </tr>\n",
              "    <tr>\n",
              "      <th>4</th>\n",
              "      <td>2</td>\n",
              "      <td>1</td>\n",
              "      <td>2</td>\n",
              "      <td>1</td>\n",
              "      <td>2</td>\n",
              "      <td>0.388366</td>\n",
              "      <td>1.0</td>\n",
              "      <td>0</td>\n",
              "      <td>0.0</td>\n",
              "      <td>0.0</td>\n",
              "      <td>2</td>\n",
              "      <td>0</td>\n",
              "      <td>1</td>\n",
              "      <td>1.0</td>\n",
              "    </tr>\n",
              "  </tbody>\n",
              "</table>\n",
              "</div>\n",
              "      <button class=\"colab-df-convert\" onclick=\"convertToInteractive('df-d766c4a0-e035-4583-ae0e-f4cc5d995b03')\"\n",
              "              title=\"Convert this dataframe to an interactive table.\"\n",
              "              style=\"display:none;\">\n",
              "        \n",
              "  <svg xmlns=\"http://www.w3.org/2000/svg\" height=\"24px\"viewBox=\"0 0 24 24\"\n",
              "       width=\"24px\">\n",
              "    <path d=\"M0 0h24v24H0V0z\" fill=\"none\"/>\n",
              "    <path d=\"M18.56 5.44l.94 2.06.94-2.06 2.06-.94-2.06-.94-.94-2.06-.94 2.06-2.06.94zm-11 1L8.5 8.5l.94-2.06 2.06-.94-2.06-.94L8.5 2.5l-.94 2.06-2.06.94zm10 10l.94 2.06.94-2.06 2.06-.94-2.06-.94-.94-2.06-.94 2.06-2.06.94z\"/><path d=\"M17.41 7.96l-1.37-1.37c-.4-.4-.92-.59-1.43-.59-.52 0-1.04.2-1.43.59L10.3 9.45l-7.72 7.72c-.78.78-.78 2.05 0 2.83L4 21.41c.39.39.9.59 1.41.59.51 0 1.02-.2 1.41-.59l7.78-7.78 2.81-2.81c.8-.78.8-2.07 0-2.86zM5.41 20L4 18.59l7.72-7.72 1.47 1.35L5.41 20z\"/>\n",
              "  </svg>\n",
              "      </button>\n",
              "      \n",
              "  <style>\n",
              "    .colab-df-container {\n",
              "      display:flex;\n",
              "      flex-wrap:wrap;\n",
              "      gap: 12px;\n",
              "    }\n",
              "\n",
              "    .colab-df-convert {\n",
              "      background-color: #E8F0FE;\n",
              "      border: none;\n",
              "      border-radius: 50%;\n",
              "      cursor: pointer;\n",
              "      display: none;\n",
              "      fill: #1967D2;\n",
              "      height: 32px;\n",
              "      padding: 0 0 0 0;\n",
              "      width: 32px;\n",
              "    }\n",
              "\n",
              "    .colab-df-convert:hover {\n",
              "      background-color: #E2EBFA;\n",
              "      box-shadow: 0px 1px 2px rgba(60, 64, 67, 0.3), 0px 1px 3px 1px rgba(60, 64, 67, 0.15);\n",
              "      fill: #174EA6;\n",
              "    }\n",
              "\n",
              "    [theme=dark] .colab-df-convert {\n",
              "      background-color: #3B4455;\n",
              "      fill: #D2E3FC;\n",
              "    }\n",
              "\n",
              "    [theme=dark] .colab-df-convert:hover {\n",
              "      background-color: #434B5C;\n",
              "      box-shadow: 0px 1px 3px 1px rgba(0, 0, 0, 0.15);\n",
              "      filter: drop-shadow(0px 1px 2px rgba(0, 0, 0, 0.3));\n",
              "      fill: #FFFFFF;\n",
              "    }\n",
              "  </style>\n",
              "\n",
              "      <script>\n",
              "        const buttonEl =\n",
              "          document.querySelector('#df-d766c4a0-e035-4583-ae0e-f4cc5d995b03 button.colab-df-convert');\n",
              "        buttonEl.style.display =\n",
              "          google.colab.kernel.accessAllowed ? 'block' : 'none';\n",
              "\n",
              "        async function convertToInteractive(key) {\n",
              "          const element = document.querySelector('#df-d766c4a0-e035-4583-ae0e-f4cc5d995b03');\n",
              "          const dataTable =\n",
              "            await google.colab.kernel.invokeFunction('convertToInteractive',\n",
              "                                                     [key], {});\n",
              "          if (!dataTable) return;\n",
              "\n",
              "          const docLinkHtml = 'Like what you see? Visit the ' +\n",
              "            '<a target=\"_blank\" href=https://colab.research.google.com/notebooks/data_table.ipynb>data table notebook</a>'\n",
              "            + ' to learn more about interactive tables.';\n",
              "          element.innerHTML = '';\n",
              "          dataTable['output_type'] = 'display_data';\n",
              "          await google.colab.output.renderOutput(dataTable, element);\n",
              "          const docLink = document.createElement('div');\n",
              "          docLink.innerHTML = docLinkHtml;\n",
              "          element.appendChild(docLink);\n",
              "        }\n",
              "      </script>\n",
              "    </div>\n",
              "  </div>\n",
              "  "
            ]
          },
          "metadata": {},
          "execution_count": 44
        }
      ],
      "source": [
        "#removing unncecssary and less correlated columns from the data frame\n",
        "df_1 = df.copy()\n",
        "new_features=['POSTAL_CODE','RACE','VEHICLE_TYPE','ANNUAL_MILEAGE']\n",
        "df_1=df_1.drop(columns=new_features, axis=1).copy()\n",
        "df_1.head()"
      ]
    },
    {
      "cell_type": "code",
      "execution_count": 45,
      "metadata": {
        "colab": {
          "base_uri": "https://localhost:8080/"
        },
        "id": "ew8wXeXGNXzX",
        "outputId": "a5e0c072-293c-45bd-b1e4-601a39312eae"
      },
      "outputs": [
        {
          "output_type": "execute_result",
          "data": {
            "text/plain": [
              "['AGE',\n",
              " 'GENDER',\n",
              " 'DRIVING_EXPERIENCE',\n",
              " 'EDUCATION',\n",
              " 'INCOME',\n",
              " 'CREDIT_SCORE',\n",
              " 'VEHICLE_OWNERSHIP',\n",
              " 'VEHICLE_YEAR',\n",
              " 'MARRIED',\n",
              " 'CHILDREN',\n",
              " 'SPEEDING_VIOLATIONS',\n",
              " 'DUIS',\n",
              " 'PAST_ACCIDENTS']"
            ]
          },
          "metadata": {},
          "execution_count": 45
        }
      ],
      "source": [
        "list_Indpndt_features = [feature for feature in df_1.columns if 'OUTCOME' not in feature ]\n",
        "list_Indpndt_features"
      ]
    },
    {
      "cell_type": "code",
      "execution_count": 46,
      "metadata": {
        "colab": {
          "base_uri": "https://localhost:8080/"
        },
        "id": "OBZEGbKjmZE7",
        "outputId": "ffee5ee3-f34e-4eac-a7f8-9e33c304520a"
      },
      "outputs": [
        {
          "output_type": "stream",
          "name": "stdout",
          "text": [
            "                feature        VIF\n",
            "0                   AGE  20.115862\n",
            "1                GENDER   2.087832\n",
            "2    DRIVING_EXPERIENCE  17.071217\n",
            "3             EDUCATION  12.738985\n",
            "4                INCOME  27.842878\n",
            "5          CREDIT_SCORE  24.811832\n",
            "6     VEHICLE_OWNERSHIP   3.994758\n",
            "7          VEHICLE_YEAR   1.646485\n",
            "8               MARRIED   2.509492\n",
            "9              CHILDREN   3.848815\n",
            "10  SPEEDING_VIOLATIONS   2.627712\n",
            "11                 DUIS   1.444669\n",
            "12       PAST_ACCIDENTS   2.370459\n"
          ]
        }
      ],
      "source": [
        "#we again check for VIF score \n",
        "import seaborn as sns\n",
        "from scipy.stats import shapiro\n",
        "from statsmodels.stats.outliers_influence import variance_inflation_factor\n",
        "vif_data = pd.DataFrame() \n",
        "vif_data[\"feature\"] =df_1[list_Indpndt_features].columns\n",
        "  \n",
        "  \n",
        "# calculating VIF for each feature\n",
        "vif_data[\"VIF\"] = [variance_inflation_factor(df_1[list_Indpndt_features].values, i)\n",
        "                          for i in range(len(df_1[list_Indpndt_features].columns))]\n",
        "  \n",
        "print(vif_data)"
      ]
    },
    {
      "cell_type": "code",
      "execution_count": 47,
      "metadata": {
        "colab": {
          "base_uri": "https://localhost:8080/"
        },
        "id": "o9jac21_M-n2",
        "outputId": "7898fc10-d081-4591-ea0b-87d5e5cf918a"
      },
      "outputs": [
        {
          "output_type": "stream",
          "name": "stdout",
          "text": [
            "AGE  &  DRIVING_EXPERIENCE  =  0.7028804261257406\n",
            "AGE  &  INCOME  =  0.6516666048537609\n",
            "AGE  &  CREDIT_SCORE  =  0.5024828547557428\n",
            "DRIVING_EXPERIENCE  &  SPEEDING_VIOLATIONS  =  0.6456759605583483\n",
            "DRIVING_EXPERIENCE  &  PAST_ACCIDENTS  =  0.605749854237892\n",
            "EDUCATION  &  INCOME  =  0.5621250356616857\n",
            "INCOME  &  CREDIT_SCORE  =  0.7601511294074481\n"
          ]
        }
      ],
      "source": [
        "#Assumptions of Dependent and Independent Features\n",
        "#Null Hypothesis 1 : - The Independent features are Highly corelated with each othe\n",
        "for i in range (0,len(list_Indpndt_features)):\n",
        "    for j in range (i+1 , len(list_Indpndt_features)):\n",
        "        correlation  = df[list_Indpndt_features[i]].corr(df[list_Indpndt_features[j]])\n",
        "        if (correlation>=0.5):\n",
        "            print( list_Indpndt_features[i],' & ', list_Indpndt_features[j] , \" = \" , correlation)"
      ]
    },
    {
      "cell_type": "code",
      "execution_count": 48,
      "metadata": {
        "colab": {
          "base_uri": "https://localhost:8080/",
          "height": 206
        },
        "id": "tJG1ozImM-lY",
        "outputId": "1803d522-0c1d-4021-ea7e-45235e73edb2"
      },
      "outputs": [
        {
          "output_type": "execute_result",
          "data": {
            "text/plain": [
              "   GENDER  DRIVING_EXPERIENCE  EDUCATION  INCOME  CREDIT_SCORE  \\\n",
              "0       0                   1          2       4      0.629027   \n",
              "1       1                   1          1       1      0.357757   \n",
              "2       0                   1          2       2      0.493146   \n",
              "3       1                   1          3       2      0.206013   \n",
              "4       1                   2          1       2      0.388366   \n",
              "\n",
              "   VEHICLE_OWNERSHIP  VEHICLE_YEAR  MARRIED  CHILDREN  SPEEDING_VIOLATIONS  \\\n",
              "0                1.0             1      0.0       1.0                    0   \n",
              "1                0.0             0      0.0       0.0                    0   \n",
              "2                1.0             0      0.0       0.0                    0   \n",
              "3                1.0             0      0.0       1.0                    0   \n",
              "4                1.0             0      0.0       0.0                    2   \n",
              "\n",
              "   DUIS  PAST_ACCIDENTS  OUTCOME  \n",
              "0     0               0      0.0  \n",
              "1     0               0      1.0  \n",
              "2     0               0      0.0  \n",
              "3     0               0      0.0  \n",
              "4     0               1      1.0  "
            ],
            "text/html": [
              "\n",
              "  <div id=\"df-2c8e7aa4-60d4-4832-bfb9-77ce45ae5524\">\n",
              "    <div class=\"colab-df-container\">\n",
              "      <div>\n",
              "<style scoped>\n",
              "    .dataframe tbody tr th:only-of-type {\n",
              "        vertical-align: middle;\n",
              "    }\n",
              "\n",
              "    .dataframe tbody tr th {\n",
              "        vertical-align: top;\n",
              "    }\n",
              "\n",
              "    .dataframe thead th {\n",
              "        text-align: right;\n",
              "    }\n",
              "</style>\n",
              "<table border=\"1\" class=\"dataframe\">\n",
              "  <thead>\n",
              "    <tr style=\"text-align: right;\">\n",
              "      <th></th>\n",
              "      <th>GENDER</th>\n",
              "      <th>DRIVING_EXPERIENCE</th>\n",
              "      <th>EDUCATION</th>\n",
              "      <th>INCOME</th>\n",
              "      <th>CREDIT_SCORE</th>\n",
              "      <th>VEHICLE_OWNERSHIP</th>\n",
              "      <th>VEHICLE_YEAR</th>\n",
              "      <th>MARRIED</th>\n",
              "      <th>CHILDREN</th>\n",
              "      <th>SPEEDING_VIOLATIONS</th>\n",
              "      <th>DUIS</th>\n",
              "      <th>PAST_ACCIDENTS</th>\n",
              "      <th>OUTCOME</th>\n",
              "    </tr>\n",
              "  </thead>\n",
              "  <tbody>\n",
              "    <tr>\n",
              "      <th>0</th>\n",
              "      <td>0</td>\n",
              "      <td>1</td>\n",
              "      <td>2</td>\n",
              "      <td>4</td>\n",
              "      <td>0.629027</td>\n",
              "      <td>1.0</td>\n",
              "      <td>1</td>\n",
              "      <td>0.0</td>\n",
              "      <td>1.0</td>\n",
              "      <td>0</td>\n",
              "      <td>0</td>\n",
              "      <td>0</td>\n",
              "      <td>0.0</td>\n",
              "    </tr>\n",
              "    <tr>\n",
              "      <th>1</th>\n",
              "      <td>1</td>\n",
              "      <td>1</td>\n",
              "      <td>1</td>\n",
              "      <td>1</td>\n",
              "      <td>0.357757</td>\n",
              "      <td>0.0</td>\n",
              "      <td>0</td>\n",
              "      <td>0.0</td>\n",
              "      <td>0.0</td>\n",
              "      <td>0</td>\n",
              "      <td>0</td>\n",
              "      <td>0</td>\n",
              "      <td>1.0</td>\n",
              "    </tr>\n",
              "    <tr>\n",
              "      <th>2</th>\n",
              "      <td>0</td>\n",
              "      <td>1</td>\n",
              "      <td>2</td>\n",
              "      <td>2</td>\n",
              "      <td>0.493146</td>\n",
              "      <td>1.0</td>\n",
              "      <td>0</td>\n",
              "      <td>0.0</td>\n",
              "      <td>0.0</td>\n",
              "      <td>0</td>\n",
              "      <td>0</td>\n",
              "      <td>0</td>\n",
              "      <td>0.0</td>\n",
              "    </tr>\n",
              "    <tr>\n",
              "      <th>3</th>\n",
              "      <td>1</td>\n",
              "      <td>1</td>\n",
              "      <td>3</td>\n",
              "      <td>2</td>\n",
              "      <td>0.206013</td>\n",
              "      <td>1.0</td>\n",
              "      <td>0</td>\n",
              "      <td>0.0</td>\n",
              "      <td>1.0</td>\n",
              "      <td>0</td>\n",
              "      <td>0</td>\n",
              "      <td>0</td>\n",
              "      <td>0.0</td>\n",
              "    </tr>\n",
              "    <tr>\n",
              "      <th>4</th>\n",
              "      <td>1</td>\n",
              "      <td>2</td>\n",
              "      <td>1</td>\n",
              "      <td>2</td>\n",
              "      <td>0.388366</td>\n",
              "      <td>1.0</td>\n",
              "      <td>0</td>\n",
              "      <td>0.0</td>\n",
              "      <td>0.0</td>\n",
              "      <td>2</td>\n",
              "      <td>0</td>\n",
              "      <td>1</td>\n",
              "      <td>1.0</td>\n",
              "    </tr>\n",
              "  </tbody>\n",
              "</table>\n",
              "</div>\n",
              "      <button class=\"colab-df-convert\" onclick=\"convertToInteractive('df-2c8e7aa4-60d4-4832-bfb9-77ce45ae5524')\"\n",
              "              title=\"Convert this dataframe to an interactive table.\"\n",
              "              style=\"display:none;\">\n",
              "        \n",
              "  <svg xmlns=\"http://www.w3.org/2000/svg\" height=\"24px\"viewBox=\"0 0 24 24\"\n",
              "       width=\"24px\">\n",
              "    <path d=\"M0 0h24v24H0V0z\" fill=\"none\"/>\n",
              "    <path d=\"M18.56 5.44l.94 2.06.94-2.06 2.06-.94-2.06-.94-.94-2.06-.94 2.06-2.06.94zm-11 1L8.5 8.5l.94-2.06 2.06-.94-2.06-.94L8.5 2.5l-.94 2.06-2.06.94zm10 10l.94 2.06.94-2.06 2.06-.94-2.06-.94-.94-2.06-.94 2.06-2.06.94z\"/><path d=\"M17.41 7.96l-1.37-1.37c-.4-.4-.92-.59-1.43-.59-.52 0-1.04.2-1.43.59L10.3 9.45l-7.72 7.72c-.78.78-.78 2.05 0 2.83L4 21.41c.39.39.9.59 1.41.59.51 0 1.02-.2 1.41-.59l7.78-7.78 2.81-2.81c.8-.78.8-2.07 0-2.86zM5.41 20L4 18.59l7.72-7.72 1.47 1.35L5.41 20z\"/>\n",
              "  </svg>\n",
              "      </button>\n",
              "      \n",
              "  <style>\n",
              "    .colab-df-container {\n",
              "      display:flex;\n",
              "      flex-wrap:wrap;\n",
              "      gap: 12px;\n",
              "    }\n",
              "\n",
              "    .colab-df-convert {\n",
              "      background-color: #E8F0FE;\n",
              "      border: none;\n",
              "      border-radius: 50%;\n",
              "      cursor: pointer;\n",
              "      display: none;\n",
              "      fill: #1967D2;\n",
              "      height: 32px;\n",
              "      padding: 0 0 0 0;\n",
              "      width: 32px;\n",
              "    }\n",
              "\n",
              "    .colab-df-convert:hover {\n",
              "      background-color: #E2EBFA;\n",
              "      box-shadow: 0px 1px 2px rgba(60, 64, 67, 0.3), 0px 1px 3px 1px rgba(60, 64, 67, 0.15);\n",
              "      fill: #174EA6;\n",
              "    }\n",
              "\n",
              "    [theme=dark] .colab-df-convert {\n",
              "      background-color: #3B4455;\n",
              "      fill: #D2E3FC;\n",
              "    }\n",
              "\n",
              "    [theme=dark] .colab-df-convert:hover {\n",
              "      background-color: #434B5C;\n",
              "      box-shadow: 0px 1px 3px 1px rgba(0, 0, 0, 0.15);\n",
              "      filter: drop-shadow(0px 1px 2px rgba(0, 0, 0, 0.3));\n",
              "      fill: #FFFFFF;\n",
              "    }\n",
              "  </style>\n",
              "\n",
              "      <script>\n",
              "        const buttonEl =\n",
              "          document.querySelector('#df-2c8e7aa4-60d4-4832-bfb9-77ce45ae5524 button.colab-df-convert');\n",
              "        buttonEl.style.display =\n",
              "          google.colab.kernel.accessAllowed ? 'block' : 'none';\n",
              "\n",
              "        async function convertToInteractive(key) {\n",
              "          const element = document.querySelector('#df-2c8e7aa4-60d4-4832-bfb9-77ce45ae5524');\n",
              "          const dataTable =\n",
              "            await google.colab.kernel.invokeFunction('convertToInteractive',\n",
              "                                                     [key], {});\n",
              "          if (!dataTable) return;\n",
              "\n",
              "          const docLinkHtml = 'Like what you see? Visit the ' +\n",
              "            '<a target=\"_blank\" href=https://colab.research.google.com/notebooks/data_table.ipynb>data table notebook</a>'\n",
              "            + ' to learn more about interactive tables.';\n",
              "          element.innerHTML = '';\n",
              "          dataTable['output_type'] = 'display_data';\n",
              "          await google.colab.output.renderOutput(dataTable, element);\n",
              "          const docLink = document.createElement('div');\n",
              "          docLink.innerHTML = docLinkHtml;\n",
              "          element.appendChild(docLink);\n",
              "        }\n",
              "      </script>\n",
              "    </div>\n",
              "  </div>\n",
              "  "
            ]
          },
          "metadata": {},
          "execution_count": 48
        }
      ],
      "source": [
        "#as age and driving experience and with other variables is heavly corelateed(>0.7) we just remove age for further analysis\n",
        "new_features=['AGE']\n",
        "df_1=df_1.drop(columns=new_features, axis=1).copy()\n",
        "df_1.head()"
      ]
    },
    {
      "cell_type": "code",
      "execution_count": 49,
      "metadata": {
        "colab": {
          "base_uri": "https://localhost:8080/"
        },
        "id": "W3tfIj74M-jP",
        "outputId": "d84402fc-1511-4dfd-cd1c-4aea41cde333"
      },
      "outputs": [
        {
          "output_type": "execute_result",
          "data": {
            "text/plain": [
              "['GENDER',\n",
              " 'DRIVING_EXPERIENCE',\n",
              " 'EDUCATION',\n",
              " 'INCOME',\n",
              " 'CREDIT_SCORE',\n",
              " 'VEHICLE_OWNERSHIP',\n",
              " 'VEHICLE_YEAR',\n",
              " 'MARRIED',\n",
              " 'CHILDREN',\n",
              " 'SPEEDING_VIOLATIONS',\n",
              " 'DUIS',\n",
              " 'PAST_ACCIDENTS']"
            ]
          },
          "metadata": {},
          "execution_count": 49
        }
      ],
      "source": [
        "list_Indpndt_features = [feature for feature in df_1.columns if 'OUTCOME' not in feature ]\n",
        "list_Indpndt_features"
      ]
    },
    {
      "cell_type": "code",
      "execution_count": 50,
      "metadata": {
        "id": "KcHubMF-PaAt"
      },
      "outputs": [],
      "source": [
        "## Get the claimed and the unclaimed dataset \n",
        "\n",
        "Claimed = df_1[df_1['OUTCOME']==1]\n",
        "\n",
        "unclaimed = df_1[df_1['OUTCOME']==0]"
      ]
    },
    {
      "cell_type": "code",
      "execution_count": 51,
      "metadata": {
        "colab": {
          "base_uri": "https://localhost:8080/"
        },
        "id": "SeyGX16DPZ-B",
        "outputId": "e3e075d4-61d2-47b3-b2cf-ab91d20d3001"
      },
      "outputs": [
        {
          "output_type": "stream",
          "name": "stdout",
          "text": [
            "(2998, 13) (6679, 13)\n"
          ]
        }
      ],
      "source": [
        "print(Claimed.shape,unclaimed.shape)"
      ]
    },
    {
      "cell_type": "code",
      "execution_count": 52,
      "metadata": {
        "id": "5Pk4uVcKPZ7r"
      },
      "outputs": [],
      "source": [
        "#under and overfitting is not necesary as we have less row data"
      ]
    },
    {
      "cell_type": "code",
      "execution_count": 53,
      "metadata": {
        "colab": {
          "base_uri": "https://localhost:8080/",
          "height": 676
        },
        "id": "DVPG_SFSZCx8",
        "outputId": "c8a2f573-3176-49b0-c228-d62624172431"
      },
      "outputs": [
        {
          "output_type": "execute_result",
          "data": {
            "text/plain": [
              "    GENDER  DRIVING_EXPERIENCE  EDUCATION  INCOME  CREDIT_SCORE  \\\n",
              "0        0                   1          2       4      0.629027   \n",
              "1        1                   1          1       1      0.357757   \n",
              "2        0                   1          2       2      0.493146   \n",
              "3        1                   1          3       2      0.206013   \n",
              "4        1                   2          1       2      0.388366   \n",
              "5        0                   3          2       4      0.619127   \n",
              "6        1                   4          2       4      0.492944   \n",
              "7        0                   1          3       2      0.468689   \n",
              "8        0                   3          3       2      0.521815   \n",
              "9        0                   1          2       4      0.561531   \n",
              "10       1                   4          2       4      0.620361   \n",
              "11       0                   4          2       4      0.729831   \n",
              "12       1                   3          2       4      0.637045   \n",
              "13       0                   1          3       4      0.591260   \n",
              "14       1                   2          2       3      0.461568   \n",
              "15       0                   1          2       4      0.762798   \n",
              "16       1                   4          3       4      0.796175   \n",
              "17       1                   1          1       1      0.349915   \n",
              "18       0                   1          3       4      0.680594   \n",
              "20       0                   1          2       2      0.409514   \n",
              "\n",
              "    VEHICLE_OWNERSHIP  VEHICLE_YEAR  MARRIED  CHILDREN  SPEEDING_VIOLATIONS  \\\n",
              "0                 1.0             1      0.0       1.0                    0   \n",
              "1                 0.0             0      0.0       0.0                    0   \n",
              "2                 1.0             0      0.0       0.0                    0   \n",
              "3                 1.0             0      0.0       1.0                    0   \n",
              "4                 1.0             0      0.0       0.0                    2   \n",
              "5                 1.0             1      0.0       1.0                    3   \n",
              "6                 0.0             1      1.0       1.0                    7   \n",
              "7                 0.0             1      0.0       1.0                    0   \n",
              "8                 0.0             0      1.0       0.0                    0   \n",
              "9                 1.0             0      0.0       1.0                    0   \n",
              "10                1.0             1      1.0       1.0                    6   \n",
              "11                1.0             1      1.0       0.0                    4   \n",
              "12                1.0             0      1.0       1.0                    4   \n",
              "13                1.0             0      0.0       1.0                    0   \n",
              "14                1.0             0      1.0       1.0                    0   \n",
              "15                0.0             1      1.0       0.0                    0   \n",
              "16                1.0             0      1.0       1.0                   10   \n",
              "17                0.0             0      1.0       0.0                    0   \n",
              "18                1.0             0      0.0       1.0                    0   \n",
              "20                0.0             0      0.0       0.0                    0   \n",
              "\n",
              "    DUIS  PAST_ACCIDENTS  OUTCOME  \n",
              "0      0               0      0.0  \n",
              "1      0               0      1.0  \n",
              "2      0               0      0.0  \n",
              "3      0               0      0.0  \n",
              "4      0               1      1.0  \n",
              "5      0               3      0.0  \n",
              "6      0               3      0.0  \n",
              "7      0               0      1.0  \n",
              "8      0               0      0.0  \n",
              "9      0               0      1.0  \n",
              "10     2               7      0.0  \n",
              "11     0               0      0.0  \n",
              "12     1               2      0.0  \n",
              "13     0               0      0.0  \n",
              "14     2               1      0.0  \n",
              "15     0               0      0.0  \n",
              "16     2               1      0.0  \n",
              "17     0               0      1.0  \n",
              "18     0               0      1.0  \n",
              "20     0               0      1.0  "
            ],
            "text/html": [
              "\n",
              "  <div id=\"df-012bf5b9-0a96-478e-ba0e-7dbdece8d37d\">\n",
              "    <div class=\"colab-df-container\">\n",
              "      <div>\n",
              "<style scoped>\n",
              "    .dataframe tbody tr th:only-of-type {\n",
              "        vertical-align: middle;\n",
              "    }\n",
              "\n",
              "    .dataframe tbody tr th {\n",
              "        vertical-align: top;\n",
              "    }\n",
              "\n",
              "    .dataframe thead th {\n",
              "        text-align: right;\n",
              "    }\n",
              "</style>\n",
              "<table border=\"1\" class=\"dataframe\">\n",
              "  <thead>\n",
              "    <tr style=\"text-align: right;\">\n",
              "      <th></th>\n",
              "      <th>GENDER</th>\n",
              "      <th>DRIVING_EXPERIENCE</th>\n",
              "      <th>EDUCATION</th>\n",
              "      <th>INCOME</th>\n",
              "      <th>CREDIT_SCORE</th>\n",
              "      <th>VEHICLE_OWNERSHIP</th>\n",
              "      <th>VEHICLE_YEAR</th>\n",
              "      <th>MARRIED</th>\n",
              "      <th>CHILDREN</th>\n",
              "      <th>SPEEDING_VIOLATIONS</th>\n",
              "      <th>DUIS</th>\n",
              "      <th>PAST_ACCIDENTS</th>\n",
              "      <th>OUTCOME</th>\n",
              "    </tr>\n",
              "  </thead>\n",
              "  <tbody>\n",
              "    <tr>\n",
              "      <th>0</th>\n",
              "      <td>0</td>\n",
              "      <td>1</td>\n",
              "      <td>2</td>\n",
              "      <td>4</td>\n",
              "      <td>0.629027</td>\n",
              "      <td>1.0</td>\n",
              "      <td>1</td>\n",
              "      <td>0.0</td>\n",
              "      <td>1.0</td>\n",
              "      <td>0</td>\n",
              "      <td>0</td>\n",
              "      <td>0</td>\n",
              "      <td>0.0</td>\n",
              "    </tr>\n",
              "    <tr>\n",
              "      <th>1</th>\n",
              "      <td>1</td>\n",
              "      <td>1</td>\n",
              "      <td>1</td>\n",
              "      <td>1</td>\n",
              "      <td>0.357757</td>\n",
              "      <td>0.0</td>\n",
              "      <td>0</td>\n",
              "      <td>0.0</td>\n",
              "      <td>0.0</td>\n",
              "      <td>0</td>\n",
              "      <td>0</td>\n",
              "      <td>0</td>\n",
              "      <td>1.0</td>\n",
              "    </tr>\n",
              "    <tr>\n",
              "      <th>2</th>\n",
              "      <td>0</td>\n",
              "      <td>1</td>\n",
              "      <td>2</td>\n",
              "      <td>2</td>\n",
              "      <td>0.493146</td>\n",
              "      <td>1.0</td>\n",
              "      <td>0</td>\n",
              "      <td>0.0</td>\n",
              "      <td>0.0</td>\n",
              "      <td>0</td>\n",
              "      <td>0</td>\n",
              "      <td>0</td>\n",
              "      <td>0.0</td>\n",
              "    </tr>\n",
              "    <tr>\n",
              "      <th>3</th>\n",
              "      <td>1</td>\n",
              "      <td>1</td>\n",
              "      <td>3</td>\n",
              "      <td>2</td>\n",
              "      <td>0.206013</td>\n",
              "      <td>1.0</td>\n",
              "      <td>0</td>\n",
              "      <td>0.0</td>\n",
              "      <td>1.0</td>\n",
              "      <td>0</td>\n",
              "      <td>0</td>\n",
              "      <td>0</td>\n",
              "      <td>0.0</td>\n",
              "    </tr>\n",
              "    <tr>\n",
              "      <th>4</th>\n",
              "      <td>1</td>\n",
              "      <td>2</td>\n",
              "      <td>1</td>\n",
              "      <td>2</td>\n",
              "      <td>0.388366</td>\n",
              "      <td>1.0</td>\n",
              "      <td>0</td>\n",
              "      <td>0.0</td>\n",
              "      <td>0.0</td>\n",
              "      <td>2</td>\n",
              "      <td>0</td>\n",
              "      <td>1</td>\n",
              "      <td>1.0</td>\n",
              "    </tr>\n",
              "    <tr>\n",
              "      <th>5</th>\n",
              "      <td>0</td>\n",
              "      <td>3</td>\n",
              "      <td>2</td>\n",
              "      <td>4</td>\n",
              "      <td>0.619127</td>\n",
              "      <td>1.0</td>\n",
              "      <td>1</td>\n",
              "      <td>0.0</td>\n",
              "      <td>1.0</td>\n",
              "      <td>3</td>\n",
              "      <td>0</td>\n",
              "      <td>3</td>\n",
              "      <td>0.0</td>\n",
              "    </tr>\n",
              "    <tr>\n",
              "      <th>6</th>\n",
              "      <td>1</td>\n",
              "      <td>4</td>\n",
              "      <td>2</td>\n",
              "      <td>4</td>\n",
              "      <td>0.492944</td>\n",
              "      <td>0.0</td>\n",
              "      <td>1</td>\n",
              "      <td>1.0</td>\n",
              "      <td>1.0</td>\n",
              "      <td>7</td>\n",
              "      <td>0</td>\n",
              "      <td>3</td>\n",
              "      <td>0.0</td>\n",
              "    </tr>\n",
              "    <tr>\n",
              "      <th>7</th>\n",
              "      <td>0</td>\n",
              "      <td>1</td>\n",
              "      <td>3</td>\n",
              "      <td>2</td>\n",
              "      <td>0.468689</td>\n",
              "      <td>0.0</td>\n",
              "      <td>1</td>\n",
              "      <td>0.0</td>\n",
              "      <td>1.0</td>\n",
              "      <td>0</td>\n",
              "      <td>0</td>\n",
              "      <td>0</td>\n",
              "      <td>1.0</td>\n",
              "    </tr>\n",
              "    <tr>\n",
              "      <th>8</th>\n",
              "      <td>0</td>\n",
              "      <td>3</td>\n",
              "      <td>3</td>\n",
              "      <td>2</td>\n",
              "      <td>0.521815</td>\n",
              "      <td>0.0</td>\n",
              "      <td>0</td>\n",
              "      <td>1.0</td>\n",
              "      <td>0.0</td>\n",
              "      <td>0</td>\n",
              "      <td>0</td>\n",
              "      <td>0</td>\n",
              "      <td>0.0</td>\n",
              "    </tr>\n",
              "    <tr>\n",
              "      <th>9</th>\n",
              "      <td>0</td>\n",
              "      <td>1</td>\n",
              "      <td>2</td>\n",
              "      <td>4</td>\n",
              "      <td>0.561531</td>\n",
              "      <td>1.0</td>\n",
              "      <td>0</td>\n",
              "      <td>0.0</td>\n",
              "      <td>1.0</td>\n",
              "      <td>0</td>\n",
              "      <td>0</td>\n",
              "      <td>0</td>\n",
              "      <td>1.0</td>\n",
              "    </tr>\n",
              "    <tr>\n",
              "      <th>10</th>\n",
              "      <td>1</td>\n",
              "      <td>4</td>\n",
              "      <td>2</td>\n",
              "      <td>4</td>\n",
              "      <td>0.620361</td>\n",
              "      <td>1.0</td>\n",
              "      <td>1</td>\n",
              "      <td>1.0</td>\n",
              "      <td>1.0</td>\n",
              "      <td>6</td>\n",
              "      <td>2</td>\n",
              "      <td>7</td>\n",
              "      <td>0.0</td>\n",
              "    </tr>\n",
              "    <tr>\n",
              "      <th>11</th>\n",
              "      <td>0</td>\n",
              "      <td>4</td>\n",
              "      <td>2</td>\n",
              "      <td>4</td>\n",
              "      <td>0.729831</td>\n",
              "      <td>1.0</td>\n",
              "      <td>1</td>\n",
              "      <td>1.0</td>\n",
              "      <td>0.0</td>\n",
              "      <td>4</td>\n",
              "      <td>0</td>\n",
              "      <td>0</td>\n",
              "      <td>0.0</td>\n",
              "    </tr>\n",
              "    <tr>\n",
              "      <th>12</th>\n",
              "      <td>1</td>\n",
              "      <td>3</td>\n",
              "      <td>2</td>\n",
              "      <td>4</td>\n",
              "      <td>0.637045</td>\n",
              "      <td>1.0</td>\n",
              "      <td>0</td>\n",
              "      <td>1.0</td>\n",
              "      <td>1.0</td>\n",
              "      <td>4</td>\n",
              "      <td>1</td>\n",
              "      <td>2</td>\n",
              "      <td>0.0</td>\n",
              "    </tr>\n",
              "    <tr>\n",
              "      <th>13</th>\n",
              "      <td>0</td>\n",
              "      <td>1</td>\n",
              "      <td>3</td>\n",
              "      <td>4</td>\n",
              "      <td>0.591260</td>\n",
              "      <td>1.0</td>\n",
              "      <td>0</td>\n",
              "      <td>0.0</td>\n",
              "      <td>1.0</td>\n",
              "      <td>0</td>\n",
              "      <td>0</td>\n",
              "      <td>0</td>\n",
              "      <td>0.0</td>\n",
              "    </tr>\n",
              "    <tr>\n",
              "      <th>14</th>\n",
              "      <td>1</td>\n",
              "      <td>2</td>\n",
              "      <td>2</td>\n",
              "      <td>3</td>\n",
              "      <td>0.461568</td>\n",
              "      <td>1.0</td>\n",
              "      <td>0</td>\n",
              "      <td>1.0</td>\n",
              "      <td>1.0</td>\n",
              "      <td>0</td>\n",
              "      <td>2</td>\n",
              "      <td>1</td>\n",
              "      <td>0.0</td>\n",
              "    </tr>\n",
              "    <tr>\n",
              "      <th>15</th>\n",
              "      <td>0</td>\n",
              "      <td>1</td>\n",
              "      <td>2</td>\n",
              "      <td>4</td>\n",
              "      <td>0.762798</td>\n",
              "      <td>0.0</td>\n",
              "      <td>1</td>\n",
              "      <td>1.0</td>\n",
              "      <td>0.0</td>\n",
              "      <td>0</td>\n",
              "      <td>0</td>\n",
              "      <td>0</td>\n",
              "      <td>0.0</td>\n",
              "    </tr>\n",
              "    <tr>\n",
              "      <th>16</th>\n",
              "      <td>1</td>\n",
              "      <td>4</td>\n",
              "      <td>3</td>\n",
              "      <td>4</td>\n",
              "      <td>0.796175</td>\n",
              "      <td>1.0</td>\n",
              "      <td>0</td>\n",
              "      <td>1.0</td>\n",
              "      <td>1.0</td>\n",
              "      <td>10</td>\n",
              "      <td>2</td>\n",
              "      <td>1</td>\n",
              "      <td>0.0</td>\n",
              "    </tr>\n",
              "    <tr>\n",
              "      <th>17</th>\n",
              "      <td>1</td>\n",
              "      <td>1</td>\n",
              "      <td>1</td>\n",
              "      <td>1</td>\n",
              "      <td>0.349915</td>\n",
              "      <td>0.0</td>\n",
              "      <td>0</td>\n",
              "      <td>1.0</td>\n",
              "      <td>0.0</td>\n",
              "      <td>0</td>\n",
              "      <td>0</td>\n",
              "      <td>0</td>\n",
              "      <td>1.0</td>\n",
              "    </tr>\n",
              "    <tr>\n",
              "      <th>18</th>\n",
              "      <td>0</td>\n",
              "      <td>1</td>\n",
              "      <td>3</td>\n",
              "      <td>4</td>\n",
              "      <td>0.680594</td>\n",
              "      <td>1.0</td>\n",
              "      <td>0</td>\n",
              "      <td>0.0</td>\n",
              "      <td>1.0</td>\n",
              "      <td>0</td>\n",
              "      <td>0</td>\n",
              "      <td>0</td>\n",
              "      <td>1.0</td>\n",
              "    </tr>\n",
              "    <tr>\n",
              "      <th>20</th>\n",
              "      <td>0</td>\n",
              "      <td>1</td>\n",
              "      <td>2</td>\n",
              "      <td>2</td>\n",
              "      <td>0.409514</td>\n",
              "      <td>0.0</td>\n",
              "      <td>0</td>\n",
              "      <td>0.0</td>\n",
              "      <td>0.0</td>\n",
              "      <td>0</td>\n",
              "      <td>0</td>\n",
              "      <td>0</td>\n",
              "      <td>1.0</td>\n",
              "    </tr>\n",
              "  </tbody>\n",
              "</table>\n",
              "</div>\n",
              "      <button class=\"colab-df-convert\" onclick=\"convertToInteractive('df-012bf5b9-0a96-478e-ba0e-7dbdece8d37d')\"\n",
              "              title=\"Convert this dataframe to an interactive table.\"\n",
              "              style=\"display:none;\">\n",
              "        \n",
              "  <svg xmlns=\"http://www.w3.org/2000/svg\" height=\"24px\"viewBox=\"0 0 24 24\"\n",
              "       width=\"24px\">\n",
              "    <path d=\"M0 0h24v24H0V0z\" fill=\"none\"/>\n",
              "    <path d=\"M18.56 5.44l.94 2.06.94-2.06 2.06-.94-2.06-.94-.94-2.06-.94 2.06-2.06.94zm-11 1L8.5 8.5l.94-2.06 2.06-.94-2.06-.94L8.5 2.5l-.94 2.06-2.06.94zm10 10l.94 2.06.94-2.06 2.06-.94-2.06-.94-.94-2.06-.94 2.06-2.06.94z\"/><path d=\"M17.41 7.96l-1.37-1.37c-.4-.4-.92-.59-1.43-.59-.52 0-1.04.2-1.43.59L10.3 9.45l-7.72 7.72c-.78.78-.78 2.05 0 2.83L4 21.41c.39.39.9.59 1.41.59.51 0 1.02-.2 1.41-.59l7.78-7.78 2.81-2.81c.8-.78.8-2.07 0-2.86zM5.41 20L4 18.59l7.72-7.72 1.47 1.35L5.41 20z\"/>\n",
              "  </svg>\n",
              "      </button>\n",
              "      \n",
              "  <style>\n",
              "    .colab-df-container {\n",
              "      display:flex;\n",
              "      flex-wrap:wrap;\n",
              "      gap: 12px;\n",
              "    }\n",
              "\n",
              "    .colab-df-convert {\n",
              "      background-color: #E8F0FE;\n",
              "      border: none;\n",
              "      border-radius: 50%;\n",
              "      cursor: pointer;\n",
              "      display: none;\n",
              "      fill: #1967D2;\n",
              "      height: 32px;\n",
              "      padding: 0 0 0 0;\n",
              "      width: 32px;\n",
              "    }\n",
              "\n",
              "    .colab-df-convert:hover {\n",
              "      background-color: #E2EBFA;\n",
              "      box-shadow: 0px 1px 2px rgba(60, 64, 67, 0.3), 0px 1px 3px 1px rgba(60, 64, 67, 0.15);\n",
              "      fill: #174EA6;\n",
              "    }\n",
              "\n",
              "    [theme=dark] .colab-df-convert {\n",
              "      background-color: #3B4455;\n",
              "      fill: #D2E3FC;\n",
              "    }\n",
              "\n",
              "    [theme=dark] .colab-df-convert:hover {\n",
              "      background-color: #434B5C;\n",
              "      box-shadow: 0px 1px 3px 1px rgba(0, 0, 0, 0.15);\n",
              "      filter: drop-shadow(0px 1px 2px rgba(0, 0, 0, 0.3));\n",
              "      fill: #FFFFFF;\n",
              "    }\n",
              "  </style>\n",
              "\n",
              "      <script>\n",
              "        const buttonEl =\n",
              "          document.querySelector('#df-012bf5b9-0a96-478e-ba0e-7dbdece8d37d button.colab-df-convert');\n",
              "        buttonEl.style.display =\n",
              "          google.colab.kernel.accessAllowed ? 'block' : 'none';\n",
              "\n",
              "        async function convertToInteractive(key) {\n",
              "          const element = document.querySelector('#df-012bf5b9-0a96-478e-ba0e-7dbdece8d37d');\n",
              "          const dataTable =\n",
              "            await google.colab.kernel.invokeFunction('convertToInteractive',\n",
              "                                                     [key], {});\n",
              "          if (!dataTable) return;\n",
              "\n",
              "          const docLinkHtml = 'Like what you see? Visit the ' +\n",
              "            '<a target=\"_blank\" href=https://colab.research.google.com/notebooks/data_table.ipynb>data table notebook</a>'\n",
              "            + ' to learn more about interactive tables.';\n",
              "          element.innerHTML = '';\n",
              "          dataTable['output_type'] = 'display_data';\n",
              "          await google.colab.output.renderOutput(dataTable, element);\n",
              "          const docLink = document.createElement('div');\n",
              "          docLink.innerHTML = docLinkHtml;\n",
              "          element.appendChild(docLink);\n",
              "        }\n",
              "      </script>\n",
              "    </div>\n",
              "  </div>\n",
              "  "
            ]
          },
          "metadata": {},
          "execution_count": 53
        }
      ],
      "source": [
        "df_1.head(20)"
      ]
    },
    {
      "cell_type": "code",
      "execution_count": 54,
      "metadata": {
        "colab": {
          "base_uri": "https://localhost:8080/"
        },
        "id": "15R8Y9zyhaBc",
        "outputId": "a27dd360-7c52-4d17-b8cb-df6d9141dc43"
      },
      "outputs": [
        {
          "output_type": "execute_result",
          "data": {
            "text/plain": [
              "GENDER                   int64\n",
              "DRIVING_EXPERIENCE       int64\n",
              "EDUCATION                int64\n",
              "INCOME                   int64\n",
              "CREDIT_SCORE           float64\n",
              "VEHICLE_OWNERSHIP      float64\n",
              "VEHICLE_YEAR             int64\n",
              "MARRIED                float64\n",
              "CHILDREN               float64\n",
              "SPEEDING_VIOLATIONS      int64\n",
              "DUIS                     int64\n",
              "PAST_ACCIDENTS           int64\n",
              "OUTCOME                float64\n",
              "dtype: object"
            ]
          },
          "metadata": {},
          "execution_count": 54
        }
      ],
      "source": [
        "df_1.dtypes"
      ]
    },
    {
      "cell_type": "code",
      "execution_count": 55,
      "metadata": {
        "id": "XiuZoZx6hWl2"
      },
      "outputs": [],
      "source": [
        "#converting data type of this variables to make qualitative data to numeric and to create dummy variables\n",
        "df_1[['VEHICLE_OWNERSHIP','OUTCOME','CHILDREN','MARRIED']] = df_1[['VEHICLE_OWNERSHIP','OUTCOME','CHILDREN','MARRIED']].astype(int)"
      ]
    },
    {
      "cell_type": "code",
      "execution_count": 56,
      "metadata": {
        "colab": {
          "base_uri": "https://localhost:8080/",
          "height": 423
        },
        "id": "yo1_KA_OjFl-",
        "outputId": "2facf628-d2e9-4ea3-ca85-33e1d627ad25"
      },
      "outputs": [
        {
          "output_type": "execute_result",
          "data": {
            "text/plain": [
              "      GENDER  DRIVING_EXPERIENCE  EDUCATION  INCOME  CREDIT_SCORE  \\\n",
              "0          0                   1          2       4      0.629027   \n",
              "1          1                   1          1       1      0.357757   \n",
              "2          0                   1          2       2      0.493146   \n",
              "3          1                   1          3       2      0.206013   \n",
              "4          1                   2          1       2      0.388366   \n",
              "...      ...                 ...        ...     ...           ...   \n",
              "9995       0                   2          3       4      0.582787   \n",
              "9996       0                   2          1       3      0.522231   \n",
              "9997       1                   1          2       3      0.470940   \n",
              "9998       0                   2          2       1      0.364185   \n",
              "9999       0                   1          1       2      0.435225   \n",
              "\n",
              "      VEHICLE_OWNERSHIP  VEHICLE_YEAR  MARRIED  CHILDREN  SPEEDING_VIOLATIONS  \\\n",
              "0                     1             1        0         1                    0   \n",
              "1                     0             0        0         0                    0   \n",
              "2                     1             0        0         0                    0   \n",
              "3                     1             0        0         1                    0   \n",
              "4                     1             0        0         0                    2   \n",
              "...                 ...           ...      ...       ...                  ...   \n",
              "9995                  1             0        0         0                    0   \n",
              "9996                  1             1        0         1                    1   \n",
              "9997                  1             0        0         1                    0   \n",
              "9998                  0             0        0         1                    2   \n",
              "9999                  1             0        1         1                    0   \n",
              "\n",
              "      DUIS  PAST_ACCIDENTS  OUTCOME  \n",
              "0        0               0        0  \n",
              "1        0               0        1  \n",
              "2        0               0        0  \n",
              "3        0               0        0  \n",
              "4        0               1        1  \n",
              "...    ...             ...      ...  \n",
              "9995     0               1        0  \n",
              "9996     0               0        0  \n",
              "9997     0               0        0  \n",
              "9998     0               1        1  \n",
              "9999     0               0        0  \n",
              "\n",
              "[9677 rows x 13 columns]"
            ],
            "text/html": [
              "\n",
              "  <div id=\"df-8e0598c3-ad0c-4fd1-94b8-847ea2dedfb5\">\n",
              "    <div class=\"colab-df-container\">\n",
              "      <div>\n",
              "<style scoped>\n",
              "    .dataframe tbody tr th:only-of-type {\n",
              "        vertical-align: middle;\n",
              "    }\n",
              "\n",
              "    .dataframe tbody tr th {\n",
              "        vertical-align: top;\n",
              "    }\n",
              "\n",
              "    .dataframe thead th {\n",
              "        text-align: right;\n",
              "    }\n",
              "</style>\n",
              "<table border=\"1\" class=\"dataframe\">\n",
              "  <thead>\n",
              "    <tr style=\"text-align: right;\">\n",
              "      <th></th>\n",
              "      <th>GENDER</th>\n",
              "      <th>DRIVING_EXPERIENCE</th>\n",
              "      <th>EDUCATION</th>\n",
              "      <th>INCOME</th>\n",
              "      <th>CREDIT_SCORE</th>\n",
              "      <th>VEHICLE_OWNERSHIP</th>\n",
              "      <th>VEHICLE_YEAR</th>\n",
              "      <th>MARRIED</th>\n",
              "      <th>CHILDREN</th>\n",
              "      <th>SPEEDING_VIOLATIONS</th>\n",
              "      <th>DUIS</th>\n",
              "      <th>PAST_ACCIDENTS</th>\n",
              "      <th>OUTCOME</th>\n",
              "    </tr>\n",
              "  </thead>\n",
              "  <tbody>\n",
              "    <tr>\n",
              "      <th>0</th>\n",
              "      <td>0</td>\n",
              "      <td>1</td>\n",
              "      <td>2</td>\n",
              "      <td>4</td>\n",
              "      <td>0.629027</td>\n",
              "      <td>1</td>\n",
              "      <td>1</td>\n",
              "      <td>0</td>\n",
              "      <td>1</td>\n",
              "      <td>0</td>\n",
              "      <td>0</td>\n",
              "      <td>0</td>\n",
              "      <td>0</td>\n",
              "    </tr>\n",
              "    <tr>\n",
              "      <th>1</th>\n",
              "      <td>1</td>\n",
              "      <td>1</td>\n",
              "      <td>1</td>\n",
              "      <td>1</td>\n",
              "      <td>0.357757</td>\n",
              "      <td>0</td>\n",
              "      <td>0</td>\n",
              "      <td>0</td>\n",
              "      <td>0</td>\n",
              "      <td>0</td>\n",
              "      <td>0</td>\n",
              "      <td>0</td>\n",
              "      <td>1</td>\n",
              "    </tr>\n",
              "    <tr>\n",
              "      <th>2</th>\n",
              "      <td>0</td>\n",
              "      <td>1</td>\n",
              "      <td>2</td>\n",
              "      <td>2</td>\n",
              "      <td>0.493146</td>\n",
              "      <td>1</td>\n",
              "      <td>0</td>\n",
              "      <td>0</td>\n",
              "      <td>0</td>\n",
              "      <td>0</td>\n",
              "      <td>0</td>\n",
              "      <td>0</td>\n",
              "      <td>0</td>\n",
              "    </tr>\n",
              "    <tr>\n",
              "      <th>3</th>\n",
              "      <td>1</td>\n",
              "      <td>1</td>\n",
              "      <td>3</td>\n",
              "      <td>2</td>\n",
              "      <td>0.206013</td>\n",
              "      <td>1</td>\n",
              "      <td>0</td>\n",
              "      <td>0</td>\n",
              "      <td>1</td>\n",
              "      <td>0</td>\n",
              "      <td>0</td>\n",
              "      <td>0</td>\n",
              "      <td>0</td>\n",
              "    </tr>\n",
              "    <tr>\n",
              "      <th>4</th>\n",
              "      <td>1</td>\n",
              "      <td>2</td>\n",
              "      <td>1</td>\n",
              "      <td>2</td>\n",
              "      <td>0.388366</td>\n",
              "      <td>1</td>\n",
              "      <td>0</td>\n",
              "      <td>0</td>\n",
              "      <td>0</td>\n",
              "      <td>2</td>\n",
              "      <td>0</td>\n",
              "      <td>1</td>\n",
              "      <td>1</td>\n",
              "    </tr>\n",
              "    <tr>\n",
              "      <th>...</th>\n",
              "      <td>...</td>\n",
              "      <td>...</td>\n",
              "      <td>...</td>\n",
              "      <td>...</td>\n",
              "      <td>...</td>\n",
              "      <td>...</td>\n",
              "      <td>...</td>\n",
              "      <td>...</td>\n",
              "      <td>...</td>\n",
              "      <td>...</td>\n",
              "      <td>...</td>\n",
              "      <td>...</td>\n",
              "      <td>...</td>\n",
              "    </tr>\n",
              "    <tr>\n",
              "      <th>9995</th>\n",
              "      <td>0</td>\n",
              "      <td>2</td>\n",
              "      <td>3</td>\n",
              "      <td>4</td>\n",
              "      <td>0.582787</td>\n",
              "      <td>1</td>\n",
              "      <td>0</td>\n",
              "      <td>0</td>\n",
              "      <td>0</td>\n",
              "      <td>0</td>\n",
              "      <td>0</td>\n",
              "      <td>1</td>\n",
              "      <td>0</td>\n",
              "    </tr>\n",
              "    <tr>\n",
              "      <th>9996</th>\n",
              "      <td>0</td>\n",
              "      <td>2</td>\n",
              "      <td>1</td>\n",
              "      <td>3</td>\n",
              "      <td>0.522231</td>\n",
              "      <td>1</td>\n",
              "      <td>1</td>\n",
              "      <td>0</td>\n",
              "      <td>1</td>\n",
              "      <td>1</td>\n",
              "      <td>0</td>\n",
              "      <td>0</td>\n",
              "      <td>0</td>\n",
              "    </tr>\n",
              "    <tr>\n",
              "      <th>9997</th>\n",
              "      <td>1</td>\n",
              "      <td>1</td>\n",
              "      <td>2</td>\n",
              "      <td>3</td>\n",
              "      <td>0.470940</td>\n",
              "      <td>1</td>\n",
              "      <td>0</td>\n",
              "      <td>0</td>\n",
              "      <td>1</td>\n",
              "      <td>0</td>\n",
              "      <td>0</td>\n",
              "      <td>0</td>\n",
              "      <td>0</td>\n",
              "    </tr>\n",
              "    <tr>\n",
              "      <th>9998</th>\n",
              "      <td>0</td>\n",
              "      <td>2</td>\n",
              "      <td>2</td>\n",
              "      <td>1</td>\n",
              "      <td>0.364185</td>\n",
              "      <td>0</td>\n",
              "      <td>0</td>\n",
              "      <td>0</td>\n",
              "      <td>1</td>\n",
              "      <td>2</td>\n",
              "      <td>0</td>\n",
              "      <td>1</td>\n",
              "      <td>1</td>\n",
              "    </tr>\n",
              "    <tr>\n",
              "      <th>9999</th>\n",
              "      <td>0</td>\n",
              "      <td>1</td>\n",
              "      <td>1</td>\n",
              "      <td>2</td>\n",
              "      <td>0.435225</td>\n",
              "      <td>1</td>\n",
              "      <td>0</td>\n",
              "      <td>1</td>\n",
              "      <td>1</td>\n",
              "      <td>0</td>\n",
              "      <td>0</td>\n",
              "      <td>0</td>\n",
              "      <td>0</td>\n",
              "    </tr>\n",
              "  </tbody>\n",
              "</table>\n",
              "<p>9677 rows × 13 columns</p>\n",
              "</div>\n",
              "      <button class=\"colab-df-convert\" onclick=\"convertToInteractive('df-8e0598c3-ad0c-4fd1-94b8-847ea2dedfb5')\"\n",
              "              title=\"Convert this dataframe to an interactive table.\"\n",
              "              style=\"display:none;\">\n",
              "        \n",
              "  <svg xmlns=\"http://www.w3.org/2000/svg\" height=\"24px\"viewBox=\"0 0 24 24\"\n",
              "       width=\"24px\">\n",
              "    <path d=\"M0 0h24v24H0V0z\" fill=\"none\"/>\n",
              "    <path d=\"M18.56 5.44l.94 2.06.94-2.06 2.06-.94-2.06-.94-.94-2.06-.94 2.06-2.06.94zm-11 1L8.5 8.5l.94-2.06 2.06-.94-2.06-.94L8.5 2.5l-.94 2.06-2.06.94zm10 10l.94 2.06.94-2.06 2.06-.94-2.06-.94-.94-2.06-.94 2.06-2.06.94z\"/><path d=\"M17.41 7.96l-1.37-1.37c-.4-.4-.92-.59-1.43-.59-.52 0-1.04.2-1.43.59L10.3 9.45l-7.72 7.72c-.78.78-.78 2.05 0 2.83L4 21.41c.39.39.9.59 1.41.59.51 0 1.02-.2 1.41-.59l7.78-7.78 2.81-2.81c.8-.78.8-2.07 0-2.86zM5.41 20L4 18.59l7.72-7.72 1.47 1.35L5.41 20z\"/>\n",
              "  </svg>\n",
              "      </button>\n",
              "      \n",
              "  <style>\n",
              "    .colab-df-container {\n",
              "      display:flex;\n",
              "      flex-wrap:wrap;\n",
              "      gap: 12px;\n",
              "    }\n",
              "\n",
              "    .colab-df-convert {\n",
              "      background-color: #E8F0FE;\n",
              "      border: none;\n",
              "      border-radius: 50%;\n",
              "      cursor: pointer;\n",
              "      display: none;\n",
              "      fill: #1967D2;\n",
              "      height: 32px;\n",
              "      padding: 0 0 0 0;\n",
              "      width: 32px;\n",
              "    }\n",
              "\n",
              "    .colab-df-convert:hover {\n",
              "      background-color: #E2EBFA;\n",
              "      box-shadow: 0px 1px 2px rgba(60, 64, 67, 0.3), 0px 1px 3px 1px rgba(60, 64, 67, 0.15);\n",
              "      fill: #174EA6;\n",
              "    }\n",
              "\n",
              "    [theme=dark] .colab-df-convert {\n",
              "      background-color: #3B4455;\n",
              "      fill: #D2E3FC;\n",
              "    }\n",
              "\n",
              "    [theme=dark] .colab-df-convert:hover {\n",
              "      background-color: #434B5C;\n",
              "      box-shadow: 0px 1px 3px 1px rgba(0, 0, 0, 0.15);\n",
              "      filter: drop-shadow(0px 1px 2px rgba(0, 0, 0, 0.3));\n",
              "      fill: #FFFFFF;\n",
              "    }\n",
              "  </style>\n",
              "\n",
              "      <script>\n",
              "        const buttonEl =\n",
              "          document.querySelector('#df-8e0598c3-ad0c-4fd1-94b8-847ea2dedfb5 button.colab-df-convert');\n",
              "        buttonEl.style.display =\n",
              "          google.colab.kernel.accessAllowed ? 'block' : 'none';\n",
              "\n",
              "        async function convertToInteractive(key) {\n",
              "          const element = document.querySelector('#df-8e0598c3-ad0c-4fd1-94b8-847ea2dedfb5');\n",
              "          const dataTable =\n",
              "            await google.colab.kernel.invokeFunction('convertToInteractive',\n",
              "                                                     [key], {});\n",
              "          if (!dataTable) return;\n",
              "\n",
              "          const docLinkHtml = 'Like what you see? Visit the ' +\n",
              "            '<a target=\"_blank\" href=https://colab.research.google.com/notebooks/data_table.ipynb>data table notebook</a>'\n",
              "            + ' to learn more about interactive tables.';\n",
              "          element.innerHTML = '';\n",
              "          dataTable['output_type'] = 'display_data';\n",
              "          await google.colab.output.renderOutput(dataTable, element);\n",
              "          const docLink = document.createElement('div');\n",
              "          docLink.innerHTML = docLinkHtml;\n",
              "          element.appendChild(docLink);\n",
              "        }\n",
              "      </script>\n",
              "    </div>\n",
              "  </div>\n",
              "  "
            ]
          },
          "metadata": {},
          "execution_count": 56
        }
      ],
      "source": [
        "df_1"
      ]
    },
    {
      "cell_type": "code",
      "execution_count": 57,
      "metadata": {
        "colab": {
          "base_uri": "https://localhost:8080/",
          "height": 423
        },
        "id": "H6wTqYYWZCvn",
        "outputId": "fee8a6df-9736-4f9c-9873-1d3f58a5ca0b"
      },
      "outputs": [
        {
          "output_type": "execute_result",
          "data": {
            "text/plain": [
              "      GENDER  DRIVING_EXPERIENCE  EDUCATION  INCOME  CREDIT_SCORE  \\\n",
              "0          0                   1          2       4      0.629027   \n",
              "1          1                   1          1       1      0.357757   \n",
              "2          0                   1          2       2      0.493146   \n",
              "3          1                   1          3       2      0.206013   \n",
              "4          1                   2          1       2      0.388366   \n",
              "...      ...                 ...        ...     ...           ...   \n",
              "9995       0                   2          3       4      0.582787   \n",
              "9996       0                   2          1       3      0.522231   \n",
              "9997       1                   1          2       3      0.470940   \n",
              "9998       0                   2          2       1      0.364185   \n",
              "9999       0                   1          1       2      0.435225   \n",
              "\n",
              "      VEHICLE_OWNERSHIP  VEHICLE_YEAR  MARRIED  CHILDREN  SPEEDING_VIOLATIONS  \\\n",
              "0                     1             1        0         1                    0   \n",
              "1                     0             0        0         0                    0   \n",
              "2                     1             0        0         0                    0   \n",
              "3                     1             0        0         1                    0   \n",
              "4                     1             0        0         0                    2   \n",
              "...                 ...           ...      ...       ...                  ...   \n",
              "9995                  1             0        0         0                    0   \n",
              "9996                  1             1        0         1                    1   \n",
              "9997                  1             0        0         1                    0   \n",
              "9998                  0             0        0         1                    2   \n",
              "9999                  1             0        1         1                    0   \n",
              "\n",
              "      DUIS  PAST_ACCIDENTS  OUTCOME  \n",
              "0        0               0        0  \n",
              "1        0               0        1  \n",
              "2        0               0        0  \n",
              "3        0               0        0  \n",
              "4        0               1        1  \n",
              "...    ...             ...      ...  \n",
              "9995     0               1        0  \n",
              "9996     0               0        0  \n",
              "9997     0               0        0  \n",
              "9998     0               1        1  \n",
              "9999     0               0        0  \n",
              "\n",
              "[9677 rows x 13 columns]"
            ],
            "text/html": [
              "\n",
              "  <div id=\"df-91605744-09cd-4be2-abe5-e24804d2aca4\">\n",
              "    <div class=\"colab-df-container\">\n",
              "      <div>\n",
              "<style scoped>\n",
              "    .dataframe tbody tr th:only-of-type {\n",
              "        vertical-align: middle;\n",
              "    }\n",
              "\n",
              "    .dataframe tbody tr th {\n",
              "        vertical-align: top;\n",
              "    }\n",
              "\n",
              "    .dataframe thead th {\n",
              "        text-align: right;\n",
              "    }\n",
              "</style>\n",
              "<table border=\"1\" class=\"dataframe\">\n",
              "  <thead>\n",
              "    <tr style=\"text-align: right;\">\n",
              "      <th></th>\n",
              "      <th>GENDER</th>\n",
              "      <th>DRIVING_EXPERIENCE</th>\n",
              "      <th>EDUCATION</th>\n",
              "      <th>INCOME</th>\n",
              "      <th>CREDIT_SCORE</th>\n",
              "      <th>VEHICLE_OWNERSHIP</th>\n",
              "      <th>VEHICLE_YEAR</th>\n",
              "      <th>MARRIED</th>\n",
              "      <th>CHILDREN</th>\n",
              "      <th>SPEEDING_VIOLATIONS</th>\n",
              "      <th>DUIS</th>\n",
              "      <th>PAST_ACCIDENTS</th>\n",
              "      <th>OUTCOME</th>\n",
              "    </tr>\n",
              "  </thead>\n",
              "  <tbody>\n",
              "    <tr>\n",
              "      <th>0</th>\n",
              "      <td>0</td>\n",
              "      <td>1</td>\n",
              "      <td>2</td>\n",
              "      <td>4</td>\n",
              "      <td>0.629027</td>\n",
              "      <td>1</td>\n",
              "      <td>1</td>\n",
              "      <td>0</td>\n",
              "      <td>1</td>\n",
              "      <td>0</td>\n",
              "      <td>0</td>\n",
              "      <td>0</td>\n",
              "      <td>0</td>\n",
              "    </tr>\n",
              "    <tr>\n",
              "      <th>1</th>\n",
              "      <td>1</td>\n",
              "      <td>1</td>\n",
              "      <td>1</td>\n",
              "      <td>1</td>\n",
              "      <td>0.357757</td>\n",
              "      <td>0</td>\n",
              "      <td>0</td>\n",
              "      <td>0</td>\n",
              "      <td>0</td>\n",
              "      <td>0</td>\n",
              "      <td>0</td>\n",
              "      <td>0</td>\n",
              "      <td>1</td>\n",
              "    </tr>\n",
              "    <tr>\n",
              "      <th>2</th>\n",
              "      <td>0</td>\n",
              "      <td>1</td>\n",
              "      <td>2</td>\n",
              "      <td>2</td>\n",
              "      <td>0.493146</td>\n",
              "      <td>1</td>\n",
              "      <td>0</td>\n",
              "      <td>0</td>\n",
              "      <td>0</td>\n",
              "      <td>0</td>\n",
              "      <td>0</td>\n",
              "      <td>0</td>\n",
              "      <td>0</td>\n",
              "    </tr>\n",
              "    <tr>\n",
              "      <th>3</th>\n",
              "      <td>1</td>\n",
              "      <td>1</td>\n",
              "      <td>3</td>\n",
              "      <td>2</td>\n",
              "      <td>0.206013</td>\n",
              "      <td>1</td>\n",
              "      <td>0</td>\n",
              "      <td>0</td>\n",
              "      <td>1</td>\n",
              "      <td>0</td>\n",
              "      <td>0</td>\n",
              "      <td>0</td>\n",
              "      <td>0</td>\n",
              "    </tr>\n",
              "    <tr>\n",
              "      <th>4</th>\n",
              "      <td>1</td>\n",
              "      <td>2</td>\n",
              "      <td>1</td>\n",
              "      <td>2</td>\n",
              "      <td>0.388366</td>\n",
              "      <td>1</td>\n",
              "      <td>0</td>\n",
              "      <td>0</td>\n",
              "      <td>0</td>\n",
              "      <td>2</td>\n",
              "      <td>0</td>\n",
              "      <td>1</td>\n",
              "      <td>1</td>\n",
              "    </tr>\n",
              "    <tr>\n",
              "      <th>...</th>\n",
              "      <td>...</td>\n",
              "      <td>...</td>\n",
              "      <td>...</td>\n",
              "      <td>...</td>\n",
              "      <td>...</td>\n",
              "      <td>...</td>\n",
              "      <td>...</td>\n",
              "      <td>...</td>\n",
              "      <td>...</td>\n",
              "      <td>...</td>\n",
              "      <td>...</td>\n",
              "      <td>...</td>\n",
              "      <td>...</td>\n",
              "    </tr>\n",
              "    <tr>\n",
              "      <th>9995</th>\n",
              "      <td>0</td>\n",
              "      <td>2</td>\n",
              "      <td>3</td>\n",
              "      <td>4</td>\n",
              "      <td>0.582787</td>\n",
              "      <td>1</td>\n",
              "      <td>0</td>\n",
              "      <td>0</td>\n",
              "      <td>0</td>\n",
              "      <td>0</td>\n",
              "      <td>0</td>\n",
              "      <td>1</td>\n",
              "      <td>0</td>\n",
              "    </tr>\n",
              "    <tr>\n",
              "      <th>9996</th>\n",
              "      <td>0</td>\n",
              "      <td>2</td>\n",
              "      <td>1</td>\n",
              "      <td>3</td>\n",
              "      <td>0.522231</td>\n",
              "      <td>1</td>\n",
              "      <td>1</td>\n",
              "      <td>0</td>\n",
              "      <td>1</td>\n",
              "      <td>1</td>\n",
              "      <td>0</td>\n",
              "      <td>0</td>\n",
              "      <td>0</td>\n",
              "    </tr>\n",
              "    <tr>\n",
              "      <th>9997</th>\n",
              "      <td>1</td>\n",
              "      <td>1</td>\n",
              "      <td>2</td>\n",
              "      <td>3</td>\n",
              "      <td>0.470940</td>\n",
              "      <td>1</td>\n",
              "      <td>0</td>\n",
              "      <td>0</td>\n",
              "      <td>1</td>\n",
              "      <td>0</td>\n",
              "      <td>0</td>\n",
              "      <td>0</td>\n",
              "      <td>0</td>\n",
              "    </tr>\n",
              "    <tr>\n",
              "      <th>9998</th>\n",
              "      <td>0</td>\n",
              "      <td>2</td>\n",
              "      <td>2</td>\n",
              "      <td>1</td>\n",
              "      <td>0.364185</td>\n",
              "      <td>0</td>\n",
              "      <td>0</td>\n",
              "      <td>0</td>\n",
              "      <td>1</td>\n",
              "      <td>2</td>\n",
              "      <td>0</td>\n",
              "      <td>1</td>\n",
              "      <td>1</td>\n",
              "    </tr>\n",
              "    <tr>\n",
              "      <th>9999</th>\n",
              "      <td>0</td>\n",
              "      <td>1</td>\n",
              "      <td>1</td>\n",
              "      <td>2</td>\n",
              "      <td>0.435225</td>\n",
              "      <td>1</td>\n",
              "      <td>0</td>\n",
              "      <td>1</td>\n",
              "      <td>1</td>\n",
              "      <td>0</td>\n",
              "      <td>0</td>\n",
              "      <td>0</td>\n",
              "      <td>0</td>\n",
              "    </tr>\n",
              "  </tbody>\n",
              "</table>\n",
              "<p>9677 rows × 13 columns</p>\n",
              "</div>\n",
              "      <button class=\"colab-df-convert\" onclick=\"convertToInteractive('df-91605744-09cd-4be2-abe5-e24804d2aca4')\"\n",
              "              title=\"Convert this dataframe to an interactive table.\"\n",
              "              style=\"display:none;\">\n",
              "        \n",
              "  <svg xmlns=\"http://www.w3.org/2000/svg\" height=\"24px\"viewBox=\"0 0 24 24\"\n",
              "       width=\"24px\">\n",
              "    <path d=\"M0 0h24v24H0V0z\" fill=\"none\"/>\n",
              "    <path d=\"M18.56 5.44l.94 2.06.94-2.06 2.06-.94-2.06-.94-.94-2.06-.94 2.06-2.06.94zm-11 1L8.5 8.5l.94-2.06 2.06-.94-2.06-.94L8.5 2.5l-.94 2.06-2.06.94zm10 10l.94 2.06.94-2.06 2.06-.94-2.06-.94-.94-2.06-.94 2.06-2.06.94z\"/><path d=\"M17.41 7.96l-1.37-1.37c-.4-.4-.92-.59-1.43-.59-.52 0-1.04.2-1.43.59L10.3 9.45l-7.72 7.72c-.78.78-.78 2.05 0 2.83L4 21.41c.39.39.9.59 1.41.59.51 0 1.02-.2 1.41-.59l7.78-7.78 2.81-2.81c.8-.78.8-2.07 0-2.86zM5.41 20L4 18.59l7.72-7.72 1.47 1.35L5.41 20z\"/>\n",
              "  </svg>\n",
              "      </button>\n",
              "      \n",
              "  <style>\n",
              "    .colab-df-container {\n",
              "      display:flex;\n",
              "      flex-wrap:wrap;\n",
              "      gap: 12px;\n",
              "    }\n",
              "\n",
              "    .colab-df-convert {\n",
              "      background-color: #E8F0FE;\n",
              "      border: none;\n",
              "      border-radius: 50%;\n",
              "      cursor: pointer;\n",
              "      display: none;\n",
              "      fill: #1967D2;\n",
              "      height: 32px;\n",
              "      padding: 0 0 0 0;\n",
              "      width: 32px;\n",
              "    }\n",
              "\n",
              "    .colab-df-convert:hover {\n",
              "      background-color: #E2EBFA;\n",
              "      box-shadow: 0px 1px 2px rgba(60, 64, 67, 0.3), 0px 1px 3px 1px rgba(60, 64, 67, 0.15);\n",
              "      fill: #174EA6;\n",
              "    }\n",
              "\n",
              "    [theme=dark] .colab-df-convert {\n",
              "      background-color: #3B4455;\n",
              "      fill: #D2E3FC;\n",
              "    }\n",
              "\n",
              "    [theme=dark] .colab-df-convert:hover {\n",
              "      background-color: #434B5C;\n",
              "      box-shadow: 0px 1px 3px 1px rgba(0, 0, 0, 0.15);\n",
              "      filter: drop-shadow(0px 1px 2px rgba(0, 0, 0, 0.3));\n",
              "      fill: #FFFFFF;\n",
              "    }\n",
              "  </style>\n",
              "\n",
              "      <script>\n",
              "        const buttonEl =\n",
              "          document.querySelector('#df-91605744-09cd-4be2-abe5-e24804d2aca4 button.colab-df-convert');\n",
              "        buttonEl.style.display =\n",
              "          google.colab.kernel.accessAllowed ? 'block' : 'none';\n",
              "\n",
              "        async function convertToInteractive(key) {\n",
              "          const element = document.querySelector('#df-91605744-09cd-4be2-abe5-e24804d2aca4');\n",
              "          const dataTable =\n",
              "            await google.colab.kernel.invokeFunction('convertToInteractive',\n",
              "                                                     [key], {});\n",
              "          if (!dataTable) return;\n",
              "\n",
              "          const docLinkHtml = 'Like what you see? Visit the ' +\n",
              "            '<a target=\"_blank\" href=https://colab.research.google.com/notebooks/data_table.ipynb>data table notebook</a>'\n",
              "            + ' to learn more about interactive tables.';\n",
              "          element.innerHTML = '';\n",
              "          dataTable['output_type'] = 'display_data';\n",
              "          await google.colab.output.renderOutput(dataTable, element);\n",
              "          const docLink = document.createElement('div');\n",
              "          docLink.innerHTML = docLinkHtml;\n",
              "          element.appendChild(docLink);\n",
              "        }\n",
              "      </script>\n",
              "    </div>\n",
              "  </div>\n",
              "  "
            ]
          },
          "metadata": {},
          "execution_count": 57
        }
      ],
      "source": [
        "#copying DF for further use\n",
        "df_2 = df_1.copy()\n",
        "df_2"
      ]
    },
    {
      "cell_type": "code",
      "execution_count": 58,
      "metadata": {
        "colab": {
          "base_uri": "https://localhost:8080/",
          "height": 423
        },
        "id": "XoMPb4iLHhXF",
        "outputId": "fa16f8a2-e8c6-4d27-fdbe-3c6933cfb655"
      },
      "outputs": [
        {
          "output_type": "execute_result",
          "data": {
            "text/plain": [
              "      GENDER  DRIVING_EXPERIENCE  EDUCATION  INCOME  CREDIT_SCORE  \\\n",
              "0          0                   1          2       4      0.629027   \n",
              "1          1                   1          1       1      0.357757   \n",
              "2          0                   1          2       2      0.493146   \n",
              "3          1                   1          3       2      0.206013   \n",
              "4          1                   2          1       2      0.388366   \n",
              "...      ...                 ...        ...     ...           ...   \n",
              "9995       0                   2          3       4      0.582787   \n",
              "9996       0                   2          1       3      0.522231   \n",
              "9997       1                   1          2       3      0.470940   \n",
              "9998       0                   2          2       1      0.364185   \n",
              "9999       0                   1          1       2      0.435225   \n",
              "\n",
              "      VEHICLE_OWNERSHIP  VEHICLE_YEAR  MARRIED  CHILDREN  SPEEDING_VIOLATIONS  \\\n",
              "0                     1             1        0         1                    0   \n",
              "1                     0             0        0         0                    0   \n",
              "2                     1             0        0         0                    0   \n",
              "3                     1             0        0         1                    0   \n",
              "4                     1             0        0         0                    2   \n",
              "...                 ...           ...      ...       ...                  ...   \n",
              "9995                  1             0        0         0                    0   \n",
              "9996                  1             1        0         1                    1   \n",
              "9997                  1             0        0         1                    0   \n",
              "9998                  0             0        0         1                    2   \n",
              "9999                  1             0        1         1                    0   \n",
              "\n",
              "      DUIS  PAST_ACCIDENTS  OUTCOME  \n",
              "0        0               0        0  \n",
              "1        0               0        1  \n",
              "2        0               0        0  \n",
              "3        0               0        0  \n",
              "4        0               1        1  \n",
              "...    ...             ...      ...  \n",
              "9995     0               1        0  \n",
              "9996     0               0        0  \n",
              "9997     0               0        0  \n",
              "9998     0               1        1  \n",
              "9999     0               0        0  \n",
              "\n",
              "[9677 rows x 13 columns]"
            ],
            "text/html": [
              "\n",
              "  <div id=\"df-25c45e45-818f-4d79-beae-71407744a3d1\">\n",
              "    <div class=\"colab-df-container\">\n",
              "      <div>\n",
              "<style scoped>\n",
              "    .dataframe tbody tr th:only-of-type {\n",
              "        vertical-align: middle;\n",
              "    }\n",
              "\n",
              "    .dataframe tbody tr th {\n",
              "        vertical-align: top;\n",
              "    }\n",
              "\n",
              "    .dataframe thead th {\n",
              "        text-align: right;\n",
              "    }\n",
              "</style>\n",
              "<table border=\"1\" class=\"dataframe\">\n",
              "  <thead>\n",
              "    <tr style=\"text-align: right;\">\n",
              "      <th></th>\n",
              "      <th>GENDER</th>\n",
              "      <th>DRIVING_EXPERIENCE</th>\n",
              "      <th>EDUCATION</th>\n",
              "      <th>INCOME</th>\n",
              "      <th>CREDIT_SCORE</th>\n",
              "      <th>VEHICLE_OWNERSHIP</th>\n",
              "      <th>VEHICLE_YEAR</th>\n",
              "      <th>MARRIED</th>\n",
              "      <th>CHILDREN</th>\n",
              "      <th>SPEEDING_VIOLATIONS</th>\n",
              "      <th>DUIS</th>\n",
              "      <th>PAST_ACCIDENTS</th>\n",
              "      <th>OUTCOME</th>\n",
              "    </tr>\n",
              "  </thead>\n",
              "  <tbody>\n",
              "    <tr>\n",
              "      <th>0</th>\n",
              "      <td>0</td>\n",
              "      <td>1</td>\n",
              "      <td>2</td>\n",
              "      <td>4</td>\n",
              "      <td>0.629027</td>\n",
              "      <td>1</td>\n",
              "      <td>1</td>\n",
              "      <td>0</td>\n",
              "      <td>1</td>\n",
              "      <td>0</td>\n",
              "      <td>0</td>\n",
              "      <td>0</td>\n",
              "      <td>0</td>\n",
              "    </tr>\n",
              "    <tr>\n",
              "      <th>1</th>\n",
              "      <td>1</td>\n",
              "      <td>1</td>\n",
              "      <td>1</td>\n",
              "      <td>1</td>\n",
              "      <td>0.357757</td>\n",
              "      <td>0</td>\n",
              "      <td>0</td>\n",
              "      <td>0</td>\n",
              "      <td>0</td>\n",
              "      <td>0</td>\n",
              "      <td>0</td>\n",
              "      <td>0</td>\n",
              "      <td>1</td>\n",
              "    </tr>\n",
              "    <tr>\n",
              "      <th>2</th>\n",
              "      <td>0</td>\n",
              "      <td>1</td>\n",
              "      <td>2</td>\n",
              "      <td>2</td>\n",
              "      <td>0.493146</td>\n",
              "      <td>1</td>\n",
              "      <td>0</td>\n",
              "      <td>0</td>\n",
              "      <td>0</td>\n",
              "      <td>0</td>\n",
              "      <td>0</td>\n",
              "      <td>0</td>\n",
              "      <td>0</td>\n",
              "    </tr>\n",
              "    <tr>\n",
              "      <th>3</th>\n",
              "      <td>1</td>\n",
              "      <td>1</td>\n",
              "      <td>3</td>\n",
              "      <td>2</td>\n",
              "      <td>0.206013</td>\n",
              "      <td>1</td>\n",
              "      <td>0</td>\n",
              "      <td>0</td>\n",
              "      <td>1</td>\n",
              "      <td>0</td>\n",
              "      <td>0</td>\n",
              "      <td>0</td>\n",
              "      <td>0</td>\n",
              "    </tr>\n",
              "    <tr>\n",
              "      <th>4</th>\n",
              "      <td>1</td>\n",
              "      <td>2</td>\n",
              "      <td>1</td>\n",
              "      <td>2</td>\n",
              "      <td>0.388366</td>\n",
              "      <td>1</td>\n",
              "      <td>0</td>\n",
              "      <td>0</td>\n",
              "      <td>0</td>\n",
              "      <td>2</td>\n",
              "      <td>0</td>\n",
              "      <td>1</td>\n",
              "      <td>1</td>\n",
              "    </tr>\n",
              "    <tr>\n",
              "      <th>...</th>\n",
              "      <td>...</td>\n",
              "      <td>...</td>\n",
              "      <td>...</td>\n",
              "      <td>...</td>\n",
              "      <td>...</td>\n",
              "      <td>...</td>\n",
              "      <td>...</td>\n",
              "      <td>...</td>\n",
              "      <td>...</td>\n",
              "      <td>...</td>\n",
              "      <td>...</td>\n",
              "      <td>...</td>\n",
              "      <td>...</td>\n",
              "    </tr>\n",
              "    <tr>\n",
              "      <th>9995</th>\n",
              "      <td>0</td>\n",
              "      <td>2</td>\n",
              "      <td>3</td>\n",
              "      <td>4</td>\n",
              "      <td>0.582787</td>\n",
              "      <td>1</td>\n",
              "      <td>0</td>\n",
              "      <td>0</td>\n",
              "      <td>0</td>\n",
              "      <td>0</td>\n",
              "      <td>0</td>\n",
              "      <td>1</td>\n",
              "      <td>0</td>\n",
              "    </tr>\n",
              "    <tr>\n",
              "      <th>9996</th>\n",
              "      <td>0</td>\n",
              "      <td>2</td>\n",
              "      <td>1</td>\n",
              "      <td>3</td>\n",
              "      <td>0.522231</td>\n",
              "      <td>1</td>\n",
              "      <td>1</td>\n",
              "      <td>0</td>\n",
              "      <td>1</td>\n",
              "      <td>1</td>\n",
              "      <td>0</td>\n",
              "      <td>0</td>\n",
              "      <td>0</td>\n",
              "    </tr>\n",
              "    <tr>\n",
              "      <th>9997</th>\n",
              "      <td>1</td>\n",
              "      <td>1</td>\n",
              "      <td>2</td>\n",
              "      <td>3</td>\n",
              "      <td>0.470940</td>\n",
              "      <td>1</td>\n",
              "      <td>0</td>\n",
              "      <td>0</td>\n",
              "      <td>1</td>\n",
              "      <td>0</td>\n",
              "      <td>0</td>\n",
              "      <td>0</td>\n",
              "      <td>0</td>\n",
              "    </tr>\n",
              "    <tr>\n",
              "      <th>9998</th>\n",
              "      <td>0</td>\n",
              "      <td>2</td>\n",
              "      <td>2</td>\n",
              "      <td>1</td>\n",
              "      <td>0.364185</td>\n",
              "      <td>0</td>\n",
              "      <td>0</td>\n",
              "      <td>0</td>\n",
              "      <td>1</td>\n",
              "      <td>2</td>\n",
              "      <td>0</td>\n",
              "      <td>1</td>\n",
              "      <td>1</td>\n",
              "    </tr>\n",
              "    <tr>\n",
              "      <th>9999</th>\n",
              "      <td>0</td>\n",
              "      <td>1</td>\n",
              "      <td>1</td>\n",
              "      <td>2</td>\n",
              "      <td>0.435225</td>\n",
              "      <td>1</td>\n",
              "      <td>0</td>\n",
              "      <td>1</td>\n",
              "      <td>1</td>\n",
              "      <td>0</td>\n",
              "      <td>0</td>\n",
              "      <td>0</td>\n",
              "      <td>0</td>\n",
              "    </tr>\n",
              "  </tbody>\n",
              "</table>\n",
              "<p>9677 rows × 13 columns</p>\n",
              "</div>\n",
              "      <button class=\"colab-df-convert\" onclick=\"convertToInteractive('df-25c45e45-818f-4d79-beae-71407744a3d1')\"\n",
              "              title=\"Convert this dataframe to an interactive table.\"\n",
              "              style=\"display:none;\">\n",
              "        \n",
              "  <svg xmlns=\"http://www.w3.org/2000/svg\" height=\"24px\"viewBox=\"0 0 24 24\"\n",
              "       width=\"24px\">\n",
              "    <path d=\"M0 0h24v24H0V0z\" fill=\"none\"/>\n",
              "    <path d=\"M18.56 5.44l.94 2.06.94-2.06 2.06-.94-2.06-.94-.94-2.06-.94 2.06-2.06.94zm-11 1L8.5 8.5l.94-2.06 2.06-.94-2.06-.94L8.5 2.5l-.94 2.06-2.06.94zm10 10l.94 2.06.94-2.06 2.06-.94-2.06-.94-.94-2.06-.94 2.06-2.06.94z\"/><path d=\"M17.41 7.96l-1.37-1.37c-.4-.4-.92-.59-1.43-.59-.52 0-1.04.2-1.43.59L10.3 9.45l-7.72 7.72c-.78.78-.78 2.05 0 2.83L4 21.41c.39.39.9.59 1.41.59.51 0 1.02-.2 1.41-.59l7.78-7.78 2.81-2.81c.8-.78.8-2.07 0-2.86zM5.41 20L4 18.59l7.72-7.72 1.47 1.35L5.41 20z\"/>\n",
              "  </svg>\n",
              "      </button>\n",
              "      \n",
              "  <style>\n",
              "    .colab-df-container {\n",
              "      display:flex;\n",
              "      flex-wrap:wrap;\n",
              "      gap: 12px;\n",
              "    }\n",
              "\n",
              "    .colab-df-convert {\n",
              "      background-color: #E8F0FE;\n",
              "      border: none;\n",
              "      border-radius: 50%;\n",
              "      cursor: pointer;\n",
              "      display: none;\n",
              "      fill: #1967D2;\n",
              "      height: 32px;\n",
              "      padding: 0 0 0 0;\n",
              "      width: 32px;\n",
              "    }\n",
              "\n",
              "    .colab-df-convert:hover {\n",
              "      background-color: #E2EBFA;\n",
              "      box-shadow: 0px 1px 2px rgba(60, 64, 67, 0.3), 0px 1px 3px 1px rgba(60, 64, 67, 0.15);\n",
              "      fill: #174EA6;\n",
              "    }\n",
              "\n",
              "    [theme=dark] .colab-df-convert {\n",
              "      background-color: #3B4455;\n",
              "      fill: #D2E3FC;\n",
              "    }\n",
              "\n",
              "    [theme=dark] .colab-df-convert:hover {\n",
              "      background-color: #434B5C;\n",
              "      box-shadow: 0px 1px 3px 1px rgba(0, 0, 0, 0.15);\n",
              "      filter: drop-shadow(0px 1px 2px rgba(0, 0, 0, 0.3));\n",
              "      fill: #FFFFFF;\n",
              "    }\n",
              "  </style>\n",
              "\n",
              "      <script>\n",
              "        const buttonEl =\n",
              "          document.querySelector('#df-25c45e45-818f-4d79-beae-71407744a3d1 button.colab-df-convert');\n",
              "        buttonEl.style.display =\n",
              "          google.colab.kernel.accessAllowed ? 'block' : 'none';\n",
              "\n",
              "        async function convertToInteractive(key) {\n",
              "          const element = document.querySelector('#df-25c45e45-818f-4d79-beae-71407744a3d1');\n",
              "          const dataTable =\n",
              "            await google.colab.kernel.invokeFunction('convertToInteractive',\n",
              "                                                     [key], {});\n",
              "          if (!dataTable) return;\n",
              "\n",
              "          const docLinkHtml = 'Like what you see? Visit the ' +\n",
              "            '<a target=\"_blank\" href=https://colab.research.google.com/notebooks/data_table.ipynb>data table notebook</a>'\n",
              "            + ' to learn more about interactive tables.';\n",
              "          element.innerHTML = '';\n",
              "          dataTable['output_type'] = 'display_data';\n",
              "          await google.colab.output.renderOutput(dataTable, element);\n",
              "          const docLink = document.createElement('div');\n",
              "          docLink.innerHTML = docLinkHtml;\n",
              "          element.appendChild(docLink);\n",
              "        }\n",
              "      </script>\n",
              "    </div>\n",
              "  </div>\n",
              "  "
            ]
          },
          "metadata": {},
          "execution_count": 58
        }
      ],
      "source": [
        "df_2"
      ]
    },
    {
      "cell_type": "code",
      "execution_count": 61,
      "metadata": {
        "id": "FNyThaPwIBnW"
      },
      "outputs": [],
      "source": [
        "#copying DF for further analysis and backup\n",
        "df_3 = df_2.copy()"
      ]
    },
    {
      "cell_type": "code",
      "execution_count": 62,
      "metadata": {
        "colab": {
          "base_uri": "https://localhost:8080/"
        },
        "id": "4de1R01PFXp4",
        "outputId": "751ca240-8b8b-418c-d859-f241d1dcdd71"
      },
      "outputs": [
        {
          "output_type": "execute_result",
          "data": {
            "text/plain": [
              "GENDER                   int64\n",
              "DRIVING_EXPERIENCE       int64\n",
              "EDUCATION                int64\n",
              "INCOME                   int64\n",
              "CREDIT_SCORE           float64\n",
              "VEHICLE_OWNERSHIP        int64\n",
              "VEHICLE_YEAR             int64\n",
              "MARRIED                  int64\n",
              "CHILDREN                 int64\n",
              "SPEEDING_VIOLATIONS      int64\n",
              "DUIS                     int64\n",
              "PAST_ACCIDENTS           int64\n",
              "OUTCOME                  int64\n",
              "dtype: object"
            ]
          },
          "metadata": {},
          "execution_count": 62
        }
      ],
      "source": [
        "df_3.dtypes"
      ]
    },
    {
      "cell_type": "markdown",
      "metadata": {
        "id": "OpHvMhnoELHN"
      },
      "source": [
        "**Modeling and Evaluation**"
      ]
    },
    {
      "cell_type": "code",
      "execution_count": 63,
      "metadata": {
        "id": "9ge8UVA3sB0e"
      },
      "outputs": [],
      "source": [
        "import sklearn\n",
        "import scipy\n",
        "import matplotlib.pyplot as plt\n",
        "import seaborn as sns\n",
        "from sklearn.metrics import classification_report,accuracy_score\n",
        "from sklearn.ensemble import IsolationForest\n",
        "from sklearn.neighbors import LocalOutlierFactor\n",
        "from sklearn.svm import OneClassSVM\n",
        "from pylab import rcParams\n",
        "rcParams['figure.figsize'] = 5, 2.5\n",
        "RANDOM_SEED = 42"
      ]
    },
    {
      "cell_type": "code",
      "execution_count": 64,
      "metadata": {
        "colab": {
          "base_uri": "https://localhost:8080/"
        },
        "id": "3np72iXnmjOO",
        "outputId": "7f59640b-8234-41b9-8848-56ca6e17fdcf"
      },
      "outputs": [
        {
          "output_type": "stream",
          "name": "stdout",
          "text": [
            "(2998, 13) (6679, 13)\n"
          ]
        }
      ],
      "source": [
        "## Get the claimed and unclaimed outcome numbers\n",
        "\n",
        "applied = df_3[df_3['OUTCOME']==1]\n",
        "\n",
        "notapplied = df_3[df_3['OUTCOME']==0]\n",
        "print(applied.shape,notapplied.shape)"
      ]
    },
    {
      "cell_type": "code",
      "execution_count": 65,
      "metadata": {
        "colab": {
          "base_uri": "https://localhost:8080/"
        },
        "id": "4TLPD6meqNBV",
        "outputId": "166c9d48-75d3-469b-c41b-085ba167a880"
      },
      "outputs": [
        {
          "output_type": "stream",
          "name": "stdout",
          "text": [
            "(9677, 12)\n",
            "(9677,)\n"
          ]
        }
      ],
      "source": [
        "#we create independent and Dependent Features\n",
        "columns = df_3.columns.tolist()\n",
        "# Filter the columns to remove data we do not want \n",
        "columns = [a for a in columns if a not in [\"OUTCOME\"]]\n",
        "# Store the variable we are predicting \n",
        "target = \"OUTCOME\"\n",
        "# Define a random state \n",
        "state = np.random.RandomState(42)\n",
        "X = df_3[columns]\n",
        "Y = df_3[target]\n",
        "# Print the shapes of X & Y\n",
        "print(X.shape)\n",
        "print(Y.shape)"
      ]
    },
    {
      "cell_type": "markdown",
      "source": [
        "**SVM-Algorithm**"
      ],
      "metadata": {
        "id": "l7mWfPDRCN4N"
      }
    },
    {
      "cell_type": "code",
      "execution_count": 78,
      "metadata": {
        "colab": {
          "base_uri": "https://localhost:8080/"
        },
        "id": "8dGhzPbQ6hEx",
        "outputId": "8fa882bc-9a32-4ca9-e59a-a0bbbfdd74e9"
      },
      "outputs": [
        {
          "output_type": "stream",
          "name": "stdout",
          "text": [
            "Length of X Train : 7741\n",
            "Length of X Test  : 1936\n"
          ]
        }
      ],
      "source": [
        "#we split the test and training data for modeling\n",
        "\n",
        "from sklearn.model_selection import train_test_split\n",
        "X_Train, X_Test, Y_Train, Y_Test = train_test_split(X,Y,test_size = 0.2,  random_state=42 )\n",
        "print('Length of X Train :', len(X_Train) )\n",
        "print('Length of X Test  :', len(X_Test) )\n"
      ]
    },
    {
      "cell_type": "code",
      "execution_count": 79,
      "metadata": {
        "id": "jFWYl2V76jUo"
      },
      "outputs": [],
      "source": [
        "#we apply support vector machine algorithm we use SVC(support vector classifier) module in SVM\n",
        "\n",
        "from sklearn.svm import SVC\n",
        "\n",
        "svc = SVC()\n",
        "svc.fit(X_Train, Y_Train)\n",
        "\n",
        "y_pred = svc.predict(X_Test)"
      ]
    },
    {
      "cell_type": "code",
      "execution_count": 80,
      "metadata": {
        "colab": {
          "base_uri": "https://localhost:8080/",
          "height": 771
        },
        "id": "fUGSqwx48GTt",
        "outputId": "b082efa4-d060-4e50-ff52-329ec9ca5152"
      },
      "outputs": [
        {
          "output_type": "stream",
          "name": "stdout",
          "text": [
            "SVM classifier Training accuracy : 0.8329673168841235\n",
            "SVM classifier testing accuracy : 0.8331611570247934\n",
            "SVM cohen_kappa_score : 0.6015445589978208\n",
            "[[1199  120]\n",
            " [ 203  414]]\n",
            "              precision    recall  f1-score   support\n",
            "\n",
            "           0       0.86      0.91      0.88      1319\n",
            "           1       0.78      0.67      0.72       617\n",
            "\n",
            "    accuracy                           0.83      1936\n",
            "   macro avg       0.82      0.79      0.80      1936\n",
            "weighted avg       0.83      0.83      0.83      1936\n",
            "\n"
          ]
        },
        {
          "output_type": "stream",
          "name": "stderr",
          "text": [
            "/usr/local/lib/python3.7/dist-packages/sklearn/utils/deprecation.py:87: FutureWarning: Function plot_confusion_matrix is deprecated; Function `plot_confusion_matrix` is deprecated in 1.0 and will be removed in 1.2. Use one of the class methods: ConfusionMatrixDisplay.from_predictions or ConfusionMatrixDisplay.from_estimator.\n",
            "  warnings.warn(msg, category=FutureWarning)\n",
            "/usr/local/lib/python3.7/dist-packages/sklearn/utils/deprecation.py:87: FutureWarning: Function plot_roc_curve is deprecated; Function :func:`plot_roc_curve` is deprecated in 1.0 and will be removed in 1.2. Use one of the class methods: :meth:`sklearn.metric.RocCurveDisplay.from_predictions` or :meth:`sklearn.metric.RocCurveDisplay.from_estimator`.\n",
            "  warnings.warn(msg, category=FutureWarning)\n"
          ]
        },
        {
          "output_type": "execute_result",
          "data": {
            "text/plain": [
              "<sklearn.metrics._plot.roc_curve.RocCurveDisplay at 0x7f8ae62d7810>"
            ]
          },
          "metadata": {},
          "execution_count": 80
        },
        {
          "output_type": "display_data",
          "data": {
            "text/plain": [
              "<Figure size 360x180 with 2 Axes>"
            ],
            "image/png": "[encoded data removed]"
          },
          "metadata": {
            "needs_background": "light"
          }
        },
        {
          "output_type": "display_data",
          "data": {
            "text/plain": [
              "<Figure size 360x180 with 1 Axes>"
            ],
            "image/png": "[encoded data removed]"
          },
          "metadata": {
            "needs_background": "light"
          }
        }
      ],
      "source": [
        "#model evaulation, printing training, testing, accuracy. precision, recall, F1 score ,support=number of sample used\n",
        "#confusion matrix, check for imbalanced data\n",
        "\n",
        "\n",
        "from sklearn.metrics import accuracy_score, confusion_matrix, classification_report,plot_confusion_matrix,plot_roc_curve\n",
        "\n",
        "\n",
        "svc_train_accuracy = accuracy_score(Y_Train, svc.predict(X_Train))#training accuracy score\n",
        "svc_test_accuracy = accuracy_score(Y_Test, y_pred)#testing accuracy score\n",
        "cohen_kappa = cohen_kappa_score(Y_Test, y_pred)\n",
        "\n",
        "print(f\"SVM classifier Training accuracy : {svc_train_accuracy}\")#print Training accuracy\n",
        "print(f\"SVM classifier testing accuracy : {svc_test_accuracy}\")#print testing accuracy\n",
        "print(f\"SVM cohen_kappa_score : {cohen_kappa}\")\n",
        "\n",
        "\n",
        "print(confusion_matrix(Y_Test, y_pred))#print confusion matrix\n",
        "print(classification_report(Y_Test, y_pred))#print summary\n",
        "plot_confusion_matrix(svc, X_Test,Y_Test)#plot confusion matrix\n",
        "plot_roc_curve(svc, X_Test,Y_Test)#plot ROC curve"
      ]
    },
    {
      "cell_type": "code",
      "execution_count": null,
      "metadata": {
        "id": "Jai8bh9kBCzo"
      },
      "outputs": [],
      "source": [
        ""
      ]
    },
    {
      "cell_type": "markdown",
      "metadata": {
        "id": "vOZtQT9qORFK"
      },
      "source": [
        "**Appling Random oversampling technique as our outcome is imbalace **"
      ]
    },
    {
      "cell_type": "markdown",
      "metadata": {
        "id": "LhZ-RrTFVTeK"
      },
      "source": [
        "**SVM Model with Oversample**"
      ]
    },
    {
      "cell_type": "code",
      "execution_count": 84,
      "metadata": {
        "id": "vnR7o3cm8GQf"
      },
      "outputs": [],
      "source": [
        "#importing smote library\n",
        "\n",
        "from imblearn.combine import SMOTETomek\n",
        "from imblearn.under_sampling import NearMiss"
      ]
    },
    {
      "cell_type": "code",
      "execution_count": 85,
      "metadata": {
        "id": "YBURQp4W7Lci"
      },
      "outputs": [],
      "source": [
        "## RandomOverSampler is used  to handle imbalanced data\n",
        "\n",
        "from imblearn.over_sampling import RandomOverSampler\n",
        "from collections import Counter"
      ]
    },
    {
      "cell_type": "code",
      "execution_count": 86,
      "metadata": {
        "id": "74qJkDgs7LYQ"
      },
      "outputs": [],
      "source": [
        "#taking random num\n",
        "ros = RandomOverSampler(random_state=42)"
      ]
    },
    {
      "cell_type": "code",
      "execution_count": 87,
      "metadata": {
        "id": "VFNuprOgOiwE"
      },
      "outputs": [],
      "source": [
        "#fitting training model\n",
        "X_train_result, y_train_result = ros.fit_resample(X, Y)"
      ]
    },
    {
      "cell_type": "code",
      "execution_count": 88,
      "metadata": {
        "colab": {
          "base_uri": "https://localhost:8080/"
        },
        "id": "ZyJjx1vGOit1",
        "outputId": "6504c134-f4bd-48d2-9bbf-138fd0df83fe"
      },
      "outputs": [
        {
          "output_type": "execute_result",
          "data": {
            "text/plain": [
              "((13358, 12), (13358,))"
            ]
          },
          "metadata": {},
          "execution_count": 88
        }
      ],
      "source": [
        "#check the shape of the model\n",
        "#there is increase in the number of data size to balance the over all dataset\n",
        "X_train_result.shape,y_train_result.shape"
      ]
    },
    {
      "cell_type": "code",
      "execution_count": 89,
      "metadata": {
        "colab": {
          "base_uri": "https://localhost:8080/"
        },
        "id": "z7wKvkVTOirM",
        "outputId": "08b573d6-e9c9-4d4f-c08c-ddf3d681acd1"
      },
      "outputs": [
        {
          "output_type": "stream",
          "name": "stdout",
          "text": [
            "Original dataset shape Counter({0: 6679, 1: 2998})\n",
            "Resampled dataset shape Counter({0: 6679, 1: 6679})\n"
          ]
        }
      ],
      "source": [
        "#showing the shape of the dataset before and after the smote, we see the balanced train data now\n",
        "print('Original dataset shape {}'.format(Counter(Y)))\n",
        "print('Resampled dataset shape {}'.format(Counter(y_train_result)))"
      ]
    },
    {
      "cell_type": "code",
      "execution_count": 90,
      "metadata": {
        "colab": {
          "base_uri": "https://localhost:8080/"
        },
        "id": "h53Hrm6AOiop",
        "outputId": "857fa303-6e99-4ca6-9ced-68970b125332"
      },
      "outputs": [
        {
          "output_type": "stream",
          "name": "stdout",
          "text": [
            "Length of X Train : 10686\n",
            "Length of X Test  : 2672\n"
          ]
        }
      ],
      "source": [
        "#splitting data in train and test\n",
        "from sklearn.model_selection import train_test_split\n",
        "X_Train, X_Test, Y_Train, Y_Test = train_test_split(X_train_result,y_train_result,test_size = 0.2,  random_state=42 )\n",
        "print('Length of X Train :', len(X_Train) )\n",
        "print('Length of X Test  :', len(X_Test) )"
      ]
    },
    {
      "cell_type": "code",
      "execution_count": 91,
      "metadata": {
        "id": "vzgFpDsRPEoY"
      },
      "outputs": [],
      "source": [
        "from sklearn.svm import SVC\n",
        "\n",
        "svc = SVC()\n",
        "svc.fit(X_Train, Y_Train)\n",
        "\n",
        "y_pred = svc.predict(X_Test)"
      ]
    },
    {
      "cell_type": "code",
      "execution_count": 93,
      "metadata": {
        "colab": {
          "base_uri": "https://localhost:8080/",
          "height": 771
        },
        "id": "7DW2CcbjPEjS",
        "outputId": "7791e609-a871-43f2-eeb3-8aee1677b158"
      },
      "outputs": [
        {
          "output_type": "stream",
          "name": "stdout",
          "text": [
            "Training accuracy of Support Vector Classifier is : 0.8261276436458919\n",
            "Test accuracy of Support Vector Classifier is : 0.8263473053892215\n",
            "SVM cohen_kappa_score : 0.6526806004401555\n",
            "[[1115  225]\n",
            " [ 239 1093]]\n",
            "              precision    recall  f1-score   support\n",
            "\n",
            "           0       0.82      0.83      0.83      1340\n",
            "           1       0.83      0.82      0.82      1332\n",
            "\n",
            "    accuracy                           0.83      2672\n",
            "   macro avg       0.83      0.83      0.83      2672\n",
            "weighted avg       0.83      0.83      0.83      2672\n",
            "\n"
          ]
        },
        {
          "output_type": "stream",
          "name": "stderr",
          "text": [
            "/usr/local/lib/python3.7/dist-packages/sklearn/utils/deprecation.py:87: FutureWarning: Function plot_confusion_matrix is deprecated; Function `plot_confusion_matrix` is deprecated in 1.0 and will be removed in 1.2. Use one of the class methods: ConfusionMatrixDisplay.from_predictions or ConfusionMatrixDisplay.from_estimator.\n",
            "  warnings.warn(msg, category=FutureWarning)\n",
            "/usr/local/lib/python3.7/dist-packages/sklearn/utils/deprecation.py:87: FutureWarning: Function plot_roc_curve is deprecated; Function :func:`plot_roc_curve` is deprecated in 1.0 and will be removed in 1.2. Use one of the class methods: :meth:`sklearn.metric.RocCurveDisplay.from_predictions` or :meth:`sklearn.metric.RocCurveDisplay.from_estimator`.\n",
            "  warnings.warn(msg, category=FutureWarning)\n"
          ]
        },
        {
          "output_type": "execute_result",
          "data": {
            "text/plain": [
              "<sklearn.metrics._plot.roc_curve.RocCurveDisplay at 0x7f8ae619ef10>"
            ]
          },
          "metadata": {},
          "execution_count": 93
        },
        {
          "output_type": "display_data",
          "data": {
            "text/plain": [
              "<Figure size 360x180 with 2 Axes>"
            ],
            "image/png": "[encoded data removed]"
          },
          "metadata": {
            "needs_background": "light"
          }
        },
        {
          "output_type": "display_data",
          "data": {
            "text/plain": [
              "<Figure size 360x180 with 1 Axes>"
            ],
            "image/png": "[encoded data removed]"
          },
          "metadata": {
            "needs_background": "light"
          }
        }
      ],
      "source": [
        "# classification_report accuracy_score  and  confusion_matrix\n",
        "\n",
        "from sklearn.metrics import accuracy_score, confusion_matrix, classification_report\n",
        "from sklearn.metrics import cohen_kappa_score\n",
        "svc_train_acc = accuracy_score(Y_Train, svc.predict(X_Train))\n",
        "svc_test_acc = accuracy_score(Y_Test, y_pred)\n",
        "cohen_kappa = cohen_kappa_score(Y_Test, y_pred)\n",
        "\n",
        "print(f\"Training accuracy of Support Vector Classifier is : {svc_train_acc}\")\n",
        "print(f\"Test accuracy of Support Vector Classifier is : {svc_test_acc}\")\n",
        "print(f\"SVM cohen_kappa_score : {cohen_kappa}\")\n",
        "\n",
        "print(confusion_matrix(Y_Test, y_pred))\n",
        "print(classification_report(Y_Test, y_pred))\n",
        "plot_confusion_matrix(svc, X_Test,Y_Test)\n",
        "plot_roc_curve(svc, X_Test,Y_Test)"
      ]
    },
    {
      "cell_type": "markdown",
      "metadata": {
        "id": "t2l-ILuHVXsI"
      },
      "source": [
        "**KNN model**"
      ]
    },
    {
      "cell_type": "code",
      "execution_count": 94,
      "metadata": {
        "colab": {
          "base_uri": "https://localhost:8080/"
        },
        "id": "OD3GVqFTPPST",
        "outputId": "c1e7856b-63bf-4c84-8629-d26b8447df03"
      },
      "outputs": [
        {
          "output_type": "stream",
          "name": "stdout",
          "text": [
            "Length of X Train : 7741\n",
            "Length of X Test  : 1936\n"
          ]
        }
      ],
      "source": [
        "#we split the test and training data for modeling\n",
        "\n",
        "from sklearn.model_selection import train_test_split\n",
        "X_Train, X_Test, Y_Train, Y_Test = train_test_split(X,Y,test_size = 0.2,  random_state=42 )\n",
        "print('Length of X Train :', len(X_Train) )\n",
        "print('Length of X Test  :', len(X_Test) )"
      ]
    },
    {
      "cell_type": "code",
      "execution_count": 95,
      "metadata": {
        "id": "hzrCVDBKKTxf"
      },
      "outputs": [],
      "source": [
        "from sklearn.neighbors import KNeighborsClassifier\n",
        "\n",
        "knn = KNeighborsClassifier(n_neighbors = 30)\n",
        "knn.fit(X_Train, Y_Train)\n",
        "\n",
        "y_pred = knn.predict(X_Test)"
      ]
    },
    {
      "cell_type": "code",
      "execution_count": 96,
      "metadata": {
        "colab": {
          "base_uri": "https://localhost:8080/",
          "height": 775
        },
        "id": "7BP25wbvR0_Z",
        "outputId": "92d2b7a7-bbc9-49e5-9582-c7dfc2049a8b"
      },
      "outputs": [
        {
          "output_type": "stream",
          "name": "stdout",
          "text": [
            "Training accuracy of KNN is : 0.8341299573698489\n",
            "Test accuracy of KNN is : 0.8264462809917356\n",
            "SVM cohen_kappa_score : 0.5823315864562881\n",
            "[[1201  118]\n",
            " [ 218  399]]\n",
            "              precision    recall  f1-score   support\n",
            "\n",
            "           0       0.85      0.91      0.88      1319\n",
            "           1       0.77      0.65      0.70       617\n",
            "\n",
            "    accuracy                           0.83      1936\n",
            "   macro avg       0.81      0.78      0.79      1936\n",
            "weighted avg       0.82      0.83      0.82      1936\n",
            "\n"
          ]
        },
        {
          "output_type": "stream",
          "name": "stderr",
          "text": [
            "/usr/local/lib/python3.7/dist-packages/sklearn/utils/deprecation.py:87: FutureWarning: Function plot_confusion_matrix is deprecated; Function `plot_confusion_matrix` is deprecated in 1.0 and will be removed in 1.2. Use one of the class methods: ConfusionMatrixDisplay.from_predictions or ConfusionMatrixDisplay.from_estimator.\n",
            "  warnings.warn(msg, category=FutureWarning)\n",
            "/usr/local/lib/python3.7/dist-packages/sklearn/utils/deprecation.py:87: FutureWarning: Function plot_roc_curve is deprecated; Function :func:`plot_roc_curve` is deprecated in 1.0 and will be removed in 1.2. Use one of the class methods: :meth:`sklearn.metric.RocCurveDisplay.from_predictions` or :meth:`sklearn.metric.RocCurveDisplay.from_estimator`.\n",
            "  warnings.warn(msg, category=FutureWarning)\n"
          ]
        },
        {
          "output_type": "execute_result",
          "data": {
            "text/plain": [
              "<sklearn.metrics._plot.roc_curve.RocCurveDisplay at 0x7f8ae67b0cd0>"
            ]
          },
          "metadata": {},
          "execution_count": 96
        },
        {
          "output_type": "display_data",
          "data": {
            "text/plain": [
              "<Figure size 360x180 with 2 Axes>"
            ],
            "image/png": "[encoded data removed]"
          },
          "metadata": {
            "needs_background": "light"
          }
        },
        {
          "output_type": "display_data",
          "data": {
            "text/plain": [
              "<Figure size 360x180 with 1 Axes>"
            ],
            "image/png": "[encoded data removed]"
          },
          "metadata": {
            "needs_background": "light"
          }
        }
      ],
      "source": [
        "# accuracy_score, confusion_matrix and classification_report\n",
        "\n",
        "from sklearn.metrics import accuracy_score, confusion_matrix, classification_report, classification_report,plot_confusion_matrix,plot_roc_curve\n",
        "\n",
        "knn_train_acc = accuracy_score(Y_Train, knn.predict(X_Train))\n",
        "knn_test_acc = accuracy_score(Y_Test, y_pred)\n",
        "cohen_kappa = cohen_kappa_score(Y_Test, y_pred)\n",
        "\n",
        "print(f\"Training accuracy of KNN is : {knn_train_acc}\")\n",
        "print(f\"Test accuracy of KNN is : {knn_test_acc}\")\n",
        "print(f\"SVM cohen_kappa_score : {cohen_kappa}\")\n",
        "\n",
        "print(confusion_matrix(Y_Test, y_pred))\n",
        "print(classification_report(Y_Test, y_pred))\n",
        "plot_confusion_matrix(knn, X_Test,Y_Test)\n",
        "plot_roc_curve(knn, X_Test,Y_Test)"
      ]
    },
    {
      "cell_type": "markdown",
      "source": [
        "**Applying oversampling-KNN**"
      ],
      "metadata": {
        "id": "OaWvXCJVHgMr"
      }
    },
    {
      "cell_type": "code",
      "execution_count": 97,
      "metadata": {
        "colab": {
          "base_uri": "https://localhost:8080/"
        },
        "id": "owxIPTamVFWY",
        "outputId": "1f5e9f86-cbce-42b7-f6f4-dd068d081764"
      },
      "outputs": [
        {
          "output_type": "stream",
          "name": "stdout",
          "text": [
            "Length of X Train : 10686\n",
            "Length of X Test  : 2672\n"
          ]
        }
      ],
      "source": [
        "from sklearn.model_selection import train_test_split\n",
        "X_Train, X_Test, Y_Train, Y_Test = train_test_split(X_train_result,y_train_result,test_size = 0.2,  random_state=42 )\n",
        "print('Length of X Train :', len(X_Train) )\n",
        "print('Length of X Test  :', len(X_Test) )"
      ]
    },
    {
      "cell_type": "code",
      "execution_count": 98,
      "metadata": {
        "id": "UJkxvGE-VFPU"
      },
      "outputs": [],
      "source": [
        "from sklearn.neighbors import KNeighborsClassifier\n",
        "\n",
        "knn = KNeighborsClassifier(n_neighbors = 30)\n",
        "knn.fit(X_Train, Y_Train)\n",
        "\n",
        "y_pred = knn.predict(X_Test)"
      ]
    },
    {
      "cell_type": "code",
      "execution_count": 99,
      "metadata": {
        "colab": {
          "base_uri": "https://localhost:8080/",
          "height": 771
        },
        "id": "aqvb748BVFI4",
        "outputId": "474559c1-ee03-46d6-8742-21f841ecec02"
      },
      "outputs": [
        {
          "output_type": "stream",
          "name": "stdout",
          "text": [
            "Training accuracy of KNN is : 0.8221972674527419\n",
            "Test accuracy of KNN is : 0.8196107784431138\n",
            "SVM cohen_kappa_score : 0.6392393433218448\n",
            "[[1086  254]\n",
            " [ 228 1104]]\n",
            "              precision    recall  f1-score   support\n",
            "\n",
            "           0       0.83      0.81      0.82      1340\n",
            "           1       0.81      0.83      0.82      1332\n",
            "\n",
            "    accuracy                           0.82      2672\n",
            "   macro avg       0.82      0.82      0.82      2672\n",
            "weighted avg       0.82      0.82      0.82      2672\n",
            "\n"
          ]
        },
        {
          "output_type": "stream",
          "name": "stderr",
          "text": [
            "/usr/local/lib/python3.7/dist-packages/sklearn/utils/deprecation.py:87: FutureWarning: Function plot_confusion_matrix is deprecated; Function `plot_confusion_matrix` is deprecated in 1.0 and will be removed in 1.2. Use one of the class methods: ConfusionMatrixDisplay.from_predictions or ConfusionMatrixDisplay.from_estimator.\n",
            "  warnings.warn(msg, category=FutureWarning)\n",
            "/usr/local/lib/python3.7/dist-packages/sklearn/utils/deprecation.py:87: FutureWarning: Function plot_roc_curve is deprecated; Function :func:`plot_roc_curve` is deprecated in 1.0 and will be removed in 1.2. Use one of the class methods: :meth:`sklearn.metric.RocCurveDisplay.from_predictions` or :meth:`sklearn.metric.RocCurveDisplay.from_estimator`.\n",
            "  warnings.warn(msg, category=FutureWarning)\n"
          ]
        },
        {
          "output_type": "execute_result",
          "data": {
            "text/plain": [
              "<sklearn.metrics._plot.roc_curve.RocCurveDisplay at 0x7f8aebc65490>"
            ]
          },
          "metadata": {},
          "execution_count": 99
        },
        {
          "output_type": "display_data",
          "data": {
            "text/plain": [
              "<Figure size 360x180 with 2 Axes>"
            ],
            "image/png": "[encoded data removed]"
          },
          "metadata": {
            "needs_background": "light"
          }
        },
        {
          "output_type": "display_data",
          "data": {
            "text/plain": [
              "<Figure size 360x180 with 1 Axes>"
            ],
            "image/png": "[encoded data removed]"
          },
          "metadata": {
            "needs_background": "light"
          }
        }
      ],
      "source": [
        "# accuracy_score, confusion_matrix and classification_report\n",
        "\n",
        "from sklearn.metrics import accuracy_score, confusion_matrix, classification_report, classification_report,plot_confusion_matrix,plot_roc_curve\n",
        "\n",
        "knn_train_acc = accuracy_score(Y_Train, knn.predict(X_Train))\n",
        "knn_test_acc = accuracy_score(Y_Test, y_pred)\n",
        "cohen_kappa = cohen_kappa_score(Y_Test, y_pred)\n",
        "\n",
        "print(f\"Training accuracy of KNN is : {knn_train_acc}\")\n",
        "print(f\"Test accuracy of KNN is : {knn_test_acc}\")\n",
        "print(f\"SVM cohen_kappa_score : {cohen_kappa}\")\n",
        "\n",
        "\n",
        "print(confusion_matrix(Y_Test, y_pred))\n",
        "print(classification_report(Y_Test, y_pred))\n",
        "plot_confusion_matrix(knn, X_Test,Y_Test)\n",
        "plot_roc_curve(knn, X_Test,Y_Test)"
      ]
    },
    {
      "cell_type": "markdown",
      "metadata": {
        "id": "Qiz0QcV4X37c"
      },
      "source": [
        "**XG boost model**"
      ]
    },
    {
      "cell_type": "code",
      "execution_count": 100,
      "metadata": {
        "colab": {
          "base_uri": "https://localhost:8080/"
        },
        "id": "Gg64E11tX2aV",
        "outputId": "38de1148-5c94-49cf-8465-5e8d18a80e1d"
      },
      "outputs": [
        {
          "output_type": "stream",
          "name": "stdout",
          "text": [
            "Length of X Train : 7741\n",
            "Length of X Test  : 1936\n"
          ]
        }
      ],
      "source": [
        "#we split the test and training data for modeling\n",
        "\n",
        "from sklearn.model_selection import train_test_split\n",
        "X_Train, X_Test, Y_Train, Y_Test = train_test_split(X,Y,test_size = 0.2,  random_state=42 )\n",
        "print('Length of X Train :', len(X_Train) )\n",
        "print('Length of X Test  :', len(X_Test) )"
      ]
    },
    {
      "cell_type": "markdown",
      "metadata": {
        "id": "wNwy-46UX2Aj"
      },
      "source": [
        ""
      ]
    },
    {
      "cell_type": "code",
      "execution_count": 101,
      "metadata": {
        "id": "5QxurA-tR051"
      },
      "outputs": [],
      "source": [
        "from xgboost import XGBClassifier\n",
        "\n",
        "xgb = XGBClassifier()\n",
        "xgb.fit(X_Train, Y_Train)\n",
        "\n",
        "y_pred = xgb.predict(X_Test)"
      ]
    },
    {
      "cell_type": "code",
      "execution_count": 105,
      "metadata": {
        "colab": {
          "base_uri": "https://localhost:8080/",
          "height": 771
        },
        "id": "b_J6ow9qR02h",
        "outputId": "88c1ff2c-f4d7-492f-f01d-3790a74989e0"
      },
      "outputs": [
        {
          "output_type": "stream",
          "name": "stdout",
          "text": [
            "Training accuracy of XgBoost is : 0.8309938236945537\n",
            "Test accuracy of XgBoost is : 0.8342065868263473\n",
            "SVM cohen_kappa_score : 0.6683960815865495\n",
            "[[1128  212]\n",
            " [ 231 1101]]\n",
            "              precision    recall  f1-score   support\n",
            "\n",
            "           0       0.83      0.84      0.84      1340\n",
            "           1       0.84      0.83      0.83      1332\n",
            "\n",
            "    accuracy                           0.83      2672\n",
            "   macro avg       0.83      0.83      0.83      2672\n",
            "weighted avg       0.83      0.83      0.83      2672\n",
            "\n"
          ]
        },
        {
          "output_type": "stream",
          "name": "stderr",
          "text": [
            "/usr/local/lib/python3.7/dist-packages/sklearn/utils/deprecation.py:87: FutureWarning: Function plot_confusion_matrix is deprecated; Function `plot_confusion_matrix` is deprecated in 1.0 and will be removed in 1.2. Use one of the class methods: ConfusionMatrixDisplay.from_predictions or ConfusionMatrixDisplay.from_estimator.\n",
            "  warnings.warn(msg, category=FutureWarning)\n",
            "/usr/local/lib/python3.7/dist-packages/sklearn/utils/deprecation.py:87: FutureWarning: Function plot_roc_curve is deprecated; Function :func:`plot_roc_curve` is deprecated in 1.0 and will be removed in 1.2. Use one of the class methods: :meth:`sklearn.metric.RocCurveDisplay.from_predictions` or :meth:`sklearn.metric.RocCurveDisplay.from_estimator`.\n",
            "  warnings.warn(msg, category=FutureWarning)\n"
          ]
        },
        {
          "output_type": "execute_result",
          "data": {
            "text/plain": [
              "<sklearn.metrics._plot.roc_curve.RocCurveDisplay at 0x7f8add19f410>"
            ]
          },
          "metadata": {},
          "execution_count": 105
        },
        {
          "output_type": "display_data",
          "data": {
            "text/plain": [
              "<Figure size 360x180 with 2 Axes>"
            ],
            "image/png": "[encoded data removed]"
          },
          "metadata": {
            "needs_background": "light"
          }
        },
        {
          "output_type": "display_data",
          "data": {
            "text/plain": [
              "<Figure size 360x180 with 1 Axes>"
            ],
            "image/png": "[encoded data removed]"
          },
          "metadata": {
            "needs_background": "light"
          }
        }
      ],
      "source": [
        "# accuracy_score, confusion_matrix and classification_report\n",
        "\n",
        "xgb_train_acc = accuracy_score(Y_Train, xgb.predict(X_Train))\n",
        "xgb_test_acc = accuracy_score(Y_Test, y_pred)\n",
        "cohen_kappa = cohen_kappa_score(Y_Test, y_pred)\n",
        "\n",
        "print(f\"Training accuracy of XgBoost is : {xgb_train_acc}\")\n",
        "print(f\"Test accuracy of XgBoost is : {xgb_test_acc}\")\n",
        "print(f\"SVM cohen_kappa_score : {cohen_kappa}\")\n",
        "\n",
        "print(confusion_matrix(Y_Test, y_pred))\n",
        "print(classification_report(Y_Test, y_pred))\n",
        "plot_confusion_matrix(xgb, X_Test,Y_Test)\n",
        "plot_roc_curve(xgb, X_Test,Y_Test)"
      ]
    },
    {
      "cell_type": "markdown",
      "source": [
        "**Applying smote to XG Boost**"
      ],
      "metadata": {
        "id": "RThzB7N8IHcq"
      }
    },
    {
      "cell_type": "code",
      "execution_count": 103,
      "metadata": {
        "colab": {
          "base_uri": "https://localhost:8080/"
        },
        "id": "UgGoPDNWav8D",
        "outputId": "e9499805-e938-4ec1-a19b-8e8a3ebdb7dd"
      },
      "outputs": [
        {
          "output_type": "stream",
          "name": "stdout",
          "text": [
            "Length of X Train : 10686\n",
            "Length of X Test  : 2672\n"
          ]
        }
      ],
      "source": [
        "from sklearn.model_selection import train_test_split\n",
        "X_Train, X_Test, Y_Train, Y_Test = train_test_split(X_train_result,y_train_result,test_size = 0.2,  random_state=42 )\n",
        "print('Length of X Train :', len(X_Train) )\n",
        "print('Length of X Test  :', len(X_Test) )"
      ]
    },
    {
      "cell_type": "code",
      "execution_count": 104,
      "metadata": {
        "id": "hwE5vf6lav4W"
      },
      "outputs": [],
      "source": [
        "from xgboost import XGBClassifier\n",
        "\n",
        "xgb = XGBClassifier()\n",
        "xgb.fit(X_Train, Y_Train)\n",
        "\n",
        "y_pred = xgb.predict(X_Test)"
      ]
    },
    {
      "cell_type": "code",
      "execution_count": 106,
      "metadata": {
        "colab": {
          "base_uri": "https://localhost:8080/",
          "height": 771
        },
        "id": "CsThZSJ3av1b",
        "outputId": "1407809e-fce4-44c1-9c54-e0863f91ff42"
      },
      "outputs": [
        {
          "output_type": "stream",
          "name": "stdout",
          "text": [
            "Training accuracy of XgBoost is : 0.8309938236945537\n",
            "Test accuracy of XgBoost is : 0.8342065868263473\n",
            "SVM cohen_kappa_score : 0.6683960815865495\n",
            "[[1128  212]\n",
            " [ 231 1101]]\n",
            "              precision    recall  f1-score   support\n",
            "\n",
            "           0       0.83      0.84      0.84      1340\n",
            "           1       0.84      0.83      0.83      1332\n",
            "\n",
            "    accuracy                           0.83      2672\n",
            "   macro avg       0.83      0.83      0.83      2672\n",
            "weighted avg       0.83      0.83      0.83      2672\n",
            "\n"
          ]
        },
        {
          "output_type": "stream",
          "name": "stderr",
          "text": [
            "/usr/local/lib/python3.7/dist-packages/sklearn/utils/deprecation.py:87: FutureWarning: Function plot_confusion_matrix is deprecated; Function `plot_confusion_matrix` is deprecated in 1.0 and will be removed in 1.2. Use one of the class methods: ConfusionMatrixDisplay.from_predictions or ConfusionMatrixDisplay.from_estimator.\n",
            "  warnings.warn(msg, category=FutureWarning)\n",
            "/usr/local/lib/python3.7/dist-packages/sklearn/utils/deprecation.py:87: FutureWarning: Function plot_roc_curve is deprecated; Function :func:`plot_roc_curve` is deprecated in 1.0 and will be removed in 1.2. Use one of the class methods: :meth:`sklearn.metric.RocCurveDisplay.from_predictions` or :meth:`sklearn.metric.RocCurveDisplay.from_estimator`.\n",
            "  warnings.warn(msg, category=FutureWarning)\n"
          ]
        },
        {
          "output_type": "execute_result",
          "data": {
            "text/plain": [
              "<sklearn.metrics._plot.roc_curve.RocCurveDisplay at 0x7f8adcfca290>"
            ]
          },
          "metadata": {},
          "execution_count": 106
        },
        {
          "output_type": "display_data",
          "data": {
            "text/plain": [
              "<Figure size 360x180 with 2 Axes>"
            ],
            "image/png": "[encoded data removed]"
          },
          "metadata": {
            "needs_background": "light"
          }
        },
        {
          "output_type": "display_data",
          "data": {
            "text/plain": [
              "<Figure size 360x180 with 1 Axes>"
            ],
            "image/png": "[encoded data removed]"
          },
          "metadata": {
            "needs_background": "light"
          }
        }
      ],
      "source": [
        "# accuracy_score, confusion_matrix and classification_report\n",
        "\n",
        "xgb_train_acc = accuracy_score(Y_Train, xgb.predict(X_Train))\n",
        "xgb_test_acc = accuracy_score(Y_Test, y_pred)\n",
        "cohen_kappa = cohen_kappa_score(Y_Test, y_pred)\n",
        "\n",
        "print(f\"Training accuracy of XgBoost is : {xgb_train_acc}\")\n",
        "print(f\"Test accuracy of XgBoost is : {xgb_test_acc}\")\n",
        "print(f\"SVM cohen_kappa_score : {cohen_kappa}\")\n",
        "\n",
        "print(confusion_matrix(Y_Test, y_pred))\n",
        "print(classification_report(Y_Test, y_pred))\n",
        "plot_confusion_matrix(xgb, X_Test,Y_Test)\n",
        "plot_roc_curve(xgb, X_Test,Y_Test)"
      ]
    },
    {
      "cell_type": "code",
      "execution_count": null,
      "metadata": {
        "id": "Q66RK8YQa9it"
      },
      "outputs": [],
      "source": [
        "#tuning"
      ]
    },
    {
      "cell_type": "markdown",
      "source": [
        "**Tuning the best outcome result XGBOOST**"
      ],
      "metadata": {
        "id": "YPNnSaPTIncZ"
      }
    },
    {
      "cell_type": "code",
      "execution_count": 107,
      "metadata": {
        "colab": {
          "base_uri": "https://localhost:8080/"
        },
        "id": "KCrY05N2TXoU",
        "outputId": "251ffd1f-9f2c-4b8d-e6b2-e7ca75d4c70f"
      },
      "outputs": [
        {
          "output_type": "stream",
          "name": "stdout",
          "text": [
            "Fitting 5 folds for each of 64 candidates, totalling 320 fits\n"
          ]
        },
        {
          "output_type": "execute_result",
          "data": {
            "text/plain": [
              "GridSearchCV(cv=5, estimator=XGBClassifier(), n_jobs=-1,\n",
              "             param_grid={'criterion': ['gini', 'entropy'],\n",
              "                         'max_depth': range(2, 10),\n",
              "                         'n_estimators': [10, 50, 100, 130]},\n",
              "             verbose=3)"
            ]
          },
          "metadata": {},
          "execution_count": 107
        }
      ],
      "source": [
        "from sklearn.model_selection import GridSearchCV\n",
        "param_grid = {\"n_estimators\": [10, 50, 100, 130], \"criterion\": ['gini', 'entropy'],\n",
        "                               \"max_depth\": range(2, 10, 1)}\n",
        "\n",
        "grid_search = GridSearchCV(estimator=xgb, param_grid=param_grid, cv=5,  verbose=3,n_jobs=-1)\n",
        "grid_search.fit(X_Train, Y_Train)"
      ]
    },
    {
      "cell_type": "code",
      "execution_count": 108,
      "metadata": {
        "id": "oJpdYmQQYScW"
      },
      "outputs": [],
      "source": [
        "# best estimator \n",
        "\n",
        "xgb = grid_search.best_estimator_\n",
        "\n",
        "y_pred = xgb.predict(X_Test)"
      ]
    },
    {
      "cell_type": "code",
      "execution_count": 109,
      "metadata": {
        "colab": {
          "base_uri": "https://localhost:8080/",
          "height": 773
        },
        "id": "hCh-8YKQTXlU",
        "outputId": "0008b243-51e1-4a6b-93f8-52acaf69fc03"
      },
      "outputs": [
        {
          "output_type": "stream",
          "name": "stdout",
          "text": [
            "Training accuracy of XgBoost is : 0.9327157027886955\n",
            "Test accuracy of XgBoost is : 0.8817365269461078\n",
            "SVM cohen_kappa_score : 0.7635101525003697\n",
            "[[1145  195]\n",
            " [ 121 1211]]\n",
            "              precision    recall  f1-score   support\n",
            "\n",
            "           0       0.90      0.85      0.88      1340\n",
            "           1       0.86      0.91      0.88      1332\n",
            "\n",
            "    accuracy                           0.88      2672\n",
            "   macro avg       0.88      0.88      0.88      2672\n",
            "weighted avg       0.88      0.88      0.88      2672\n",
            "\n"
          ]
        },
        {
          "output_type": "stream",
          "name": "stderr",
          "text": [
            "/usr/local/lib/python3.7/dist-packages/sklearn/utils/deprecation.py:87: FutureWarning: Function plot_confusion_matrix is deprecated; Function `plot_confusion_matrix` is deprecated in 1.0 and will be removed in 1.2. Use one of the class methods: ConfusionMatrixDisplay.from_predictions or ConfusionMatrixDisplay.from_estimator.\n",
            "  warnings.warn(msg, category=FutureWarning)\n",
            "/usr/local/lib/python3.7/dist-packages/sklearn/utils/deprecation.py:87: FutureWarning: Function plot_roc_curve is deprecated; Function :func:`plot_roc_curve` is deprecated in 1.0 and will be removed in 1.2. Use one of the class methods: :meth:`sklearn.metric.RocCurveDisplay.from_predictions` or :meth:`sklearn.metric.RocCurveDisplay.from_estimator`.\n",
            "  warnings.warn(msg, category=FutureWarning)\n"
          ]
        },
        {
          "output_type": "execute_result",
          "data": {
            "text/plain": [
              "<sklearn.metrics._plot.roc_curve.RocCurveDisplay at 0x7f8adcfae2d0>"
            ]
          },
          "metadata": {},
          "execution_count": 109
        },
        {
          "output_type": "display_data",
          "data": {
            "text/plain": [
              "<Figure size 360x180 with 2 Axes>"
            ],
            "image/png": "[encoded data removed]"
          },
          "metadata": {
            "needs_background": "light"
          }
        },
        {
          "output_type": "display_data",
          "data": {
            "text/plain": [
              "<Figure size 360x180 with 1 Axes>"
            ],
            "image/png": "[encoded data removed]"
          },
          "metadata": {
            "needs_background": "light"
          }
        }
      ],
      "source": [
        "# accuracy_score, confusion_matrix and classification_report\n",
        "\n",
        "xgb_train_acc = accuracy_score(Y_Train, xgb.predict(X_Train))\n",
        "xgb_test_acc = accuracy_score(Y_Test, y_pred)\n",
        "cohen_kappa = cohen_kappa_score(Y_Test, y_pred)\n",
        "\n",
        "print(f\"Training accuracy of XgBoost is : {xgb_train_acc}\")\n",
        "print(f\"Test accuracy of XgBoost is : {xgb_test_acc}\")\n",
        "print(f\"XGB cohen_kappa_score : {cohen_kappa}\")\n",
        "\n",
        "print(confusion_matrix(Y_Test, y_pred))\n",
        "print(classification_report(Y_Test, y_pred))\n",
        "plot_confusion_matrix(xgb, X_Test,Y_Test)\n",
        "plot_roc_curve(xgb, X_Test,Y_Test)"
      ]
    },
    {
      "cell_type": "markdown",
      "source": [
        "**RandomForestClassifier**"
      ],
      "metadata": {
        "id": "VU3iOBCZJ8w3"
      }
    },
    {
      "cell_type": "code",
      "execution_count": 110,
      "metadata": {
        "colab": {
          "base_uri": "https://localhost:8080/"
        },
        "id": "xgl2b5_DogPa",
        "outputId": "8510840e-c3fa-4469-9356-f541b1c6e4b3"
      },
      "outputs": [
        {
          "output_type": "stream",
          "name": "stdout",
          "text": [
            "Length of X Train : 7741\n",
            "Length of X Test  : 1936\n"
          ]
        }
      ],
      "source": [
        "#we split the test and training data for modeling\n",
        "\n",
        "from sklearn.model_selection import train_test_split\n",
        "X_Train, X_Test, Y_Train, Y_Test = train_test_split(X,Y,test_size = 0.2,  random_state=0 )\n",
        "print('Length of X Train :', len(X_Train) )\n",
        "print('Length of X Test  :', len(X_Test) )"
      ]
    },
    {
      "cell_type": "code",
      "execution_count": 111,
      "metadata": {
        "id": "CuBVZsVqTXi1"
      },
      "outputs": [],
      "source": [
        "from sklearn.ensemble import RandomForestClassifier\n",
        "\n",
        "rand_clf = RandomForestClassifier(criterion= 'entropy', max_depth= 10, max_features= 'sqrt', min_samples_leaf= 1, min_samples_split= 3, n_estimators= 140)\n",
        "rand_clf.fit(X_Train, Y_Train)\n",
        "\n",
        "y_pred = rand_clf.predict(X_Test)"
      ]
    },
    {
      "cell_type": "code",
      "execution_count": 113,
      "metadata": {
        "colab": {
          "base_uri": "https://localhost:8080/",
          "height": 772
        },
        "id": "9mJSpi9lYlyp",
        "outputId": "182e331a-1a20-43f3-81e7-043b52d75f8d"
      },
      "outputs": [
        {
          "output_type": "stream",
          "name": "stdout",
          "text": [
            "Training accuracy of Random Forest is : 0.8763725616845369\n",
            "Test accuracy of Random Forest is : 0.8403925619834711\n",
            "RF cohen_kappa_score : 0.6125943866647671\n",
            "[[1221  121]\n",
            " [ 188  406]]\n",
            "              precision    recall  f1-score   support\n",
            "\n",
            "           0       0.87      0.91      0.89      1342\n",
            "           1       0.77      0.68      0.72       594\n",
            "\n",
            "    accuracy                           0.84      1936\n",
            "   macro avg       0.82      0.80      0.81      1936\n",
            "weighted avg       0.84      0.84      0.84      1936\n",
            "\n"
          ]
        },
        {
          "output_type": "stream",
          "name": "stderr",
          "text": [
            "/usr/local/lib/python3.7/dist-packages/sklearn/utils/deprecation.py:87: FutureWarning: Function plot_confusion_matrix is deprecated; Function `plot_confusion_matrix` is deprecated in 1.0 and will be removed in 1.2. Use one of the class methods: ConfusionMatrixDisplay.from_predictions or ConfusionMatrixDisplay.from_estimator.\n",
            "  warnings.warn(msg, category=FutureWarning)\n",
            "/usr/local/lib/python3.7/dist-packages/sklearn/utils/deprecation.py:87: FutureWarning: Function plot_roc_curve is deprecated; Function :func:`plot_roc_curve` is deprecated in 1.0 and will be removed in 1.2. Use one of the class methods: :meth:`sklearn.metric.RocCurveDisplay.from_predictions` or :meth:`sklearn.metric.RocCurveDisplay.from_estimator`.\n",
            "  warnings.warn(msg, category=FutureWarning)\n"
          ]
        },
        {
          "output_type": "execute_result",
          "data": {
            "text/plain": [
              "<sklearn.metrics._plot.roc_curve.RocCurveDisplay at 0x7f8adcd13410>"
            ]
          },
          "metadata": {},
          "execution_count": 113
        },
        {
          "output_type": "display_data",
          "data": {
            "text/plain": [
              "<Figure size 360x180 with 2 Axes>"
            ],
            "image/png": "[encoded data removed]"
          },
          "metadata": {
            "needs_background": "light"
          }
        },
        {
          "output_type": "display_data",
          "data": {
            "text/plain": [
              "<Figure size 360x180 with 1 Axes>"
            ],
            "image/png": "[encoded data removed]"
          },
          "metadata": {
            "needs_background": "light"
          }
        }
      ],
      "source": [
        "# accuracy_score, confusion_matrix and classification_report\n",
        "\n",
        "from sklearn.metrics import accuracy_score, confusion_matrix, classification_report,plot_confusion_matrix,plot_roc_curve\n",
        "\n",
        "rand_clf_train_acc = accuracy_score(Y_Train, rand_clf.predict(X_Train))\n",
        "rand_clf_test_acc = accuracy_score(Y_Test, y_pred)\n",
        "cohen_kappa = cohen_kappa_score(Y_Test, y_pred)\n",
        "\n",
        "print(f\"Training accuracy of Random Forest is : {rand_clf_train_acc}\")\n",
        "print(f\"Test accuracy of Random Forest is : {rand_clf_test_acc}\")\n",
        "print(f\"RF cohen_kappa_score : {cohen_kappa}\")\n",
        "\n",
        "print(confusion_matrix(Y_Test, y_pred))\n",
        "\n",
        "print(classification_report(Y_Test, y_pred))\n",
        "plot_confusion_matrix(rand_clf, X_Test,Y_Test)\n",
        "plot_roc_curve(rand_clf, X_Test,Y_Test)"
      ]
    },
    {
      "cell_type": "code",
      "execution_count": null,
      "metadata": {
        "id": "YZmlAw4vYlwL"
      },
      "outputs": [],
      "source": [
        "#applying smote"
      ]
    },
    {
      "cell_type": "markdown",
      "source": [
        "**Apply Randomoversampling for RFC**"
      ],
      "metadata": {
        "id": "Yc2UYXqaKlYS"
      }
    },
    {
      "cell_type": "code",
      "execution_count": 114,
      "metadata": {
        "colab": {
          "base_uri": "https://localhost:8080/"
        },
        "id": "KV8_MAN9Yltz",
        "outputId": "cffb62f2-0708-477b-dc47-fe67847cd90f"
      },
      "outputs": [
        {
          "output_type": "stream",
          "name": "stdout",
          "text": [
            "Length of X Train : 10686\n",
            "Length of X Test  : 2672\n"
          ]
        }
      ],
      "source": [
        "from sklearn.model_selection import train_test_split\n",
        "X_Train, X_Test, Y_Train, Y_Test = train_test_split(X_train_result,y_train_result,test_size = 0.2,  random_state=0 )\n",
        "print('Length of X Train :', len(X_Train) )\n",
        "print('Length of X Test  :', len(X_Test) )"
      ]
    },
    {
      "cell_type": "code",
      "execution_count": 115,
      "metadata": {
        "id": "JjpAEsLsY7JT"
      },
      "outputs": [],
      "source": [
        "from sklearn.ensemble import RandomForestClassifier\n",
        "\n",
        "rand_clf = RandomForestClassifier(criterion= 'entropy', max_depth= 10, max_features= 'sqrt', min_samples_leaf= 1, min_samples_split= 3, n_estimators= 140)\n",
        "rand_clf.fit(X_Train, Y_Train)\n",
        "\n",
        "y_pred = rand_clf.predict(X_Test)"
      ]
    },
    {
      "cell_type": "code",
      "execution_count": 116,
      "metadata": {
        "colab": {
          "base_uri": "https://localhost:8080/",
          "height": 771
        },
        "id": "US5fJVNW1KXE",
        "outputId": "40b3fb61-82b0-4953-d130-174194def9c5"
      },
      "outputs": [
        {
          "output_type": "stream",
          "name": "stdout",
          "text": [
            "Training accuracy of Random Forest is : 0.8740408010481003\n",
            "Test accuracy of Random Forest is : 0.8525449101796407\n",
            "RF cohen_kappa_score : 0.704767775185942\n",
            "[[1093  210]\n",
            " [ 184 1185]]\n",
            "              precision    recall  f1-score   support\n",
            "\n",
            "           0       0.86      0.84      0.85      1303\n",
            "           1       0.85      0.87      0.86      1369\n",
            "\n",
            "    accuracy                           0.85      2672\n",
            "   macro avg       0.85      0.85      0.85      2672\n",
            "weighted avg       0.85      0.85      0.85      2672\n",
            "\n"
          ]
        },
        {
          "output_type": "stream",
          "name": "stderr",
          "text": [
            "/usr/local/lib/python3.7/dist-packages/sklearn/utils/deprecation.py:87: FutureWarning: Function plot_confusion_matrix is deprecated; Function `plot_confusion_matrix` is deprecated in 1.0 and will be removed in 1.2. Use one of the class methods: ConfusionMatrixDisplay.from_predictions or ConfusionMatrixDisplay.from_estimator.\n",
            "  warnings.warn(msg, category=FutureWarning)\n",
            "/usr/local/lib/python3.7/dist-packages/sklearn/utils/deprecation.py:87: FutureWarning: Function plot_roc_curve is deprecated; Function :func:`plot_roc_curve` is deprecated in 1.0 and will be removed in 1.2. Use one of the class methods: :meth:`sklearn.metric.RocCurveDisplay.from_predictions` or :meth:`sklearn.metric.RocCurveDisplay.from_estimator`.\n",
            "  warnings.warn(msg, category=FutureWarning)\n"
          ]
        },
        {
          "output_type": "execute_result",
          "data": {
            "text/plain": [
              "<sklearn.metrics._plot.roc_curve.RocCurveDisplay at 0x7f8add1110d0>"
            ]
          },
          "metadata": {},
          "execution_count": 116
        },
        {
          "output_type": "display_data",
          "data": {
            "text/plain": [
              "<Figure size 360x180 with 2 Axes>"
            ],
            "image/png": "[encoded data removed]"
          },
          "metadata": {
            "needs_background": "light"
          }
        },
        {
          "output_type": "display_data",
          "data": {
            "text/plain": [
              "<Figure size 360x180 with 1 Axes>"
            ],
            "image/png": "[encoded data removed]"
          },
          "metadata": {
            "needs_background": "light"
          }
        }
      ],
      "source": [
        "# accuracy_score, confusion_matrix and classification_report\n",
        "\n",
        "from sklearn.metrics import accuracy_score, confusion_matrix, classification_report,plot_confusion_matrix,plot_roc_curve\n",
        "\n",
        "rand_clf_train_acc = accuracy_score(Y_Train, rand_clf.predict(X_Train))\n",
        "rand_clf_test_acc = accuracy_score(Y_Test, y_pred)\n",
        "cohen_kappa = cohen_kappa_score(Y_Test, y_pred)\n",
        "\n",
        "print(f\"Training accuracy of Random Forest is : {rand_clf_train_acc}\")\n",
        "print(f\"Test accuracy of Random Forest is : {rand_clf_test_acc}\")\n",
        "print(f\"RF cohen_kappa_score : {cohen_kappa}\")\n",
        "\n",
        "print(confusion_matrix(Y_Test, y_pred))\n",
        "\n",
        "print(classification_report(Y_Test, y_pred))\n",
        "plot_confusion_matrix(rand_clf, X_Test,Y_Test)\n",
        "plot_roc_curve(rand_clf, X_Test,Y_Test)"
      ]
    },
    {
      "cell_type": "markdown",
      "source": [
        "**END OF THE CODE**"
      ],
      "metadata": {
        "id": "wFHkDr0WK6O-"
      }
    }
  ],
  "metadata": {
    "colab": {
      "name": "Carinsurancclaim_DATASET_3.ipynb",
      "provenance": []
    },
    "kernelspec": {
      "display_name": "Python 3",
      "name": "python3"
    },
    "language_info": {
      "name": "python"
    }
  },
  "nbformat": 4,
  "nbformat_minor": 0
}